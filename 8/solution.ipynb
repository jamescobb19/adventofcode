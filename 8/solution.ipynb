{
 "cells": [
  {
   "cell_type": "code",
   "execution_count": 86,
   "metadata": {},
   "outputs": [
    {
     "data": {
      "text/plain": [
       "\u001b[32mimport \u001b[36mscala.collection.mutable.ListBuffer\u001b[0m\n",
       "\u001b[32mimport \u001b[36mscala.io.Source\u001b[0m\n",
       "\u001b[36mfilename\u001b[0m: \u001b[32mString\u001b[0m = \u001b[32m\"input\"\u001b[0m\n",
       "\u001b[36mnumSequence\u001b[0m: \u001b[32mArray\u001b[0m[\u001b[32mInt\u001b[0m] = \u001b[33mArray\u001b[0m(\n",
       "  \u001b[32m9\u001b[0m,\n",
       "  \u001b[32m11\u001b[0m,\n",
       "  \u001b[32m6\u001b[0m,\n",
       "  \u001b[32m2\u001b[0m,\n",
       "  \u001b[32m4\u001b[0m,\n",
       "  \u001b[32m5\u001b[0m,\n",
       "  \u001b[32m3\u001b[0m,\n",
       "  \u001b[32m5\u001b[0m,\n",
       "  \u001b[32m1\u001b[0m,\n",
       "  \u001b[32m7\u001b[0m,\n",
       "  \u001b[32m0\u001b[0m,\n",
       "  \u001b[32m9\u001b[0m,\n",
       "  \u001b[32m2\u001b[0m,\n",
       "  \u001b[32m9\u001b[0m,\n",
       "\u001b[33m...\u001b[0m"
      ]
     },
     "metadata": {},
     "output_type": "display_data"
    }
   ],
   "source": [
    "import scala.collection.mutable.ListBuffer\n",
    "import scala.io.Source\n",
    "val filename = \"input\"\n",
    "val numSequence = Source.fromFile(filename).getLines.next.split(\" \").map(x => x.toInt)"
   ]
  },
  {
   "cell_type": "code",
   "execution_count": 1,
   "metadata": {},
   "outputs": [
    {
     "ename": "",
     "evalue": "",
     "output_type": "error",
     "traceback": [
      "\u001b[31m<console>:1: identifier expected but ']' found.",
      "class Node(var metadata : Array[Int], var remainingChildren : Int, var childrenNodes: List[]) {",
      "                                                                                           ^\u001b[0m",
      "\u001b[31m<console>:3: ']' expected but eof found.",
      "}",
      " ^\u001b[0m"
     ]
    }
   ],
   "source": [
    "/* Could use a node object to represent the nodes of the tree, storing:\n",
    "The node metadata\n",
    "A counter for the remaining children to parse\n",
    "The children nodes\n",
    "*/\n",
    "class Node(var metadata : Array[Int], var remainingChildren : Int, var childrenNodes: List[]) {\n",
    "    \n",
    "}"
   ]
  },
  {
   "cell_type": "code",
   "execution_count": 48,
   "metadata": {},
   "outputs": [
    {
     "data": {
      "text/plain": [
       "defined \u001b[32mfunction \u001b[36mparseChildren\u001b[0m"
      ]
     },
     "metadata": {},
     "output_type": "display_data"
    }
   ],
   "source": [
    "// Continually read the line numbers, storing how many children we'll need to read with each node\n",
    "//[1 1 [0 2 2 2] 2]\n",
    "def parseChildren(seq : Seq[Int], childrenToRead : Int, incomingMetadataAmount: Int, level: Int) : (Seq[Int], Int) = {\n",
    "    var mutableSeq = seq\n",
    "    //println(\"Starting sequence: \", mutableSeq)\n",
    "    var metadataAmount = incomingMetadataAmount\n",
    "    for (i <- 1 to childrenToRead) {\n",
    "        //println(\"Level: \", level)\n",
    "        val numChildren = mutableSeq(0)\n",
    "        //println(\"Num Children: \", numChildren)\n",
    "        val numMetadata = mutableSeq(1)\n",
    "        //println(\"Num Metadata: \", numMetadata)\n",
    "        mutableSeq = mutableSeq.drop(2)\n",
    "        if (numChildren != 0) {\n",
    "            val returnVals = parseChildren(mutableSeq, numChildren, 0, level+1)\n",
    "            mutableSeq = returnVals._1\n",
    "            //println(\"Returned metadata amount: \", returnVals._2)\n",
    "            metadataAmount += returnVals._2\n",
    "            //println(\"Updated metadata amount: \", metadataAmount)\n",
    "        }\n",
    "        val metadata = mutableSeq.slice(0, numMetadata)\n",
    "        metadataAmount += metadata.sum\n",
    "        //println(\"Metadata: \", metadata)\n",
    "        //println(\"Metadata Amount: \", metadataAmount)\n",
    "        mutableSeq = mutableSeq.drop(numMetadata)\n",
    "        //println(\"Remaining Seq: \", mutableSeq)\n",
    "    }\n",
    "    return (mutableSeq, metadataAmount)\n",
    "}"
   ]
  },
  {
   "cell_type": "code",
   "execution_count": 49,
   "metadata": {},
   "outputs": [
    {
     "data": {
      "text/plain": [
       "\u001b[36mres38\u001b[0m: (\u001b[32mSeq\u001b[0m[\u001b[32mInt\u001b[0m], \u001b[32mInt\u001b[0m) = \u001b[33m\u001b[0m(\u001b[33mArray\u001b[0m(), \u001b[32m46096\u001b[0m)"
      ]
     },
     "metadata": {},
     "output_type": "display_data"
    }
   ],
   "source": [
    "parseChildren(numSequence, 1, 0, 1)"
   ]
  },
  {
   "cell_type": "markdown",
   "metadata": {},
   "source": [
    "## Part 2"
   ]
  },
  {
   "cell_type": "code",
   "execution_count": 85,
   "metadata": {},
   "outputs": [
    {
     "data": {
      "text/plain": [
       "defined \u001b[32mfunction \u001b[36mparseChildren\u001b[0m"
      ]
     },
     "metadata": {},
     "output_type": "display_data"
    }
   ],
   "source": [
    "// Continually read the line numbers, storing how many children we'll need to read with each node\n",
    "def parseChildren(seq : Seq[Int], childrenToRead : Int, level: Int) : (Seq[Int], Seq[Int]) = {\n",
    "    var mutableSeq = seq\n",
    "    //println(\"Starting sequence: \", mutableSeq)\n",
    "    var metadataAmounts = Array.ofDim[Int](childrenToRead)\n",
    "    for (i <- 0 to childrenToRead-1) {\n",
    "        //println(\"Level: \", level)\n",
    "        //println(\"Num Children: \", childrenToRead)\n",
    "        val numChildren = mutableSeq(0)\n",
    "        //println(\"Num Children: \", numChildren)\n",
    "        val numMetadata = mutableSeq(1)\n",
    "        //println(\"Num Metadata: \", numMetadata)\n",
    "        mutableSeq = mutableSeq.drop(2)\n",
    "        if (numChildren == 0) {\n",
    "            metadataAmounts(i) = mutableSeq.slice(0, numMetadata).sum\n",
    "            //println(\"Metadata Amounts: \", metadataAmounts)\n",
    "            mutableSeq = mutableSeq.drop(numMetadata)\n",
    "            //println(\"Remaining Seq: \", mutableSeq)\n",
    "        }\n",
    "        \n",
    "        else {\n",
    "            val returnVals = parseChildren(mutableSeq, numChildren, level+1)\n",
    "            mutableSeq = returnVals._1\n",
    "            val returnedMetadataAmounts = returnVals._2\n",
    "            //println(\"Returned metadata amount: \", returnedMetadataAmounts)           \n",
    "            val metadata = mutableSeq.slice(0, numMetadata)\n",
    "            //println(\"Metadata: \", metadata)\n",
    "            var nodeValue = 0\n",
    "            for (j <- metadata) {\n",
    "                if (j > 0 && j <= returnedMetadataAmounts.length)  {\n",
    "                    nodeValue += returnedMetadataAmounts(j-1)\n",
    "                }\n",
    "            }\n",
    "            metadataAmounts(i) = nodeValue\n",
    "            //println(\"This node value: \", nodeValue)\n",
    "            mutableSeq = mutableSeq.drop(numMetadata)\n",
    "            //println(\"Remaining Seq: \", mutableSeq)\n",
    "        }\n",
    "    }\n",
    "    return (mutableSeq, metadataAmounts)\n",
    "}"
   ]
  },
  {
   "cell_type": "code",
   "execution_count": 87,
   "metadata": {},
   "outputs": [
    {
     "data": {
      "text/plain": [
       "\u001b[36mres67\u001b[0m: (\u001b[32mSeq\u001b[0m[\u001b[32mInt\u001b[0m], \u001b[32mSeq\u001b[0m[\u001b[32mInt\u001b[0m]) = \u001b[33m\u001b[0m(\u001b[33mArray\u001b[0m(), \u001b[33mArray\u001b[0m(\u001b[32m24820\u001b[0m))"
      ]
     },
     "metadata": {},
     "output_type": "display_data"
    }
   ],
   "source": [
    "parseChildren(numSequence, 1, 1)"
   ]
  },
  {
   "cell_type": "code",
   "execution_count": 82,
   "metadata": {},
   "outputs": [
    {
     "name": "stdout",
     "output_type": "stream",
     "text": [
      "10\n",
      "10\n",
      "1\n"
     ]
    },
    {
     "data": {
      "text/plain": [
       "\u001b[36ma\u001b[0m: \u001b[32mArray\u001b[0m[\u001b[32mInt\u001b[0m] = \u001b[33mArray\u001b[0m(\u001b[32m5\u001b[0m, \u001b[32m1\u001b[0m, \u001b[32m1\u001b[0m, \u001b[32m0\u001b[0m, \u001b[32m3\u001b[0m)\n",
       "\u001b[36mscores\u001b[0m: \u001b[32mArray\u001b[0m[\u001b[32mInt\u001b[0m] = \u001b[33mArray\u001b[0m(\u001b[32m10\u001b[0m, \u001b[32m30\u001b[0m, \u001b[32m1\u001b[0m)\n",
       "\u001b[36mtotal\u001b[0m: \u001b[32mInt\u001b[0m = \u001b[32m0\u001b[0m\n",
       "\u001b[36mres62_4\u001b[0m: \u001b[32mInt\u001b[0m = \u001b[32m0\u001b[0m"
      ]
     },
     "metadata": {},
     "output_type": "display_data"
    }
   ],
   "source": [
    "val a = Array(5,1,1,0,3)\n",
    "val scores = Array(10,30,1)\n",
    "var total = 0\n",
    "for (j <- a) {\n",
    "    if (j > 0 && j <= scores.length) \n",
    "    println(scores(j-1))\n",
    "} \n",
    "total"
   ]
  }
 ],
 "metadata": {
  "kernelspec": {
   "display_name": "Scala 2.11",
   "language": "scala211",
   "name": "scala211"
  },
  "language_info": {
   "codemirror_mode": "text/x-scala",
   "file_extension": ".scala",
   "mimetype": "text/x-scala",
   "name": "scala211",
   "pygments_lexer": "scala",
   "version": "2.11.6"
  }
 },
 "nbformat": 4,
 "nbformat_minor": 2
}
