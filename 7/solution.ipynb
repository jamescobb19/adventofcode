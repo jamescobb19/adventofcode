{
 "cells": [
  {
   "cell_type": "markdown",
   "metadata": {},
   "source": [
    "## Part 1"
   ]
  },
  {
   "cell_type": "code",
   "execution_count": 51,
   "metadata": {},
   "outputs": [
    {
     "data": {
      "text/plain": [
       "\u001b[32mimport \u001b[36mscala.io.Source\u001b[0m\n",
       "\u001b[32mimport \u001b[36mscala.collection.mutable.ListBuffer\u001b[0m\n",
       "\u001b[36mfilename\u001b[0m: \u001b[32mString\u001b[0m = \u001b[32m\"input\"\u001b[0m\n",
       "\u001b[36mlines\u001b[0m: \u001b[32mList\u001b[0m[(\u001b[32mString\u001b[0m, \u001b[32mString\u001b[0m)] = \u001b[33mList\u001b[0m(\n",
       "  \u001b[33m\u001b[0m(\u001b[32m\"R\"\u001b[0m, \u001b[32m\"Y\"\u001b[0m),\n",
       "  \u001b[33m\u001b[0m(\u001b[32m\"N\"\u001b[0m, \u001b[32m\"T\"\u001b[0m),\n",
       "  \u001b[33m\u001b[0m(\u001b[32m\"C\"\u001b[0m, \u001b[32m\"L\"\u001b[0m),\n",
       "  \u001b[33m\u001b[0m(\u001b[32m\"F\"\u001b[0m, \u001b[32m\"B\"\u001b[0m),\n",
       "  \u001b[33m\u001b[0m(\u001b[32m\"L\"\u001b[0m, \u001b[32m\"D\"\u001b[0m),\n",
       "  \u001b[33m\u001b[0m(\u001b[32m\"T\"\u001b[0m, \u001b[32m\"D\"\u001b[0m),\n",
       "  \u001b[33m\u001b[0m(\u001b[32m\"O\"\u001b[0m, \u001b[32m\"E\"\u001b[0m),\n",
       "  \u001b[33m\u001b[0m(\u001b[32m\"M\"\u001b[0m, \u001b[32m\"Z\"\u001b[0m),\n",
       "  \u001b[33m\u001b[0m(\u001b[32m\"A\"\u001b[0m, \u001b[32m\"V\"\u001b[0m),\n",
       "  \u001b[33m\u001b[0m(\u001b[32m\"K\"\u001b[0m, \u001b[32m\"D\"\u001b[0m),\n",
       "  \u001b[33m\u001b[0m(\u001b[32m\"W\"\u001b[0m, \u001b[32m\"I\"\u001b[0m),\n",
       "  \u001b[33m\u001b[0m(\u001b[32m\"B\"\u001b[0m, \u001b[32m\"J\"\u001b[0m),\n",
       "  \u001b[33m\u001b[0m(\u001b[32m\"H\"\u001b[0m, \u001b[32m\"D\"\u001b[0m),\n",
       "  \u001b[33m\u001b[0m(\u001b[32m\"P\"\u001b[0m, \u001b[32m\"J\"\u001b[0m),\n",
       "\u001b[33m...\u001b[0m"
      ]
     },
     "metadata": {},
     "output_type": "display_data"
    }
   ],
   "source": [
    "import scala.io.Source\n",
    "import scala.collection.mutable.ListBuffer\n",
    "\n",
    "val filename = \"input\"\n",
    "val lines = Source.fromFile(filename).getLines.toList.map(line => line.split(\" \")).map(strings => (strings(1), strings(7)))"
   ]
  },
  {
   "cell_type": "code",
   "execution_count": 52,
   "metadata": {},
   "outputs": [
    {
     "data": {
      "text/plain": [
       "\u001b[36mdependents\u001b[0m: \u001b[32mMap\u001b[0m[\u001b[32mString\u001b[0m, \u001b[32mList\u001b[0m[\u001b[32mString\u001b[0m]] = \u001b[33mMap\u001b[0m(\n",
       "  \u001b[32m\"E\"\u001b[0m -> \u001b[33mList\u001b[0m(\n",
       "    \u001b[32m\"O\"\u001b[0m,\n",
       "    \u001b[32m\"Y\"\u001b[0m,\n",
       "    \u001b[32m\"G\"\u001b[0m,\n",
       "    \u001b[32m\"D\"\u001b[0m,\n",
       "    \u001b[32m\"U\"\u001b[0m,\n",
       "    \u001b[32m\"I\"\u001b[0m,\n",
       "    \u001b[32m\"Q\"\u001b[0m,\n",
       "    \u001b[32m\"Z\"\u001b[0m,\n",
       "    \u001b[32m\"W\"\u001b[0m,\n",
       "    \u001b[32m\"P\"\u001b[0m,\n",
       "    \u001b[32m\"N\"\u001b[0m\n",
       "  ),\n",
       "  \u001b[32m\"X\"\u001b[0m -> \u001b[33mList\u001b[0m(\u001b[32m\"S\"\u001b[0m, \u001b[32m\"J\"\u001b[0m, \u001b[32m\"Q\"\u001b[0m, \u001b[32m\"Y\"\u001b[0m, \u001b[32m\"Z\"\u001b[0m\u001b[33m...\u001b[0m"
      ]
     },
     "metadata": {},
     "output_type": "display_data"
    }
   ],
   "source": [
    "// These lines now represent dependencies - line(0) must be finished before line(1)\n",
    "val dependents = lines.groupBy(x => x._2).map({case (task, deps) => task -> deps.map(x => x._1)})"
   ]
  },
  {
   "cell_type": "code",
   "execution_count": 53,
   "metadata": {},
   "outputs": [
    {
     "data": {
      "text/plain": [
       "\u001b[36mallTasks\u001b[0m: \u001b[32mSet\u001b[0m[\u001b[32mString\u001b[0m] = \u001b[33mSet\u001b[0m(\n",
       "  \u001b[32m\"E\"\u001b[0m,\n",
       "  \u001b[32m\"X\"\u001b[0m,\n",
       "  \u001b[32m\"N\"\u001b[0m,\n",
       "  \u001b[32m\"T\"\u001b[0m,\n",
       "  \u001b[32m\"Y\"\u001b[0m,\n",
       "  \u001b[32m\"J\"\u001b[0m,\n",
       "  \u001b[32m\"U\"\u001b[0m,\n",
       "  \u001b[32m\"F\"\u001b[0m,\n",
       "  \u001b[32m\"A\"\u001b[0m,\n",
       "  \u001b[32m\"M\"\u001b[0m,\n",
       "  \u001b[32m\"I\"\u001b[0m,\n",
       "  \u001b[32m\"G\"\u001b[0m,\n",
       "  \u001b[32m\"V\"\u001b[0m,\n",
       "  \u001b[32m\"Q\"\u001b[0m,\n",
       "\u001b[33m...\u001b[0m"
      ]
     },
     "metadata": {},
     "output_type": "display_data"
    }
   ],
   "source": [
    "val allTasks = lines.flatMap(x => List(x._1, x._2)).toSet"
   ]
  },
  {
   "cell_type": "code",
   "execution_count": 54,
   "metadata": {},
   "outputs": [
    {
     "data": {
      "text/plain": [
       "\u001b[36mlettersToProcess\u001b[0m: \u001b[32mListBuffer\u001b[0m[\u001b[32mString\u001b[0m] = \u001b[33mListBuffer\u001b[0m(\u001b[32m\"C\"\u001b[0m, \u001b[32m\"F\"\u001b[0m, \u001b[32m\"N\"\u001b[0m, \u001b[32m\"R\"\u001b[0m)\n",
       "\u001b[36mallDependents\u001b[0m: \u001b[32mMap\u001b[0m[\u001b[32mString\u001b[0m, \u001b[32mList\u001b[0m[\u001b[32mString\u001b[0m]] = \u001b[33mMap\u001b[0m(\n",
       "  \u001b[32m\"E\"\u001b[0m -> \u001b[33mList\u001b[0m(\n",
       "    \u001b[32m\"O\"\u001b[0m,\n",
       "    \u001b[32m\"Y\"\u001b[0m,\n",
       "    \u001b[32m\"G\"\u001b[0m,\n",
       "    \u001b[32m\"D\"\u001b[0m,\n",
       "    \u001b[32m\"U\"\u001b[0m,\n",
       "    \u001b[32m\"I\"\u001b[0m,\n",
       "    \u001b[32m\"Q\"\u001b[0m,\n",
       "    \u001b[32m\"Z\"\u001b[0m,\n",
       "    \u001b[32m\"W\"\u001b[0m,\n",
       "    \u001b[32m\"P\"\u001b[0m,\n",
       "    \u001b[32m\"N\"\u001b[0m\n",
       "  ),\n",
       "  \u001b[32m\"X\"\u001b[0m -> \u001b[33mList\u001b[0m(\u001b[32m\"S\"\u001b[0m, \u001b[32m\"J\"\u001b[0m, \u001b[32m\"Q\"\u001b[0m, \u001b[32m\"Y\"\u001b[0m, \u001b[32m\"Z\"\u001b[0m\u001b[33m...\u001b[0m\n",
       "\u001b[36mcompletedLetters\u001b[0m: \u001b[32mcollection\u001b[0m.\u001b[32mmutable\u001b[0m.\u001b[32mSet\u001b[0m[\u001b[32mString\u001b[0m] = \u001b[33mSet\u001b[0m()"
      ]
     },
     "metadata": {},
     "output_type": "display_data"
    }
   ],
   "source": [
    "// Initialise the task list (ListBuffer)\n",
    "var lettersToProcess = allTasks.toList.filter(task => !dependents.contains(task)).sorted.to[ListBuffer]\n",
    "// Ensure the dependents list contains empty lists for the non-dependent tasks\n",
    "val allDependents = dependents ++ lettersToProcess.map(letter => letter -> List())\n",
    "var completedLetters = scala.collection.mutable.Set[String]()"
   ]
  },
  {
   "cell_type": "code",
   "execution_count": 55,
   "metadata": {},
   "outputs": [
    {
     "name": "stdout",
     "output_type": "stream",
     "text": [
      "CFMNLOAHRKPTWBJSYZVGUQXIDE"
     ]
    },
    {
     "data": {
      "text/plain": []
     },
     "metadata": {},
     "output_type": "display_data"
    }
   ],
   "source": [
    "while (!lettersToProcess.isEmpty) {\n",
    "    val letter = lettersToProcess.head\n",
    "    print(letter)\n",
    "    completedLetters += letter\n",
    "    // Recalculate lettersToProcess\n",
    "    lettersToProcess = allDependents.filter({case (task, deps) => deps.forall(x => completedLetters.contains(x))})\n",
    "        .map(x => x._1)\n",
    "        .filter(task => !completedLetters.contains(task))\n",
    "        .to[ListBuffer].sorted   \n",
    "}"
   ]
  },
  {
   "cell_type": "markdown",
   "metadata": {},
   "source": [
    "## Part 2"
   ]
  },
  {
   "cell_type": "code",
   "execution_count": 56,
   "metadata": {},
   "outputs": [
    {
     "data": {
      "text/plain": [
       "\u001b[36mstepDuration\u001b[0m: \u001b[32mInt\u001b[0m = \u001b[32m60\u001b[0m\n",
       "\u001b[36mtaskSecondsMap\u001b[0m: \u001b[32mMap\u001b[0m[\u001b[32mString\u001b[0m, \u001b[32mInt\u001b[0m] = \u001b[33mMap\u001b[0m(\n",
       "  \u001b[32m\"E\"\u001b[0m -> \u001b[32m65\u001b[0m,\n",
       "  \u001b[32m\"X\"\u001b[0m -> \u001b[32m84\u001b[0m,\n",
       "  \u001b[32m\"N\"\u001b[0m -> \u001b[32m74\u001b[0m,\n",
       "  \u001b[32m\"T\"\u001b[0m -> \u001b[32m80\u001b[0m,\n",
       "  \u001b[32m\"Y\"\u001b[0m -> \u001b[32m85\u001b[0m,\n",
       "  \u001b[32m\"J\"\u001b[0m -> \u001b[32m70\u001b[0m,\n",
       "  \u001b[32m\"U\"\u001b[0m -> \u001b[32m81\u001b[0m,\n",
       "  \u001b[32m\"F\"\u001b[0m -> \u001b[32m66\u001b[0m,\n",
       "  \u001b[32m\"A\"\u001b[0m -> \u001b[32m61\u001b[0m,\n",
       "  \u001b[32m\"M\"\u001b[0m -> \u001b[32m73\u001b[0m,\n",
       "  \u001b[32m\"I\"\u001b[0m -> \u001b[32m69\u001b[0m,\n",
       "  \u001b[32m\"G\"\u001b[0m -> \u001b[32m67\u001b[0m,\n",
       "  \u001b[32m\"V\"\u001b[0m -> \u001b[32m82\u001b[0m,\n",
       "  \u001b[32m\"Q\"\u001b[0m -> \u001b[32m77\u001b[0m,\n",
       "\u001b[33m...\u001b[0m"
      ]
     },
     "metadata": {},
     "output_type": "display_data"
    }
   ],
   "source": [
    "// Build up the mapping of task -> numSeconds\n",
    "val stepDuration = 60\n",
    "val taskSecondsMap = allTasks.map(task => (task -> (task.head - 64 + stepDuration))).toMap"
   ]
  },
  {
   "cell_type": "code",
   "execution_count": 57,
   "metadata": {},
   "outputs": [
    {
     "data": {
      "text/plain": [
       "\u001b[36mnumWorkers\u001b[0m: \u001b[32mInt\u001b[0m = \u001b[32m5\u001b[0m\n",
       "\u001b[36mworkerTasks\u001b[0m: \u001b[32mArray\u001b[0m[(\u001b[32mString\u001b[0m, \u001b[32mInt\u001b[0m)] = \u001b[33mArray\u001b[0m(\n",
       "  \u001b[33m\u001b[0m(\u001b[32m\"\"\u001b[0m, \u001b[32m-1\u001b[0m),\n",
       "  \u001b[33m\u001b[0m(\u001b[32m\"\"\u001b[0m, \u001b[32m-1\u001b[0m),\n",
       "  \u001b[33m\u001b[0m(\u001b[32m\"\"\u001b[0m, \u001b[32m-1\u001b[0m),\n",
       "  \u001b[33m\u001b[0m(\u001b[32m\"\"\u001b[0m, \u001b[32m-1\u001b[0m),\n",
       "  \u001b[33m\u001b[0m(\u001b[32m\"\"\u001b[0m, \u001b[32m-1\u001b[0m)\n",
       ")"
      ]
     },
     "metadata": {},
     "output_type": "display_data"
    }
   ],
   "source": [
    "// Initialise the tasks that each worker is working on and the remaining seconds of the task\n",
    "val numWorkers = 5\n",
    "var workerTasks = Array.fill(numWorkers)((\"\", -1))"
   ]
  },
  {
   "cell_type": "code",
   "execution_count": 58,
   "metadata": {},
   "outputs": [
    {
     "data": {
      "text/plain": [
       "\u001b[36mcompletedTasks\u001b[0m: \u001b[32mSet\u001b[0m[\u001b[32mString\u001b[0m] = \u001b[33mSet\u001b[0m()\n",
       "\u001b[36mavailableTasks\u001b[0m: \u001b[32mListBuffer\u001b[0m[\u001b[32mString\u001b[0m] = \u001b[33mListBuffer\u001b[0m(\u001b[32m\"C\"\u001b[0m, \u001b[32m\"F\"\u001b[0m, \u001b[32m\"N\"\u001b[0m, \u001b[32m\"R\"\u001b[0m)\n",
       "\u001b[36munreachableTasks\u001b[0m: \u001b[32mSet\u001b[0m[\u001b[32mString\u001b[0m] = \u001b[33mSet\u001b[0m(\n",
       "  \u001b[32m\"E\"\u001b[0m,\n",
       "  \u001b[32m\"X\"\u001b[0m,\n",
       "  \u001b[32m\"T\"\u001b[0m,\n",
       "  \u001b[32m\"Y\"\u001b[0m,\n",
       "  \u001b[32m\"J\"\u001b[0m,\n",
       "  \u001b[32m\"U\"\u001b[0m,\n",
       "  \u001b[32m\"A\"\u001b[0m,\n",
       "  \u001b[32m\"M\"\u001b[0m,\n",
       "  \u001b[32m\"I\"\u001b[0m,\n",
       "  \u001b[32m\"G\"\u001b[0m,\n",
       "  \u001b[32m\"V\"\u001b[0m,\n",
       "  \u001b[32m\"Q\"\u001b[0m,\n",
       "  \u001b[32m\"L\"\u001b[0m,\n",
       "  \u001b[32m\"B\"\u001b[0m,\n",
       "\u001b[33m...\u001b[0m"
      ]
     },
     "metadata": {},
     "output_type": "display_data"
    }
   ],
   "source": [
    "// Set up the queues of potential tasks\n",
    "var completedTasks = Set[String]()\n",
    "var availableTasks = allDependents.filter({case (task, deps) => deps.forall(x => completedTasks.contains(x))})\n",
    "    .map(x => x._1).to[ListBuffer].sorted\n",
    "var unreachableTasks = allTasks.diff(availableTasks.toSet)"
   ]
  },
  {
   "cell_type": "code",
   "execution_count": 59,
   "metadata": {},
   "outputs": [
    {
     "data": {
      "text/plain": [
       "defined \u001b[32mfunction \u001b[36mgetNextTask\u001b[0m"
      ]
     },
     "metadata": {},
     "output_type": "display_data"
    }
   ],
   "source": [
    "// Function to assign a worker to a new task\n",
    "def getNextTask() : (String, Int) = {\n",
    "    println(availableTasks)\n",
    "    if (availableTasks.length == 0) {\n",
    "        println(\"Returning None task...\")\n",
    "        return ((\"\", -1))\n",
    "    }\n",
    "    var task = availableTasks.remove(0)\n",
    "    println(\"Task:\", task)\n",
    "    // Pop the next task off of the available tasks list and return it with its seconds\n",
    "    return (task, taskSecondsMap(task))\n",
    "}"
   ]
  },
  {
   "cell_type": "code",
   "execution_count": 60,
   "metadata": {},
   "outputs": [
    {
     "data": {
      "text/plain": [
       "defined \u001b[32mfunction \u001b[36mcompleteTask\u001b[0m"
      ]
     },
     "metadata": {},
     "output_type": "display_data"
    }
   ],
   "source": [
    "// Function to represent completion of a task (taskRemainingSeconds == 0)\n",
    "def completeTask(task: String) : (String, Int) = {\n",
    "    // Push the task on to the completed task list. \n",
    "    println(\"Task: \", task)\n",
    "    completedTasks += task\n",
    "    println(\"Completed tasks: \", completedTasks)\n",
    "    // Recalculate the available tasks, popping any unreachable tasks from the set \n",
    "    availableTasks = unreachableTasks.union(availableTasks.toSet)\n",
    "        .map(task => (task, allDependents(task)))\n",
    "        .filter({case (task, deps) => deps.forall(x => completedTasks.contains(x))})\n",
    "        .map(x => x._1)\n",
    "        .to[ListBuffer].sorted\n",
    "    unreachableTasks = unreachableTasks.diff(availableTasks.toSet)\n",
    "    // Set the worker's current task to (\"\", -1)\n",
    "    return ((\"\", -1))\n",
    "}"
   ]
  },
  {
   "cell_type": "code",
   "execution_count": 61,
   "metadata": {},
   "outputs": [
    {
     "data": {
      "text/plain": [
       "\u001b[36mres60\u001b[0m: \u001b[32mBoolean\u001b[0m = false"
      ]
     },
     "metadata": {},
     "output_type": "display_data"
    }
   ],
   "source": [
    "completedTasks == allTasks"
   ]
  },
  {
   "cell_type": "code",
   "execution_count": 62,
   "metadata": {},
   "outputs": [
    {
     "name": "stdout",
     "output_type": "stream",
     "text": [
      "(Seconds:,972)\n"
     ]
    },
    {
     "data": {
      "text/plain": [
       "\u001b[36mseconds\u001b[0m: \u001b[32mInt\u001b[0m = \u001b[32m973\u001b[0m"
      ]
     },
     "metadata": {},
     "output_type": "display_data"
    }
   ],
   "source": [
    "// Loop to increment the seconds and call the relevant methods\n",
    "var seconds = 0\n",
    "while (completedTasks != allTasks) {\n",
    "    seconds += 1\n",
    "    println(\"Seconds elapsed:\", seconds)\n",
    "    // Iterate across each worker, updating the relevant queues\n",
    "    for (workerID <- 0 to workerTasks.length-1) {\n",
    "        println(\"Worker:\", workerID)\n",
    "        var currentTask = workerTasks(workerID)\n",
    "        println(\"Worker existing task: \", currentTask)\n",
    "        // If current task seconds have reached 0, complete the task\n",
    "        if (currentTask._2 == 0) {\n",
    "            //println(\"Completing task...\")\n",
    "            // Push the task on to the completed task list. \n",
    "            completedTasks += currentTask._1\n",
    "            // Recalculate the available tasks, popping any unreachable tasks from the set \n",
    "            availableTasks = unreachableTasks.union(availableTasks.toSet)\n",
    "                .map(task => (task, allDependents(task)))\n",
    "                .filter({case (task, deps) => deps.forall(x => completedTasks.contains(x))})\n",
    "                .map(x => x._1)\n",
    "                .to[ListBuffer].sorted\n",
    "            unreachableTasks = unreachableTasks.diff(availableTasks.toSet)\n",
    "            // Set the worker's current task to (\"\", -1)\n",
    "            currentTask = (\"\", -1)\n",
    "        }\n",
    "        // If no task, assign one\n",
    "        if (currentTask._1 == \"\") {\n",
    "            //println(\"Getting new task...\")\n",
    "            if (availableTasks.length == 0) {\n",
    "                //println(\"Returning None task...\")\n",
    "                currentTask = ((\"\", -1))\n",
    "            }\n",
    "            else {\n",
    "                var task = availableTasks.remove(0)\n",
    "                //println(\"Task:\", task)\n",
    "                // Pop the next task off of the available tasks list and return it with its seconds\n",
    "                currentTask = (task, taskSecondsMap(task))\n",
    "                //print(\"Returned task: \", getNextTask())\n",
    "            }\n",
    "        }\n",
    "        // Decrement the seconds for the task and reassign to worker\n",
    "        workerTasks(workerID) = (currentTask._1, currentTask._2-1)\n",
    "        //println(\"Current task: \", currentTask)\n",
    "    }\n",
    "    //println(\"CT: \", completedTasks)\n",
    "    //println(\"AT: \", availableTasks)\n",
    "    //println(\"UT: \", unreachableTasks)\n",
    "}\n",
    "println(\"Seconds:\", seconds-1)"
   ]
  }
 ],
 "metadata": {
  "kernelspec": {
   "display_name": "Scala 2.11",
   "language": "scala211",
   "name": "scala211"
  },
  "language_info": {
   "codemirror_mode": "text/x-scala",
   "file_extension": ".scala",
   "mimetype": "text/x-scala",
   "name": "scala211",
   "pygments_lexer": "scala",
   "version": "2.11.6"
  }
 },
 "nbformat": 4,
 "nbformat_minor": 2
}
