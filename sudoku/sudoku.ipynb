{
 "cells": [
  {
   "cell_type": "code",
   "execution_count": 24,
   "metadata": {},
   "outputs": [
    {
     "data": {
      "text/plain": [
       "\u001b[36mgrid\u001b[0m: \u001b[32mArray\u001b[0m[\u001b[32mArray\u001b[0m[\u001b[32mInt\u001b[0m]] = \u001b[33mArray\u001b[0m(\n",
       "  \u001b[33mArray\u001b[0m(\n",
       "    \u001b[32m0\u001b[0m,\n",
       "    \u001b[32m0\u001b[0m,\n",
       "    \u001b[32m0\u001b[0m,\n",
       "    \u001b[32m0\u001b[0m,\n",
       "    \u001b[32m0\u001b[0m,\n",
       "    \u001b[32m0\u001b[0m,\n",
       "    \u001b[32m0\u001b[0m,\n",
       "    \u001b[32m0\u001b[0m,\n",
       "    \u001b[32m0\u001b[0m\n",
       "  ),\n",
       "  \u001b[33mArray\u001b[0m(\n",
       "    \u001b[32m0\u001b[0m,\n",
       "    \u001b[32m0\u001b[0m,\n",
       "\u001b[33m...\u001b[0m"
      ]
     },
     "metadata": {},
     "output_type": "display_data"
    }
   ],
   "source": [
    "var grid = Array.ofDim[Int](9, 9)"
   ]
  },
  {
   "cell_type": "code",
   "execution_count": 2,
   "metadata": {},
   "outputs": [
    {
     "data": {
      "text/plain": [
       "\u001b[32mimport \u001b[36mscala.util.Random.nextInt\u001b[0m"
      ]
     },
     "metadata": {},
     "output_type": "display_data"
    }
   ],
   "source": [
    "import scala.util.Random.nextInt"
   ]
  },
  {
   "cell_type": "code",
   "execution_count": 14,
   "metadata": {},
   "outputs": [
    {
     "ename": "",
     "evalue": "",
     "output_type": "error",
     "traceback": [
      "Compilation Failed",
      "\u001b[31mMain.scala:74: overloaded method value nextInt with alternatives:",
      "  (n: Int)Int <and>",
      "  ()Int",
      " cannot be applied to (Int, Int)",
      "nextInt(1, 10)",
      "^\u001b[0m"
     ]
    }
   ],
   "source": [
    "nextInt(9)"
   ]
  },
  {
   "cell_type": "code",
   "execution_count": 29,
   "metadata": {},
   "outputs": [
    {
     "data": {
      "text/plain": []
     },
     "metadata": {},
     "output_type": "display_data"
    }
   ],
   "source": [
    "grid = grid.map(row => row.map(x => 0))"
   ]
  },
  {
   "cell_type": "code",
   "execution_count": 30,
   "metadata": {},
   "outputs": [
    {
     "name": "stdout",
     "output_type": "stream",
     "text": [
      "-------------------\n",
      "|0|0|0|0|0|0|0|0|0|\n",
      "-------------------\n",
      "|0|0|0|0|0|0|0|0|0|\n",
      "-------------------\n",
      "|0|0|0|0|0|0|0|0|0|\n",
      "-------------------\n",
      "|0|0|0|0|0|0|0|0|0|\n",
      "-------------------\n",
      "|0|0|0|0|0|0|0|0|0|\n",
      "-------------------\n",
      "|0|0|0|0|0|0|0|0|0|\n",
      "-------------------\n",
      "|0|0|0|0|0|0|0|0|0|\n",
      "-------------------\n",
      "|0|0|0|0|0|0|0|0|0|\n",
      "-------------------\n",
      "|0|0|0|0|0|0|0|0|0|\n",
      "-------------------\n"
     ]
    },
    {
     "data": {
      "text/plain": []
     },
     "metadata": {},
     "output_type": "display_data"
    }
   ],
   "source": [
    "print(\"-\"*19)\n",
    "println\n",
    "grid.foreach(row => {\n",
    "    row.foreach(x => print(\"|\"+x))\n",
    "    println(\"|\")\n",
    "    println(\"-\"*19)\n",
    "})"
   ]
  }
 ],
 "metadata": {
  "kernelspec": {
   "display_name": "Scala 2.11",
   "language": "scala211",
   "name": "scala211"
  },
  "language_info": {
   "codemirror_mode": "text/x-scala",
   "file_extension": ".scala",
   "mimetype": "text/x-scala",
   "name": "scala211",
   "pygments_lexer": "scala",
   "version": "2.11.6"
  }
 },
 "nbformat": 4,
 "nbformat_minor": 2
}
