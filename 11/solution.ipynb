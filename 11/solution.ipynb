{
 "cells": [
  {
   "cell_type": "code",
   "execution_count": 1,
   "metadata": {},
   "outputs": [
    {
     "data": {
      "text/plain": [
       "\u001b[36minput\u001b[0m: \u001b[32mInt\u001b[0m = \u001b[32m1718\u001b[0m\n",
       "\u001b[36mtest1\u001b[0m: \u001b[32mInt\u001b[0m = \u001b[32m18\u001b[0m\n",
       "\u001b[36mtest2\u001b[0m: \u001b[32mInt\u001b[0m = \u001b[32m42\u001b[0m"
      ]
     },
     "metadata": {},
     "output_type": "display_data"
    }
   ],
   "source": [
    "val input = 1718\n",
    "val test1 = 18 // 33,45 - total power of 29\n",
    "val test2 = 42 // 21,61 - total power of 30"
   ]
  },
  {
   "cell_type": "markdown",
   "metadata": {},
   "source": [
    "## Part 1"
   ]
  },
  {
   "cell_type": "code",
   "execution_count": 2,
   "metadata": {},
   "outputs": [
    {
     "data": {
      "text/plain": [
       "\u001b[36mserialNumber\u001b[0m: \u001b[32mInt\u001b[0m = \u001b[32m1718\u001b[0m\n",
       "defined \u001b[32mfunction \u001b[36mcomputePowerLevel\u001b[0m"
      ]
     },
     "metadata": {},
     "output_type": "display_data"
    }
   ],
   "source": [
    "val serialNumber = input\n",
    "\n",
    "def computePowerLevel(x: Int, y: Int) : Int = {\n",
    "    //Find the fuel cell's rack ID, which is its X coordinate plus 10.\n",
    "    val rackID = x + 10\n",
    "    /*Begin with a power level of the rack ID times the Y coordinate.\n",
    "    Increase the power level by the value of the grid serial number (your puzzle input).\n",
    "    Set the power level to itself multiplied by the rack ID.*/\n",
    "    val powerLevel = ((rackID * y) + serialNumber) * rackID\n",
    "    /*Keep only the hundreds digit of the power level (so 12345 becomes 3; numbers with no hundreds digit become 0).\n",
    "    Subtract 5 from the power level.*/\n",
    "    ((powerLevel/100) % 10) - 5\n",
    "}"
   ]
  },
  {
   "cell_type": "code",
   "execution_count": 3,
   "metadata": {},
   "outputs": [
    {
     "data": {
      "text/plain": [
       "\u001b[36mgrid\u001b[0m: \u001b[32mArray\u001b[0m[\u001b[32mArray\u001b[0m[\u001b[32mInt\u001b[0m]] = \u001b[33mArray\u001b[0m(\n",
       "  \u001b[33mArray\u001b[0m(\n",
       "    \u001b[32m0\u001b[0m,\n",
       "    \u001b[32m0\u001b[0m,\n",
       "    \u001b[32m0\u001b[0m,\n",
       "    \u001b[32m0\u001b[0m,\n",
       "    \u001b[32m0\u001b[0m,\n",
       "    \u001b[32m0\u001b[0m,\n",
       "    \u001b[32m0\u001b[0m,\n",
       "    \u001b[32m0\u001b[0m,\n",
       "    \u001b[32m0\u001b[0m,\n",
       "    \u001b[32m0\u001b[0m,\n",
       "    \u001b[32m0\u001b[0m,\n",
       "    \u001b[32m0\u001b[0m,\n",
       "    \u001b[32m0\u001b[0m,\n",
       "\u001b[33m...\u001b[0m"
      ]
     },
     "metadata": {},
     "output_type": "display_data"
    }
   ],
   "source": [
    "val grid = Array.tabulate(300)(x => Array.tabulate(300)(y => 0))"
   ]
  },
  {
   "cell_type": "code",
   "execution_count": 5,
   "metadata": {},
   "outputs": [
    {
     "data": {
      "text/plain": [
       "\u001b[36mmaxSum\u001b[0m: \u001b[32mInt\u001b[0m = \u001b[32m31\u001b[0m\n",
       "\u001b[36mmaxSumTopLeft\u001b[0m: (\u001b[32mInt\u001b[0m, \u001b[32mInt\u001b[0m) = \u001b[33m\u001b[0m(\u001b[32m243\u001b[0m, \u001b[32m34\u001b[0m)"
      ]
     },
     "metadata": {},
     "output_type": "display_data"
    }
   ],
   "source": [
    "for {\n",
    "    x <- 1 to grid.length\n",
    "    y <- 1 to grid.length} {\n",
    "    grid(x-1)(y-1) = computePowerLevel(x, y)\n",
    "}\n",
    "\n",
    "// Initialise as the lowest possible (-5*3*3)\n",
    "var maxSum = -45\n",
    "var maxSumTopLeft = (-1,-1)\n",
    "for {\n",
    "    x <- 1 until grid.length\n",
    "    y <- 1 until grid.length} {\n",
    "    // Get the sum of the 3x3 square\n",
    "    val squareSum = grid.slice(x-1, x+2).map(line => line.slice(y-1, y+2)).map(line => line.sum).sum\n",
    "    // TODO equal to?\n",
    "    if (squareSum > maxSum) {\n",
    "        maxSum = squareSum\n",
    "        maxSumTopLeft = (x,y)\n",
    "    }\n",
    "}"
   ]
  },
  {
   "cell_type": "markdown",
   "metadata": {},
   "source": [
    "## Part 2"
   ]
  },
  {
   "cell_type": "code",
   "execution_count": 4,
   "metadata": {},
   "outputs": [
    {
     "data": {
      "text/plain": [
       "defined \u001b[32mfunction \u001b[36mmaxGridForSize\u001b[0m"
      ]
     },
     "metadata": {},
     "output_type": "display_data"
    }
   ],
   "source": [
    "for {\n",
    "    x <- 1 to grid.length\n",
    "    y <- 1 to grid.length} {\n",
    "    grid(x-1)(y-1) = computePowerLevel(x, y)\n",
    "}\n",
    "\n",
    "// TODO Parallelise?\n",
    "// Determine highest factors for numbers and compute on aggregations?\n",
    "// Initialise as the lowest possible in a 3x3 (-5*3*3)\n",
    "def maxGridForSize(squareSize: Int) : (Int, (Int, Int)) = {\n",
    "    var maxSum = -45\n",
    "    var maxSumTopLeft = (-1,-1)\n",
    "    //print(s\"\\rCurrent size: $squareSize\")\n",
    "        for {\n",
    "        x <- 1 to grid.length-(squareSize)\n",
    "        y <- 1 to grid.length-(squareSize)} {\n",
    "        // Get the sum of the nxn square, from top left\n",
    "        val squareSum = grid.slice(x-1, x+squareSize-1).map(line => line.slice(y-1, y+squareSize-1))\n",
    "            .map(line => line.sum).sum\n",
    "        if (squareSum > maxSum) {\n",
    "            maxSum = squareSum\n",
    "            maxSumTopLeft = (x,y)\n",
    "        }\n",
    "    }\n",
    "    (maxSum, maxSumTopLeft)\n",
    "}"
   ]
  },
  {
   "cell_type": "code",
   "execution_count": 5,
   "metadata": {},
   "outputs": [
    {
     "data": {
      "text/plain": [
       "\u001b[36mallTuples\u001b[0m: \u001b[32mcollection\u001b[0m.\u001b[32mparallel\u001b[0m.\u001b[32mimmutable\u001b[0m.\u001b[32mParSeq\u001b[0m[(\u001b[32mInt\u001b[0m, (\u001b[32mInt\u001b[0m, \u001b[32mInt\u001b[0m))] = ParVector((31,(243,34)), (38,(21,289)), (54,(243,26)), (50,(234,158)), (61,(233,66)), (66,(232,64)), (70,(231,64)), (72,(230,63)), (70,(229,61)), (67,(228,60)), (73,(227,59)), (70,(226,59)), (85,(90,214)), (79,(89,214)), (69,(90,213)), (58,(87,245)), (53,(89,222)), (60,(85,213)), (44,(85,214)), (32,(85,213)), (16,(85,214)), (1,(84,213)), (0,(83,216)), (-23,(82,216)), (-33,(81,214)), (-44,(85,213)), (-45,(-1,-1)), (-45,(-1,-1)), (-45,(-1,-1)), (-45,(-1,-1)), (-45,(-1,-1)), (-45,(-1,-1)), (-45,(-1,-1)), (-45,(-1,-1)), (-45,(-1,-1)), (-45,(-1,-1)), (-45,(-1,-1)), (-45,(-1,-1)), (-45,(-1,-1)), (-45,(-1,-1)), (-45,(-1,-1)), (-45,(-1,-1)), (-45,(-1,-1)), (-45,(-1,-1)), (-45,(-1,-1)), (-45,(-1,-1)), (-45,(-1,-1)), (-45,(-1,-1)), (-45,(-1,-1)), (-45,(-1,-1)), (-45,(-1,-1)), (-45,(-1,-1)), (-45,(-1,-1)), (-45,(-1,-1)), (-45,(-1,-1)), (-45,(-1,-1)), (-45,(-1,-1)), (-45,(-1,-1)), (-45,(-1,-1)), (-45,(-1,-1)), (-45,(-1,-1)), (-45,(-1,-1)), (-45,(-1,-1)), (-45,(-1,-1)), (-45,(-1,-1)), (-45,(-1,-1)), (-45,(-1,-1)), (-45,(-1,-1)), (-45,(-1,-1)), (-45,(-1,-1)), (-45,(-1,-1)), (-45,(-1,-1)), (-45,(-1,-1)), (-45,(-1,-1)), (-45,(-1,-1)), (-45,(-1,-1)), (-45,(-1,-1)), (-45,(-1,-1)), (-45,(-1,-1)), (-45,(-1,-1)), (-45,(-1,-1)), (-45,(-1,-1)), (-45,(-1,-1)), (-45,(-1,-1)), (-45,(-1,-1)), (-45,(-1,-1)), (-45,(-1,-1)), (-45,(-1,-1)), (-45,(-1,-1)), (-45,(-1,-1)), (-45,(-1,-1)), (-45,(-1,-1)), (-45,(-1,-1)), (-45,(-1,-1)), (-45,(-1,-1)), (-45,(-1,-1)), (-45,(-1,-1)), (-45,(-1,-1)), (-45,(-1,-1)), (-4\u001b[33m...\u001b[0m"
      ]
     },
     "metadata": {},
     "output_type": "display_data"
    }
   ],
   "source": [
    "val allTuples = Range(3,300).par.map(maxGridForSize _)"
   ]
  },
  {
   "cell_type": "code",
   "execution_count": 9,
   "metadata": {},
   "outputs": [
    {
     "data": {
      "text/plain": [
       "\u001b[36mres8\u001b[0m: \u001b[32mcollection\u001b[0m.\u001b[32mparallel\u001b[0m.\u001b[32mimmutable\u001b[0m.\u001b[32mParSeq\u001b[0m[((\u001b[32mInt\u001b[0m, (\u001b[32mInt\u001b[0m, \u001b[32mInt\u001b[0m)), \u001b[32mInt\u001b[0m)] = ParVector(((31,(243,34)),3), ((38,(21,289)),4), ((54,(243,26)),5), ((50,(234,158)),6), ((61,(233,66)),7), ((66,(232,64)),8), ((70,(231,64)),9), ((72,(230,63)),10), ((70,(229,61)),11), ((67,(228,60)),12), ((73,(227,59)),13), ((70,(226,59)),14), ((85,(90,214)),15), ((79,(89,214)),16), ((69,(90,213)),17), ((58,(87,245)),18), ((53,(89,222)),19), ((60,(85,213)),20), ((44,(85,214)),21), ((32,(85,213)),22), ((16,(85,214)),23), ((1,(84,213)),24), ((0,(83,216)),25))"
      ]
     },
     "metadata": {},
     "output_type": "display_data"
    }
   ],
   "source": [
    "allTuples.zipWithIndex.map(x => (x._1, x._2+3)).filter(x => x._1._1 >= 0)\n",
    "// Can just check this by eye to see the max x._1._1, but using max/sort would be better"
   ]
  }
 ],
 "metadata": {
  "kernelspec": {
   "display_name": "Scala 2.11",
   "language": "scala211",
   "name": "scala211"
  },
  "language_info": {
   "codemirror_mode": "text/x-scala",
   "file_extension": ".scala",
   "mimetype": "text/x-scala",
   "name": "scala211",
   "pygments_lexer": "scala",
   "version": "2.11.6"
  }
 },
 "nbformat": 4,
 "nbformat_minor": 2
}
