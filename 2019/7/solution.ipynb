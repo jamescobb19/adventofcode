{
 "cells": [
  {
   "cell_type": "code",
   "execution_count": 101,
   "metadata": {},
   "outputs": [],
   "source": [
    "from typing import List, Union"
   ]
  },
  {
   "cell_type": "markdown",
   "metadata": {},
   "source": [
    "# Program Runner"
   ]
  },
  {
   "cell_type": "code",
   "execution_count": 102,
   "metadata": {},
   "outputs": [],
   "source": [
    "instructions_to_params = {\n",
    "    '01': 3,\n",
    "    '02': 3,\n",
    "    '03': 1,\n",
    "    '04': 1,\n",
    "    '05': 2,\n",
    "    '06': 2,\n",
    "    '07': 3,\n",
    "    '08': 3,\n",
    "    '99':0\n",
    "}"
   ]
  },
  {
   "cell_type": "code",
   "execution_count": 103,
   "metadata": {},
   "outputs": [],
   "source": [
    "def amplify(phase: int, amp_input: int, program_integers: List[str]) -> Union[int, None]:\n",
    "    input_queue = [phase, amp_input]\n",
    "    integers = program_integers.copy()\n",
    "    i = 0\n",
    "    op_code = integers[i]\n",
    "    while op_code != '99':\n",
    "        op, param_modes = op_code[-2:].zfill(2), op_code[:-2]\n",
    "        length = instructions_to_params[op]\n",
    "        #print('Op: ', op)\n",
    "        #print('Param_modes: ', param_modes)\n",
    "        #print('i: ', i)\n",
    "        param_modes = [int(i) for i in param_modes.zfill(length)[::-1]]\n",
    "        params = [int(param) for param in integers[i+1:i+1+length]]\n",
    "        #print('Initial params: ', params)\n",
    "        params = [int(integers[value]) if param_modes[pos] == 0 and pos != length-1 else value for pos, value in enumerate(params)]\n",
    "        #print('Params: ', params)\n",
    "        if op == '01':\n",
    "            # Add - 3 params\n",
    "            a, b, output_pos = params\n",
    "            output = a + b\n",
    "            integers[output_pos] = output\n",
    "            i += length + 1\n",
    "        elif op == '02':\n",
    "            # Multiply\n",
    "            a, b, output_pos = params\n",
    "            output = a * b\n",
    "            integers[output_pos] = output\n",
    "            i += length + 1\n",
    "        elif op == '03':\n",
    "            # Read input\n",
    "            output_pos = params[0]\n",
    "            output, *input_queue = input_queue\n",
    "            integers[output_pos] = output\n",
    "            i += length + 1\n",
    "        elif op == '04':\n",
    "            # Print output\n",
    "            output_pos = params[0]\n",
    "            # Return as we are in an amplifier\n",
    "            return integers[output_pos]\n",
    "            i += length + 1\n",
    "        elif op == '05':\n",
    "            # Jump-if-true\n",
    "            value, output_val = params\n",
    "            if param_modes[-1] == 0:\n",
    "                output_val = int(integers[output_val])\n",
    "            if value > 0:\n",
    "                i = output_val\n",
    "            else:\n",
    "                i += length + 1\n",
    "        elif op == '06':\n",
    "            # Jump-if-true\n",
    "            value, output_val = params\n",
    "            if param_modes[-1] == 0:\n",
    "                output_val = int(integers[output_val])\n",
    "            if value == 0:\n",
    "                i = output_val\n",
    "            else:\n",
    "                i += length + 1\n",
    "        elif op == '07':\n",
    "            # Less than\n",
    "            a, b, output_pos = params\n",
    "            output = 1 if a < b else 0\n",
    "            integers[output_pos] = output\n",
    "            i += length + 1\n",
    "        elif op == '08':\n",
    "            # Equals\n",
    "            a, b, output_pos = params\n",
    "            output = 1 if a == b else 0\n",
    "            integers[output_pos] = output\n",
    "            i += length + 1\n",
    "        else:\n",
    "            raise Exception('Invalid op_code supplied: ', op_code)\n",
    "        op_code = str(integers[i])\n",
    "    return None"
   ]
  },
  {
   "cell_type": "code",
   "execution_count": 104,
   "metadata": {},
   "outputs": [],
   "source": [
    "filename = 'input.txt'\n",
    "#filename = 'test1.txt'\n",
    "with open(filename) as f:\n",
    "    initial_integers = [element for element in f.read().replace('/n', '').split(',')]"
   ]
  },
  {
   "cell_type": "markdown",
   "metadata": {},
   "source": [
    "# Part 1"
   ]
  },
  {
   "cell_type": "markdown",
   "metadata": {},
   "source": [
    "## Testing the program runner\n",
    "```\n",
    "test_phase = [4,3,2,1,0]\n",
    "prev_output = 0\n",
    "for amp, phase in enumerate(test_phase):\n",
    "    print(f'Amplifier {amp}, Phase: {phase}, prev_output: {prev_output}')\n",
    "    prev_output = amplify(phase, prev_output, initial_integers)\n",
    "print(initial_integers)\n",
    "prev_output\n",
    "```"
   ]
  },
  {
   "cell_type": "code",
   "execution_count": 141,
   "metadata": {},
   "outputs": [],
   "source": [
    "# Basically does itertools.product but I wanted to implement it myself\n",
    "def make_permutations(num_lists: int, size: int, start: int = 0) -> List[List[int]]:\n",
    "    list_range = range(start, start+size+1)\n",
    "    lists = [[]]\n",
    "    for _ in range(num_lists):\n",
    "        lists = [l + [i] for i in list_range for l in lists]\n",
    "    return lists"
   ]
  },
  {
   "cell_type": "code",
   "execution_count": 106,
   "metadata": {},
   "outputs": [],
   "source": [
    "# Run through the whole amplifier chain\n",
    "def amplify_chain(config: List[int]) -> int:\n",
    "    prev_output = 0\n",
    "    for phase in config:\n",
    "        prev_output = amplify(phase, prev_output, initial_integers)\n",
    "    return prev_output"
   ]
  },
  {
   "cell_type": "code",
   "execution_count": 107,
   "metadata": {},
   "outputs": [
    {
     "data": {
      "text/plain": [
       "('02431', 567045)"
      ]
     },
     "execution_count": 107,
     "metadata": {},
     "output_type": "execute_result"
    }
   ],
   "source": [
    "acceptable_configs = [config for config in make_permutations(5,4) if sorted(config.copy()) == [0,1,2,3,4]]\n",
    "parameter_values = [(''.join([str(i) for i in config]), amplify_chain(config)) for config in acceptable_configs]\n",
    "max(parameter_values, key=lambda x: x[1])"
   ]
  },
  {
   "cell_type": "markdown",
   "metadata": {},
   "source": [
    "# Part 2"
   ]
  },
  {
   "cell_type": "code",
   "execution_count": 133,
   "metadata": {},
   "outputs": [],
   "source": [
    "class Amplifier:\n",
    "    def __init__(self, program_integers: List[str]):\n",
    "        self.integers = program_integers.copy()\n",
    "        self.signal = 0\n",
    "        self.i = 0\n",
    "        \n",
    "\n",
    "    def amplify(self, input_queue: List[int]) -> Union[int, None]:\n",
    "        #print('Initial i: ', self.i)\n",
    "        #print('Input queue: ', input_queue)\n",
    "        op_code = self.integers[self.i]\n",
    "        while op_code != '99':\n",
    "            op, param_modes = op_code[-2:].zfill(2), op_code[:-2]\n",
    "            length = instructions_to_params[op]\n",
    "            #print('Op: ', op)\n",
    "            #print('Param_modes: ', param_modes)\n",
    "            #print('i: ', self.i)\n",
    "            param_modes = [int(m) for m in param_modes.zfill(length)[::-1]]\n",
    "            params = [int(param) for param in self.integers[self.i+1:self.i+1+length]]\n",
    "            #print('Initial params: ', params)\n",
    "            params = [int(self.integers[value]) if param_modes[pos] == 0 and pos != length-1 else value for pos, value in enumerate(params)]\n",
    "            #print('Params: ', params)\n",
    "            if op == '01':\n",
    "                # Add - 3 params\n",
    "                a, b, output_pos = params\n",
    "                output = a + b\n",
    "                self.integers[output_pos] = output\n",
    "                self.i += length + 1\n",
    "            elif op == '02':\n",
    "                # Multiply\n",
    "                a, b, output_pos = params\n",
    "                output = a * b\n",
    "                self.integers[output_pos] = output\n",
    "                self.i += length + 1\n",
    "            elif op == '03':\n",
    "                # Read input\n",
    "                output_pos = params[0]\n",
    "                output, *input_queue = input_queue\n",
    "                self.integers[output_pos] = output\n",
    "                self.i += length + 1\n",
    "            elif op == '04':\n",
    "                # Print output\n",
    "                output_pos = params[0]\n",
    "                # Return as we are in an amplifier\n",
    "                self.signal = self.integers[output_pos]\n",
    "                self.i += length + 1\n",
    "                return self.signal\n",
    "            elif op == '05':\n",
    "                # Jump-if-true\n",
    "                value, output_val = params\n",
    "                if param_modes[-1] == 0:\n",
    "                    output_val = int(self.integers[output_val])\n",
    "                if value > 0:\n",
    "                    self.i = output_val\n",
    "                else:\n",
    "                    self.i += length + 1\n",
    "            elif op == '06':\n",
    "                # Jump-if-true\n",
    "                value, output_val = params\n",
    "                if param_modes[-1] == 0:\n",
    "                    output_val = int(self.integers[output_val])\n",
    "                if value == 0:\n",
    "                    self.i = output_val\n",
    "                else:\n",
    "                    self.i += length + 1\n",
    "            elif op == '07':\n",
    "                # Less than\n",
    "                a, b, output_pos = params\n",
    "                output = 1 if a < b else 0\n",
    "                self.integers[output_pos] = output\n",
    "                self.i += length + 1\n",
    "            elif op == '08':\n",
    "                # Equals\n",
    "                a, b, output_pos = params\n",
    "                output = 1 if a == b else 0\n",
    "                self.integers[output_pos] = output\n",
    "                self.i += length + 1\n",
    "            else:\n",
    "                raise Exception('Invalid op_code supplied: ', op_code)\n",
    "            op_code = str(self.integers[self.i])\n",
    "        return None"
   ]
  },
  {
   "cell_type": "markdown",
   "metadata": {},
   "source": [
    "## Testing loop\n",
    "```\n",
    "test_program = [3,26,1001,26,-4,26,3,27,1002,27,2,27,1,27,26,27,4,27,1001,28,-1,28,1005,28,6,99,0,0,5]\n",
    "test_program = [str(i) for i in test_program]\n",
    "phase_config = [9,8,7,6,5]\n",
    "target = 139629729\n",
    "amps = [Amplifier(test_program) for _ in phase_config]\n",
    "i = prev_output = 0\n",
    "phased = False\n",
    "while prev_output is not None:\n",
    "    #print('Amplifier: ', i)\n",
    "    input_queue = [prev_output] if phased else [phase_config[i], prev_output]\n",
    "    prev_output = amps[i].amplify(input_queue)\n",
    "    #print(prev_output)\n",
    "    i = (i+1)%len(amps)\n",
    "    if i == 0 and not phased:\n",
    "        phased = True\n",
    "print('Signal: ', amps[-1].signal)\n",
    "```"
   ]
  },
  {
   "cell_type": "code",
   "execution_count": 136,
   "metadata": {},
   "outputs": [],
   "source": [
    "# Run through the whole amplifier chain\n",
    "def amplify_chain(config: List[int]) -> int:\n",
    "    amps = [Amplifier(initial_integers) for _ in config]\n",
    "    i = prev_output = 0\n",
    "    phased = False\n",
    "    while prev_output is not None:\n",
    "        #print('Amplifier: ', i)\n",
    "        input_queue = [prev_output] if phased else [config[i], prev_output]\n",
    "        prev_output = amps[i].amplify(input_queue)\n",
    "        #print(prev_output)\n",
    "        i = (i+1)%len(amps)\n",
    "        if i == 0 and not phased:\n",
    "            phased = True\n",
    "    return amps[-1].signal"
   ]
  },
  {
   "cell_type": "code",
   "execution_count": 143,
   "metadata": {},
   "outputs": [
    {
     "data": {
      "text/plain": [
       "('65789', 39016654)"
      ]
     },
     "execution_count": 143,
     "metadata": {},
     "output_type": "execute_result"
    }
   ],
   "source": [
    "acceptable_configs = [config for config in make_permutations(5,4,5) if sorted(config.copy()) == [5,6,7,8,9]]\n",
    "parameter_values = [(''.join([str(i) for i in config]), amplify_chain(config)) for config in acceptable_configs]\n",
    "max(parameter_values, key=lambda x: x[1])"
   ]
  }
 ],
 "metadata": {
  "kernelspec": {
   "display_name": "Python 3",
   "language": "python",
   "name": "python3"
  },
  "language_info": {
   "codemirror_mode": {
    "name": "ipython",
    "version": 3
   },
   "file_extension": ".py",
   "mimetype": "text/x-python",
   "name": "python",
   "nbconvert_exporter": "python",
   "pygments_lexer": "ipython3",
   "version": "3.7.4"
  }
 },
 "nbformat": 4,
 "nbformat_minor": 2
}
