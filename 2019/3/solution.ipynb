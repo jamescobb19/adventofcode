{
 "cells": [
  {
   "cell_type": "code",
   "execution_count": 333,
   "metadata": {},
   "outputs": [],
   "source": [
    "from dataclasses import dataclass\n",
    "import numpy as np"
   ]
  },
  {
   "cell_type": "code",
   "execution_count": 334,
   "metadata": {},
   "outputs": [],
   "source": [
    "@dataclass\n",
    "class Point:\n",
    "    x: int\n",
    "    y: int\n",
    "    wire1: bool = False\n",
    "    wire2: bool = False\n",
    "    \n",
    "    def __eq__(self, other):\n",
    "        return self.x == other.x and self.y == other.y\n",
    "    \n",
    "    #Manhattan distance\n",
    "    def distance(self, other: Point) -> int:\n",
    "        return abs(self.x - other.x) + abs(self.y - other.y)\n",
    "    \n",
    "    def both_wires(self):\n",
    "        return wire1 and wire2\n",
    "    \n",
    "@dataclass\n",
    "class Instruction:\n",
    "    direction: str\n",
    "    amount: int\n",
    "        \n",
    "    def get_next_coords(self, x: int, y: int):\n",
    "        if self.direction == 'R':\n",
    "            coords = [(i, y) for i in range(x+1, x+self.amount+1)]\n",
    "        if self.direction == 'L':\n",
    "            coords = [(i, y) for i in range(x-self.amount, x)]\n",
    "            coords.reverse()\n",
    "        if self.direction == 'U':\n",
    "            coords = [(x, i) for i in range(y+1, y+self.amount+1)]\n",
    "        if self.direction == 'D':\n",
    "            coords = [(x, i) for i in range(y-self.amount, y)]\n",
    "            coords.reverse()\n",
    "        return coords"
   ]
  },
  {
   "cell_type": "code",
   "execution_count": 335,
   "metadata": {},
   "outputs": [],
   "source": [
    "def parse(element:str):\n",
    "    # Task-specific element parsing here\n",
    "    direction, *amount = element\n",
    "    return Instruction(direction, int(''.join(amount)))"
   ]
  },
  {
   "cell_type": "code",
   "execution_count": 336,
   "metadata": {},
   "outputs": [],
   "source": [
    "filename = 'input.txt'\n",
    "#filename = 'test2.txt'\n",
    "with open(filename) as f:\n",
    "    line1, line2 = f.readlines()\n",
    "    wire1  = [parse(element) for element in line1.replace('/n', '').split(',')]\n",
    "    wire2  = [parse(element) for element in line2.replace('/n', '').split(',')]"
   ]
  },
  {
   "cell_type": "markdown",
   "metadata": {},
   "source": [
    "# Part 1 "
   ]
  },
  {
   "cell_type": "markdown",
   "metadata": {},
   "source": [
    "## Attempt 1"
   ]
  },
  {
   "cell_type": "markdown",
   "metadata": {},
   "source": [
    "```\n",
    "# Build map of x -> y -> value\n",
    "current_x = current_y = 0\n",
    "grid = [Point(current_x, current_y, True, True)]\n",
    "# Wire1\n",
    "for instruction in wire1:\n",
    "    coords = instruction.get_next_coords(current_x, current_y)\n",
    "    print((current_x, current_y))\n",
    "    print(instruction)\n",
    "    print(coords)\n",
    "    current_x, current_y = coords[-1]\n",
    "    for x, y in coords:\n",
    "        point = Point(x, y, True)\n",
    "        if point not in grid:\n",
    "            grid.append(point)\n",
    "current_x = current_y = 0\n",
    "#Wire2\n",
    "for instruction in wire2:\n",
    "    coords = instruction.get_next_coords(current_x, current_y)\n",
    "    current_x, current_y = coords[-1]\n",
    "    for x, y in coords:\n",
    "        print(grid)\n",
    "        point = Point(x, y, False, True)\n",
    "        if point in grid:\n",
    "            grid.remove(point)\n",
    "            print('found a cross')\n",
    "            point.wire1 = point.wire2 = True\n",
    "            print(point)\n",
    "            grid.append(point)\n",
    "crossed_wires = [p for p in grid if p != Point(0,0) and p.wire1 and p.wire2]\n",
    "```"
   ]
  },
  {
   "cell_type": "markdown",
   "metadata": {},
   "source": [
    "## Attempt 2"
   ]
  },
  {
   "cell_type": "code",
   "execution_count": 337,
   "metadata": {},
   "outputs": [],
   "source": [
    "# Build map of x -> y -> value\n",
    "current_x = current_y = 0\n",
    "grid = {'0,0': {'wire1': True, 'wire2': True}}\n",
    "# Wire1\n",
    "for instruction in wire1:\n",
    "    coords = instruction.get_next_coords(current_x, current_y)\n",
    "    current_x, current_y = coords[-1]\n",
    "    for x, y in coords:\n",
    "        point = f'{x},{y}'\n",
    "        if point not in grid:\n",
    "            grid[point] = {'wire1': True, 'wire2': False}\n",
    "current_x = current_y = 0\n",
    "#Wire2\n",
    "for instruction in wire2:\n",
    "    coords = instruction.get_next_coords(current_x, current_y)\n",
    "    current_x, current_y = coords[-1]\n",
    "    for x, y in coords:\n",
    "        point = f'{x},{y}'\n",
    "        if point in grid and grid[point]['wire1'] and not grid[point]['wire2']:\n",
    "            grid[point]['wire2'] = True\n",
    "        else:\n",
    "            grid[point] = {'wire1': False, 'wire2': True}\n",
    "crossed_wires = [Point(*[int(i) for i in p.split(',')], True, True) for p, wires in grid.items() \n",
    "                 if p != '0,0' and wires['wire1'] and wires['wire2']]"
   ]
  },
  {
   "cell_type": "code",
   "execution_count": 338,
   "metadata": {},
   "outputs": [
    {
     "name": "stdout",
     "output_type": "stream",
     "text": [
      "2129\n"
     ]
    }
   ],
   "source": [
    "centre = Point(0,0)\n",
    "distances = [(p, p.distance(centre)) for p in crossed_wires]\n",
    "print(min([d for _, d in distances]))"
   ]
  },
  {
   "cell_type": "markdown",
   "metadata": {},
   "source": [
    "# Part 2"
   ]
  },
  {
   "cell_type": "code",
   "execution_count": 339,
   "metadata": {},
   "outputs": [],
   "source": [
    "# Build map of x -> y -> value\n",
    "current_x = current_y = 0\n",
    "signal = 0\n",
    "grid = {'0,0': {'wire1': True, 'wire2': True, 'signal1': 0, 'signal2': 0}}\n",
    "# Wire1\n",
    "for instruction in wire1:\n",
    "    coords = instruction.get_next_coords(current_x, current_y)\n",
    "    current_x, current_y = coords[-1]\n",
    "    for x, y in coords:\n",
    "        point = f'{x},{y}'\n",
    "        signal += 1\n",
    "        if point not in grid:\n",
    "            grid[point] = {'wire1': True, 'wire2': False, 'signal1': signal, 'signal2': 0}\n",
    "current_x = current_y = 0\n",
    "signal = 0\n",
    "#Wire2\n",
    "for instruction in wire2:\n",
    "    coords = instruction.get_next_coords(current_x, current_y)\n",
    "    current_x, current_y = coords[-1]\n",
    "    for x, y in coords:\n",
    "        point = f'{x},{y}'\n",
    "        signal += 1\n",
    "        if point in grid and grid[point]['wire1'] and not grid[point]['wire2']:\n",
    "            grid[point]['wire2'] = True\n",
    "            grid[point]['signal2'] = signal\n",
    "        else:\n",
    "            grid[point] = {'wire1': False, 'wire2': True, 'signal1': 0, 'signal2': signal}\n",
    "crossed_wires = [(p, wires['signal1'] + wires['signal2']) for p, wires in grid.items() \n",
    "                 if p != '0,0' and wires['wire1'] and wires['wire2']]"
   ]
  },
  {
   "cell_type": "code",
   "execution_count": 340,
   "metadata": {},
   "outputs": [
    {
     "name": "stdout",
     "output_type": "stream",
     "text": [
      "134662\n"
     ]
    }
   ],
   "source": [
    "print(min([d for _, d in crossed_wires]))"
   ]
  }
 ],
 "metadata": {
  "kernelspec": {
   "display_name": "Python 3",
   "language": "python",
   "name": "python3"
  },
  "language_info": {
   "codemirror_mode": {
    "name": "ipython",
    "version": 3
   },
   "file_extension": ".py",
   "mimetype": "text/x-python",
   "name": "python",
   "nbconvert_exporter": "python",
   "pygments_lexer": "ipython3",
   "version": "3.7.4"
  }
 },
 "nbformat": 4,
 "nbformat_minor": 2
}
