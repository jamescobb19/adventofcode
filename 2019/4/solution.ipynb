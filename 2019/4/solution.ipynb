{
 "cells": [
  {
   "cell_type": "code",
   "execution_count": null,
   "metadata": {},
   "outputs": [],
   "source": [
    "import numpy as np"
   ]
  },
  {
   "cell_type": "code",
   "execution_count": 8,
   "metadata": {},
   "outputs": [],
   "source": [
    "def never_decrease(password: int):\n",
    "    password = str(password)\n",
    "    pairs = [(int(password[i]), int(password[i+1])) for i in range(len(password)-1)]\n",
    "    return not any([x > y for x, y in pairs])"
   ]
  },
  {
   "cell_type": "code",
   "execution_count": 12,
   "metadata": {},
   "outputs": [],
   "source": [
    "def contains_pair(password: int):\n",
    "    password = str(password)\n",
    "    pairs = [(password[i], password[i+1]) for i in range(len(password)-1)]\n",
    "    return any([x == y for x, y in pairs])"
   ]
  },
  {
   "cell_type": "markdown",
   "metadata": {},
   "source": [
    "# Part 1"
   ]
  },
  {
   "cell_type": "code",
   "execution_count": 13,
   "metadata": {},
   "outputs": [],
   "source": [
    "start = 254032\n",
    "end = 789860\n",
    "num_passwords = 0\n",
    "for i in range(start, end+1):\n",
    "    if never_decrease(i) and contains_pair(i):\n",
    "        num_passwords += 1"
   ]
  },
  {
   "cell_type": "code",
   "execution_count": 14,
   "metadata": {},
   "outputs": [
    {
     "data": {
      "text/plain": [
       "1033"
      ]
     },
     "execution_count": 14,
     "metadata": {},
     "output_type": "execute_result"
    }
   ],
   "source": [
    "num_passwords"
   ]
  },
  {
   "cell_type": "markdown",
   "metadata": {},
   "source": [
    "# Part 2"
   ]
  },
  {
   "cell_type": "code",
   "execution_count": 30,
   "metadata": {},
   "outputs": [],
   "source": [
    "def contains_pair_no_group(password: int):\n",
    "    password = 'x' + str(password) + 'x'\n",
    "    quads = [(password[i-1], password[i], password[i+1], password[i+2]) for i in range(1, len(password)-2)]\n",
    "    return any([x == y and h != x and x != z  for h, x, y, z in quads])"
   ]
  },
  {
   "cell_type": "code",
   "execution_count": 31,
   "metadata": {},
   "outputs": [],
   "source": [
    "start = 254032\n",
    "end = 789860\n",
    "num_passwords = 0\n",
    "for i in range(start, end+1):\n",
    "    if never_decrease(i) and contains_pair_no_group(i):\n",
    "        num_passwords += 1"
   ]
  },
  {
   "cell_type": "code",
   "execution_count": 34,
   "metadata": {},
   "outputs": [
    {
     "data": {
      "text/plain": [
       "670"
      ]
     },
     "execution_count": 34,
     "metadata": {},
     "output_type": "execute_result"
    }
   ],
   "source": [
    "num_passwords"
   ]
  }
 ],
 "metadata": {
  "kernelspec": {
   "display_name": "Python 3",
   "language": "python",
   "name": "python3"
  },
  "language_info": {
   "codemirror_mode": {
    "name": "ipython",
    "version": 3
   },
   "file_extension": ".py",
   "mimetype": "text/x-python",
   "name": "python",
   "nbconvert_exporter": "python",
   "pygments_lexer": "ipython3",
   "version": "3.7.4"
  }
 },
 "nbformat": 4,
 "nbformat_minor": 2
}
