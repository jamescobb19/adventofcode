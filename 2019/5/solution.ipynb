{
 "cells": [
  {
   "cell_type": "code",
   "execution_count": 22,
   "metadata": {},
   "outputs": [],
   "source": [
    "import numpy as np"
   ]
  },
  {
   "cell_type": "code",
   "execution_count": 23,
   "metadata": {},
   "outputs": [],
   "source": [
    "instructions_to_params = {\n",
    "    '01': 3,\n",
    "    '02': 3,\n",
    "    '03': 1,\n",
    "    '04': 1,\n",
    "    '05': 2,\n",
    "    '06': 2,\n",
    "    '07': 3,\n",
    "    '08': 3,\n",
    "    '99':0\n",
    "}"
   ]
  },
  {
   "cell_type": "code",
   "execution_count": 24,
   "metadata": {},
   "outputs": [],
   "source": [
    "def parse(element:str):\n",
    "    # Task-specific element parsing here\n",
    "    return element"
   ]
  },
  {
   "cell_type": "code",
   "execution_count": 25,
   "metadata": {},
   "outputs": [],
   "source": [
    "filename = 'input.txt'\n",
    "#filename = 'test1.txt'\n",
    "with open(filename) as f:\n",
    "    initial_integers = [element for element in f.read().replace('/n', '').split(',')]"
   ]
  },
  {
   "cell_type": "markdown",
   "metadata": {},
   "source": [
    "# Part 1"
   ]
  },
  {
   "cell_type": "code",
   "execution_count": 26,
   "metadata": {},
   "outputs": [
    {
     "name": "stdout",
     "output_type": "stream",
     "text": [
      "Enter your input: 1\n",
      "Output: 3\n",
      "Output: 0\n",
      "Output: 0\n",
      "Output: 0\n",
      "Output: 0\n",
      "Output: 0\n",
      "Output: 0\n",
      "Output: 0\n",
      "Output: 0\n",
      "Output: 2845163\n"
     ]
    }
   ],
   "source": [
    "integers = initial_integers.copy()\n",
    "i = 0\n",
    "op_code = integers[i]\n",
    "while op_code != '99':\n",
    "    op, param_modes = op_code[-2:].zfill(2), op_code[:-2]\n",
    "    #print('Op: ', op)\n",
    "    #print('Param_modes: ', param_modes)\n",
    "    #print('i: ', i)\n",
    "    length = instructions_to_params[op]\n",
    "    param_modes = [int(i) for i in param_modes.zfill(length)[::-1]]\n",
    "    params = [int(param) for param in integers[i+1:i+1+length]]\n",
    "    #print('Initial params: ', params)\n",
    "    params = [int(integers[value]) if param_modes[pos] == 0 and pos != length-1 else value for pos, value in enumerate(params)]\n",
    "    #print('Params: ', params)\n",
    "    if op == '01':\n",
    "        # Add - 3 params\n",
    "        a, b, output_pos = params\n",
    "        output = a + b\n",
    "        integers[output_pos] = output\n",
    "    elif op == '02':\n",
    "        # Multiply\n",
    "        a, b, output_pos = params\n",
    "        output = a * b\n",
    "        integers[output_pos] = output\n",
    "    elif op == '03':\n",
    "        # Read input\n",
    "        output_pos = params[0]\n",
    "        output = int(input('Enter your input: '))\n",
    "        integers[output_pos] = output\n",
    "    elif op == '04':\n",
    "        # Print output\n",
    "        output_pos = params[0]\n",
    "        print(f'Output: {integers[output_pos]}')\n",
    "    else:\n",
    "        raise Exception('Invalid op_code supplied: ', op_code)\n",
    "    i += length + 1\n",
    "    op_code = str(integers[i])"
   ]
  },
  {
   "cell_type": "markdown",
   "metadata": {},
   "source": [
    "# Part 2"
   ]
  },
  {
   "cell_type": "code",
   "execution_count": 30,
   "metadata": {},
   "outputs": [
    {
     "name": "stdout",
     "output_type": "stream",
     "text": [
      "Enter your input: 5\n",
      "Output: 9436229\n"
     ]
    }
   ],
   "source": [
    "integers = initial_integers.copy()\n",
    "i = 0\n",
    "op_code = integers[i]\n",
    "while op_code != '99':\n",
    "    op, param_modes = op_code[-2:].zfill(2), op_code[:-2]\n",
    "    #print('Op: ', op)\n",
    "    #print('Param_modes: ', param_modes)\n",
    "    #print('i: ', i)\n",
    "    length = instructions_to_params[op]\n",
    "    param_modes = [int(i) for i in param_modes.zfill(length)[::-1]]\n",
    "    params = [int(param) for param in integers[i+1:i+1+length]]\n",
    "    #print('Initial params: ', params)\n",
    "    params = [int(integers[value]) if param_modes[pos] == 0 and pos != length-1 else value for pos, value in enumerate(params)]\n",
    "    #print('Params: ', params)\n",
    "    if op == '01':\n",
    "        # Add - 3 params\n",
    "        a, b, output_pos = params\n",
    "        output = a + b\n",
    "        integers[output_pos] = output\n",
    "        i += length + 1\n",
    "    elif op == '02':\n",
    "        # Multiply\n",
    "        a, b, output_pos = params\n",
    "        output = a * b\n",
    "        integers[output_pos] = output\n",
    "        i += length + 1\n",
    "    elif op == '03':\n",
    "        # Read input\n",
    "        output_pos = params[0]\n",
    "        output = int(input('Enter your input: '))\n",
    "        integers[output_pos] = output\n",
    "        i += length + 1\n",
    "    elif op == '04':\n",
    "        # Print output\n",
    "        output_pos = params[0]\n",
    "        print(f'Output: {integers[output_pos]}')\n",
    "        i += length + 1\n",
    "    elif op == '05':\n",
    "        # Jump-if-true\n",
    "        value, output_val = params\n",
    "        if param_modes[-1] == 0:\n",
    "            output_val = int(integers[output_val])\n",
    "        if value > 0:\n",
    "            i = output_val\n",
    "        else:\n",
    "            i += length + 1\n",
    "    elif op == '06':\n",
    "        # Jump-if-true\n",
    "        value, output_val = params\n",
    "        if param_modes[-1] == 0:\n",
    "            output_val = int(integers[output_val])\n",
    "        if value == 0:\n",
    "            i = output_val\n",
    "        else:\n",
    "            i += length + 1\n",
    "    elif op == '07':\n",
    "        # Less than\n",
    "        a, b, output_pos = params\n",
    "        output = 1 if a < b else 0\n",
    "        integers[output_pos] = output\n",
    "        i += length + 1\n",
    "    elif op == '08':\n",
    "        # Equals\n",
    "        a, b, output_pos = params\n",
    "        output = 1 if a == b else 0\n",
    "        integers[output_pos] = output\n",
    "        i += length + 1\n",
    "    else:\n",
    "        raise Exception('Invalid op_code supplied: ', op_code)\n",
    "    op_code = str(integers[i])"
   ]
  }
 ],
 "metadata": {
  "kernelspec": {
   "display_name": "Python 3",
   "language": "python",
   "name": "python3"
  },
  "language_info": {
   "codemirror_mode": {
    "name": "ipython",
    "version": 3
   },
   "file_extension": ".py",
   "mimetype": "text/x-python",
   "name": "python",
   "nbconvert_exporter": "python",
   "pygments_lexer": "ipython3",
   "version": "3.7.4"
  }
 },
 "nbformat": 4,
 "nbformat_minor": 2
}
