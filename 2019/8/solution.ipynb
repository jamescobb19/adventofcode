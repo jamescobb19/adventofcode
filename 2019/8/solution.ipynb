{
 "cells": [
  {
   "cell_type": "code",
   "execution_count": 1,
   "metadata": {},
   "outputs": [],
   "source": [
    "import numpy as np"
   ]
  },
  {
   "cell_type": "code",
   "execution_count": 2,
   "metadata": {},
   "outputs": [],
   "source": [
    "def parse(element:str):\n",
    "    # Task-specific element parsing here\n",
    "    element = int(element)\n",
    "    return element"
   ]
  },
  {
   "cell_type": "code",
   "execution_count": 3,
   "metadata": {},
   "outputs": [],
   "source": [
    "filename = 'input.txt'\n",
    "#filename = 'test1.txt'\n",
    "with open(filename) as f:\n",
    "    pixels = np.asarray([parse(element) for element in f.read().replace('/n', '')])"
   ]
  },
  {
   "cell_type": "markdown",
   "metadata": {},
   "source": [
    "# Part 1"
   ]
  },
  {
   "cell_type": "code",
   "execution_count": 34,
   "metadata": {},
   "outputs": [
    {
     "name": "stdout",
     "output_type": "stream",
     "text": [
      "150\n",
      "(array([2, 2, 2, 2, 2, 2, 2, 2, 0, 2, 1, 2, 2, 2, 2, 2, 2, 2, 2, 2, 0, 2,\n",
      "       2, 2, 2, 2, 2, 2, 2, 2, 2, 2, 2, 2, 0, 2, 2, 2, 2, 2, 2, 2, 2, 2,\n",
      "       2, 2, 1, 2, 2, 2, 2, 2, 0, 2, 2, 2, 0, 2, 2, 2, 2, 2, 1, 2, 2, 2,\n",
      "       2, 2, 2, 2, 2, 2, 2, 2, 2, 2, 2, 2, 1, 2, 2, 2, 2, 2, 2, 2, 2, 1,\n",
      "       2, 2, 1, 2, 2, 2, 2, 2, 2, 2, 2, 2, 2, 2, 2, 2, 2, 0, 2, 2, 1, 2,\n",
      "       2, 2, 2, 2, 2, 2, 2, 2, 2, 1, 2, 2, 2, 2, 2, 2, 2, 2, 2, 2, 2, 2,\n",
      "       2, 2, 2, 2, 2, 1, 2, 2, 2, 2, 2, 2, 2, 2, 2, 2, 2, 2]), array([  6,   9, 135]))\n"
     ]
    },
    {
     "data": {
      "text/plain": [
       "1215"
      ]
     },
     "execution_count": 34,
     "metadata": {},
     "output_type": "execute_result"
    }
   ],
   "source": [
    "width = 25\n",
    "height = 6\n",
    "num_chunks = len(pixels)/(width*height)\n",
    "layers = np.split(pixels, num_chunks)\n",
    "layers_and_counts = zip(layers, [np.unique(layer, return_counts=True)[1] for layer in layers])\n",
    "min_layer = min(layers_and_counts, key=lambda x: x[1][0])\n",
    "#print(min_layer)\n",
    "min_layer[1][1] * min_layer[1][2]"
   ]
  },
  {
   "cell_type": "markdown",
   "metadata": {},
   "source": [
    "# Part 2"
   ]
  },
  {
   "cell_type": "code",
   "execution_count": 119,
   "metadata": {},
   "outputs": [
    {
     "name": "stdout",
     "output_type": "stream",
     "text": [
      "     ** *  **  ***  *  * \n",
      "*    *  * *  * *  * *  * \n",
      "*    **** *    *  * **** \n",
      "*    *  * *    ***  *  * \n",
      "*    *  * *  * *    *  * \n",
      "**** *  *  **  *    *  * \n"
     ]
    }
   ],
   "source": [
    "actual_layers = pixels.reshape(int(num_chunks), height, width)\n",
    "image = np.zeros([height, width], dtype=str)\n",
    "for i in range(height):\n",
    "    for j in range(width):\n",
    "        pixel_layers = actual_layers[:, i, j]\n",
    "        black_index = np.where(pixel_layers==0)[0]\n",
    "        white_index = np.where(pixel_layers==1)[0]\n",
    "        # It's easier to see when reversing the colours\n",
    "        if black_index.size > 0  and (white_index.size == 0 or black_index[0] < white_index[0]):\n",
    "            image[i, j] = ' '\n",
    "        else:\n",
    "            image[i, j] = '*'\n",
    "for row in image:\n",
    "    # This looks a little bit strange but you can just make out the phrase\n",
    "    print(''.join(row))"
   ]
  }
 ],
 "metadata": {
  "kernelspec": {
   "display_name": "Python 3",
   "language": "python",
   "name": "python3"
  },
  "language_info": {
   "codemirror_mode": {
    "name": "ipython",
    "version": 3
   },
   "file_extension": ".py",
   "mimetype": "text/x-python",
   "name": "python",
   "nbconvert_exporter": "python",
   "pygments_lexer": "ipython3",
   "version": "3.7.4"
  }
 },
 "nbformat": 4,
 "nbformat_minor": 2
}
