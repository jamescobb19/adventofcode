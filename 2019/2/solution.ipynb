{
 "cells": [
  {
   "cell_type": "code",
   "execution_count": 25,
   "metadata": {},
   "outputs": [],
   "source": [
    "import numpy as np"
   ]
  },
  {
   "cell_type": "code",
   "execution_count": 26,
   "metadata": {},
   "outputs": [],
   "source": [
    "# Read input\n",
    "filename = 'input.txt'\n",
    "#filename = 'test1.txt'\n",
    "with open(filename) as f:\n",
    "    input = f.read().replace('/n', '')\n",
    "integers = np.asarray(input.split(',')).astype(int)"
   ]
  },
  {
   "cell_type": "markdown",
   "metadata": {},
   "source": [
    "# Part 1"
   ]
  },
  {
   "cell_type": "code",
   "execution_count": 27,
   "metadata": {},
   "outputs": [
    {
     "data": {
      "text/plain": [
       "array([  1,  12,   2,   3,   1,   1,   2,   3,   1,   3,   4,   3,   1,\n",
       "         5,   0,   3,   2,   1,   9,  19,   1,  19,   5,  23,   2,  23,\n",
       "        13,  27,   1,  10,  27,  31,   2,  31,   6,  35,   1,   5,  35,\n",
       "        39,   1,  39,  10,  43,   2,   9,  43,  47,   1,  47,   5,  51,\n",
       "         2,  51,   9,  55,   1,  13,  55,  59,   1,  13,  59,  63,   1,\n",
       "         6,  63,  67,   2,  13,  67,  71,   1,  10,  71,  75,   2,  13,\n",
       "        75,  79,   1,   5,  79,  83,   2,  83,   9,  87,   2,  87,  13,\n",
       "        91,   1,  91,   5,  95,   2,   9,  95,  99,   1,  99,   5, 103,\n",
       "         1,   2, 103, 107,   1,  10, 107,   0,  99,   2,  14,   0,   0])"
      ]
     },
     "execution_count": 27,
     "metadata": {},
     "output_type": "execute_result"
    }
   ],
   "source": [
    "# Convert input for part 1\n",
    "if filename == 'input.txt':\n",
    "    integers[1] = 12\n",
    "    integers[2] = 2\n",
    "integers"
   ]
  },
  {
   "cell_type": "code",
   "execution_count": 28,
   "metadata": {},
   "outputs": [],
   "source": [
    "i = 0\n",
    "op_code = integers[i]\n",
    "while op_code != 99:\n",
    "    a = integers[integers[i+1]]\n",
    "    b = integers[integers[i+2]]\n",
    "    output_pos = integers[i+3]\n",
    "    if op_code == 1:\n",
    "        output = a + b\n",
    "    elif op_code == 2:\n",
    "        output = a * b\n",
    "    else:\n",
    "        raise Exception('Invalid op_code supplied')\n",
    "    integers[output_pos] = output\n",
    "    i += 4\n",
    "    op_code = integers[i]"
   ]
  },
  {
   "cell_type": "code",
   "execution_count": 29,
   "metadata": {},
   "outputs": [
    {
     "data": {
      "text/plain": [
       "array([3895705,      12,       2,       2,       1,       1,       2,\n",
       "             3,       1,       3,       4,       3,       1,       5,\n",
       "             0,       3,       2,       1,       9,      36,       1,\n",
       "            19,       5,      37,       2,      23,      13,     185,\n",
       "             1,      10,      27,     189,       2,      31,       6,\n",
       "           378,       1,       5,      35,     379,       1,      39,\n",
       "            10,     383,       2,       9,      43,    1149,       1,\n",
       "            47,       5,    1150,       2,      51,       9,    3450,\n",
       "             1,      13,      55,    3455,       1,      13,      59,\n",
       "          3460,       1,       6,      63,    3462,       2,      13,\n",
       "            67,   17310,       1,      10,      71,   17314,       2,\n",
       "            13,      75,   86570,       1,       5,      79,   86571,\n",
       "             2,      83,       9,  259713,       2,      87,      13,\n",
       "       1298565,       1,      91,       5, 1298566,       2,       9,\n",
       "            95, 3895698,       1,      99,       5, 3895699,       1,\n",
       "             2,     103, 3895701,       1,      10,     107,       0,\n",
       "            99,       2,      14,       0,       0])"
      ]
     },
     "execution_count": 29,
     "metadata": {},
     "output_type": "execute_result"
    }
   ],
   "source": [
    "integers"
   ]
  },
  {
   "cell_type": "markdown",
   "metadata": {},
   "source": [
    "# Part 2"
   ]
  },
  {
   "cell_type": "code",
   "execution_count": 44,
   "metadata": {},
   "outputs": [],
   "source": [
    "# Read input\n",
    "filename = 'input.txt'\n",
    "#filename = 'test1.txt'\n",
    "with open(filename) as f:\n",
    "    input = f.read().replace('/n', '')\n",
    "integers_original = np.asarray(input.split(',')).astype(int)"
   ]
  },
  {
   "cell_type": "code",
   "execution_count": 41,
   "metadata": {},
   "outputs": [],
   "source": [
    "target = 19690720\n",
    "max_value = 99\n",
    "grid_search = np.zeros(shape=(max_value,max_value)).astype(bool)"
   ]
  },
  {
   "cell_type": "code",
   "execution_count": 69,
   "metadata": {},
   "outputs": [],
   "source": [
    "def find_target(noun:int, verb:int):\n",
    "    integers = integers_original.copy()\n",
    "    integers[1] = noun\n",
    "    integers[2] = verb\n",
    "    i = 0\n",
    "    op_code = integers[i]\n",
    "    while op_code != 99:\n",
    "        a = integers[integers[i+1]]\n",
    "        b = integers[integers[i+2]]\n",
    "        output_pos = integers[i+3]\n",
    "        if op_code == 1:\n",
    "            output = a + b\n",
    "        elif op_code == 2:\n",
    "            output = a * b\n",
    "        else:\n",
    "            raise Exception('Invalid op_code supplied')\n",
    "        integers[output_pos] = output\n",
    "        i += 4\n",
    "        op_code = integers[i]\n",
    "    return integers[0] == target"
   ]
  },
  {
   "cell_type": "code",
   "execution_count": 70,
   "metadata": {},
   "outputs": [],
   "source": [
    "for x in range(max_value):\n",
    "    for y in range(max_value):\n",
    "        grid_search[x][y] = find_target(x, y)"
   ]
  },
  {
   "cell_type": "code",
   "execution_count": 75,
   "metadata": {},
   "outputs": [
    {
     "data": {
      "text/plain": [
       "array([[64, 17]])"
      ]
     },
     "execution_count": 75,
     "metadata": {},
     "output_type": "execute_result"
    }
   ],
   "source": [
    "result = np.argwhere(grid_search)\n",
    "result"
   ]
  },
  {
   "cell_type": "code",
   "execution_count": 79,
   "metadata": {},
   "outputs": [
    {
     "data": {
      "text/plain": [
       "6417"
      ]
     },
     "execution_count": 79,
     "metadata": {},
     "output_type": "execute_result"
    }
   ],
   "source": [
    "100 * result[0][0] + result[0][1]"
   ]
  }
 ],
 "metadata": {
  "kernelspec": {
   "display_name": "Advent of Code",
   "language": "python",
   "name": "aoc"
  },
  "language_info": {
   "codemirror_mode": {
    "name": "ipython",
    "version": 3
   },
   "file_extension": ".py",
   "mimetype": "text/x-python",
   "name": "python",
   "nbconvert_exporter": "python",
   "pygments_lexer": "ipython3",
   "version": "3.7.4"
  }
 },
 "nbformat": 4,
 "nbformat_minor": 2
}
