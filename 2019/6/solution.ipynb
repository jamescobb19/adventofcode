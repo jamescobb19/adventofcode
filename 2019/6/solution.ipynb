{
 "cells": [
  {
   "cell_type": "code",
   "execution_count": 124,
   "metadata": {},
   "outputs": [],
   "source": [
    "from collections import defaultdict\n",
    "import numpy as np"
   ]
  },
  {
   "cell_type": "code",
   "execution_count": 125,
   "metadata": {},
   "outputs": [],
   "source": [
    "orbit_chain = defaultdict(list)\n",
    "orbits = defaultdict(list)\n",
    "direct_orbits = {}"
   ]
  },
  {
   "cell_type": "markdown",
   "metadata": {},
   "source": [
    "# Part 1"
   ]
  },
  {
   "cell_type": "code",
   "execution_count": 126,
   "metadata": {},
   "outputs": [],
   "source": [
    "def add_orbits(element:str):\n",
    "    # Task-specific element parsing here\n",
    "    gravitational_body, satellite = element.split(')')\n",
    "    orbit_chain[gravitational_body].append(satellite)\n",
    "    direct_orbits[satellite] = gravitational_body"
   ]
  },
  {
   "cell_type": "code",
   "execution_count": 127,
   "metadata": {},
   "outputs": [],
   "source": [
    "filename = 'input.txt'\n",
    "#filename = 'test1.txt'\n",
    "with open(filename) as f:\n",
    "    for element in f.readlines():\n",
    "        add_orbits(element.replace('\\n', ''))"
   ]
  },
  {
   "cell_type": "code",
   "execution_count": 128,
   "metadata": {},
   "outputs": [],
   "source": [
    "# Run DFS over orbital bodies to build numbers of orbits\n",
    "child = 'COM'\n",
    "orbits[child] = []\n",
    "bodies = [(child, body) for body in orbit_chain[child]]\n",
    "while bodies:\n",
    "    #print('Bodies: ', bodies)\n",
    "    parent, child = bodies.pop()\n",
    "    #print('Parent: ', parent)\n",
    "    #print('Child: ', child)\n",
    "    if child in orbit_chain:\n",
    "        bodies.extend([(child, body) for body in orbit_chain[child]])\n",
    "    orbits[child] = [parent] + orbits[parent]"
   ]
  },
  {
   "cell_type": "code",
   "execution_count": 129,
   "metadata": {},
   "outputs": [
    {
     "name": "stdout",
     "output_type": "stream",
     "text": [
      "295936\n"
     ]
    }
   ],
   "source": [
    "total_num_orbits = sum([len(bodies) for bodies in orbits.values()])\n",
    "#print(orbits)\n",
    "print(total_num_orbits)"
   ]
  },
  {
   "cell_type": "markdown",
   "metadata": {},
   "source": [
    "# Part 2"
   ]
  },
  {
   "cell_type": "code",
   "execution_count": 130,
   "metadata": {},
   "outputs": [],
   "source": [
    "if filename == 'test1.txt':\n",
    "    direct_orbits['YOU'] = 'K'\n",
    "    direct_orbits['SAN'] = 'I'\n",
    "    orbits['YOU'] = ['K'] + orbits['K']\n",
    "    orbits['SAN'] = ['I'] + orbits['I']"
   ]
  },
  {
   "cell_type": "code",
   "execution_count": 131,
   "metadata": {},
   "outputs": [],
   "source": [
    "target = direct_orbits['SAN']\n",
    "current_body = direct_orbits['YOU']\n",
    "visited = ['YOU', current_body]\n",
    "distance = 0\n",
    "candidates = []\n",
    "while current_body != target:\n",
    "    new_candidates = [direct_orbits[current_body]] + orbit_chain[current_body]\n",
    "    new_candidates = [(candidate, distance+1) for candidate in new_candidates if candidate not in visited]\n",
    "    candidates.extend(new_candidates)\n",
    "    current_body, distance = candidates.pop()\n",
    "    visited.append(current_body)"
   ]
  },
  {
   "cell_type": "code",
   "execution_count": 132,
   "metadata": {},
   "outputs": [
    {
     "name": "stdout",
     "output_type": "stream",
     "text": [
      "Final distance:  457\n"
     ]
    }
   ],
   "source": [
    "print('Final distance: ', distance)"
   ]
  }
 ],
 "metadata": {
  "kernelspec": {
   "display_name": "Python 3",
   "language": "python",
   "name": "python3"
  },
  "language_info": {
   "codemirror_mode": {
    "name": "ipython",
    "version": 3
   },
   "file_extension": ".py",
   "mimetype": "text/x-python",
   "name": "python",
   "nbconvert_exporter": "python",
   "pygments_lexer": "ipython3",
   "version": "3.7.4"
  }
 },
 "nbformat": 4,
 "nbformat_minor": 2
}
