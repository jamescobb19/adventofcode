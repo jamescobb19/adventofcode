{
 "cells": [
  {
   "cell_type": "code",
   "execution_count": 1,
   "metadata": {},
   "outputs": [
    {
     "data": {
      "text/plain": [
       "\u001b[32mimport \u001b[36mscala.collection.mutable.ListBuffer\u001b[0m\n",
       "\u001b[32mimport \u001b[36mscala.util.control.Breaks._\u001b[0m\n",
       "\u001b[36minput\u001b[0m: \u001b[32mInt\u001b[0m = \u001b[32m190221\u001b[0m\n",
       "\u001b[36mtest1\u001b[0m: \u001b[32mInt\u001b[0m = \u001b[32m5\u001b[0m\n",
       "\u001b[36mtest2\u001b[0m: \u001b[32mInt\u001b[0m = \u001b[32m9\u001b[0m\n",
       "\u001b[36mtest3\u001b[0m: \u001b[32mInt\u001b[0m = \u001b[32m2018\u001b[0m\n",
       "\u001b[36mrecipes\u001b[0m: \u001b[32mcollection\u001b[0m.\u001b[32mmutable\u001b[0m.\u001b[32mListBuffer\u001b[0m[\u001b[32mInt\u001b[0m] = \u001b[33mListBuffer\u001b[0m(\u001b[32m3\u001b[0m, \u001b[32m7\u001b[0m)\n",
       "\u001b[36melf1\u001b[0m: \u001b[32mInt\u001b[0m = \u001b[32m0\u001b[0m\n",
       "\u001b[36melf2\u001b[0m: \u001b[32mInt\u001b[0m = \u001b[32m1\u001b[0m\n",
       "\u001b[36mcurrentInput\u001b[0m: \u001b[32mInt\u001b[0m = \u001b[32m190221\u001b[0m\n",
       "\u001b[36mrecipeLimit\u001b[0m: \u001b[32mInt\u001b[0m = \u001b[32m190231\u001b[0m"
      ]
     },
     "metadata": {},
     "output_type": "display_data"
    }
   ],
   "source": [
    "import scala.collection.mutable.ListBuffer\n",
    "import scala.util.control.Breaks._\n",
    "val input = 190221\n",
    "val test1 = 5 // 0124515891\n",
    "val test2 = 9 // 5158916779\n",
    "val test3 = 2018 // 5941429882\n",
    "// The recipes list\n",
    "val recipes = ListBuffer(3,7)\n",
    "// The position of the elves in the recipe list\n",
    "var elf1 = 0 \n",
    "var elf2 = 1\n",
    "\n",
    "val currentInput = input\n",
    "val recipeLimit = currentInput + 10"
   ]
  },
  {
   "cell_type": "code",
   "execution_count": null,
   "metadata": {},
   "outputs": [
    {
     "name": "stdout",
     "output_type": "stream",
     "text": [
      "6644/190231/1902318/1902314/1902317/1902311/1902312/1902316/1902317/1902318/1902316/1902316/1902310/1902317/1902316/1902319/1902310/1902311/1902319/1902318/1902318/1902314/1902312/1902311/1902311/1902311/1902319/1902311/1902313/1902315/1902315/1902313/1902311/1902314/1902319/1902317/1902311/1902311/1902312/1902319/1902310/1902311/1902313/1902311/1902318/1902316/1902317/1902319/1902312/1902314/1902310/190231"
     ]
    }
   ],
   "source": [
    "while (recipes.length < recipeLimit) {\n",
    "    print(\"\\r\" + recipes.length + \"/\" + recipeLimit)\n",
    "    recipes.appendAll((recipes(elf1) + recipes(elf2)).toString.toCharArray.map(_ asDigit))\n",
    "    elf1 = (elf1 + 1 + recipes(elf1)) % recipes.length\n",
    "    elf2 = (elf2 + 1 + recipes(elf2)) % recipes.length\n",
    "}\n",
    "recipes.slice(currentInput, recipeLimit)"
   ]
  },
  {
   "cell_type": "code",
   "execution_count": null,
   "metadata": {},
   "outputs": [],
   "source": [
    "recipes\n",
    "elf1\n",
    "elf2\n"
   ]
  },
  {
   "cell_type": "markdown",
   "metadata": {},
   "source": [
    "## Part 2"
   ]
  },
  {
   "cell_type": "code",
   "execution_count": null,
   "metadata": {},
   "outputs": [],
   "source": [
    "// After some experiments, this notebook doesn't have the memory requirements to populate large collections of large unknown size\n",
    "// Instead, just going to use the fact that I know it's ~30million recipes and create a fixed size array\n",
    "// In practice, an ArrayList here would be better and achieve reasonable results (<1m)"
   ]
  },
  {
   "cell_type": "code",
   "execution_count": null,
   "metadata": {},
   "outputs": [],
   "source": [
    "// Some potentially faster methods of performing O(1) circle list insertions\n",
    "import scala.collection.mutable.HashMap\n",
    "\n",
    "// Initialise the circle with recipes 3 and 7\n",
    "val recipesMap = HashMap[Long, Int]((0, 3), (1, 7))\n",
    "var elf1 = 0L\n",
    "var elf2 = 1L"
   ]
  },
  {
   "cell_type": "code",
   "execution_count": null,
   "metadata": {},
   "outputs": [],
   "source": [
    "val recipesArray = Array.ofDim[Int](30000000)\n",
    "recipesArray(0) = 3\n",
    "recipesArray(1) = 7\n",
    "var elf1 = 0\n",
    "var elf2 = 1"
   ]
  },
  {
   "cell_type": "code",
   "execution_count": null,
   "metadata": {},
   "outputs": [],
   "source": [
    "val inputp2 = \"190221\"\n",
    "val test1p2 = \"51589\" // 9\n",
    "val test2p2 = \"01245\" // 5\n",
    "val test3p2 = \"59414\" // 2018\n",
    "\n",
    "val currentp2 = inputp2.toCharArray.map(_ asDigit)\n",
    "val matchLength = currentp2.length"
   ]
  },
  {
   "cell_type": "code",
   "execution_count": null,
   "metadata": {},
   "outputs": [],
   "source": [
    "var numRecipes = 2\n",
    "var newRecipeArray = Array[Int]()\n",
    "var stringFound = false\n",
    "var finalNumRecipes = -1"
   ]
  },
  {
   "cell_type": "code",
   "execution_count": null,
   "metadata": {},
   "outputs": [],
   "source": [
    "while (!stringFound) {\n",
    "    if (numRecipes % 10000 == 0) {\n",
    "        print(\"\\r\" + numRecipes)\n",
    "    }\n",
    "    newRecipeArray = (recipesArray(elf1) + recipesArray(elf2)).toString.toCharArray.map(_ asDigit)\n",
    "    for (newRecipe <- newRecipeArray)\n",
    "    {\n",
    "        numRecipes += 1\n",
    "        recipesArray(numRecipes-1) = newRecipe\n",
    "        // This should only not happen while there are a few recipes\n",
    "        if (numRecipes >= matchLength) {\n",
    "            if (currentp2.zipWithIndex.forall({case (value, i) => value == recipesArray(numRecipes-matchLength+i)}))\n",
    "            {\n",
    "                stringFound = true\n",
    "                finalNumRecipes = numRecipes-matchLength\n",
    "            }\n",
    "        }\n",
    "    }\n",
    "    elf1 = (elf1 + 1 + recipesArray(elf1)) % numRecipes\n",
    "    elf2 = (elf2 + 1 + recipesArray(elf2)) % numRecipes\n",
    "}\n",
    "println()\n",
    "println(\"Answer: \" + finalNumRecipes)\n",
    "finalNumRecipes"
   ]
  },
  {
   "cell_type": "code",
   "execution_count": null,
   "metadata": {},
   "outputs": [],
   "source": [
    "recipesArray(0)"
   ]
  },
  {
   "cell_type": "code",
   "execution_count": null,
   "metadata": {},
   "outputs": [],
   "source": [
    "numRecipes\n",
    "val t1 = Array[Int](3, 7, 3, 7, 3, 7)\n",
    "val t2 = Array[Int](1,9,0,2,2,1)\n",
    "val t3 = Array[Int](1,9,0,2,2,3)\n",
    "val t4 = Array[Int](1,9,0,2,2,3,1,2)\n",
    "val t5 = Array[Int](1,1,9,0,2,2,1)\n",
    "currentp2\n"
   ]
  },
  {
   "cell_type": "code",
   "execution_count": null,
   "metadata": {},
   "outputs": [],
   "source": [
    "val t = t2\n",
    "val n = t.size\n",
    "currentp2.zipWithIndex.forall({case (value, i) => value == t(n-currentp2.length+i)})"
   ]
  },
  {
   "cell_type": "code",
   "execution_count": null,
   "metadata": {},
   "outputs": [],
   "source": [
    "recipesArray"
   ]
  }
 ],
 "metadata": {
  "kernelspec": {
   "display_name": "Scala 2.11",
   "language": "scala211",
   "name": "scala211"
  },
  "language_info": {
   "codemirror_mode": "text/x-scala",
   "file_extension": ".scala",
   "mimetype": "text/x-scala",
   "name": "scala211",
   "pygments_lexer": "scala",
   "version": "2.11.6"
  }
 },
 "nbformat": 4,
 "nbformat_minor": 2
}
