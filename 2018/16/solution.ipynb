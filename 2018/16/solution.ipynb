{
 "cells": [
  {
   "cell_type": "code",
   "execution_count": 19,
   "metadata": {},
   "outputs": [
    {
     "data": {
      "text/plain": [
       "defined \u001b[32mclass \u001b[36mOperation\u001b[0m\n",
       "defined \u001b[32mobject \u001b[36mOperation\u001b[0m"
      ]
     },
     "metadata": {},
     "output_type": "display_data"
    }
   ],
   "source": [
    "case class Operation(before: Array[Int], opCode: Int, a: Int, b: Int, output: Int, after: Array[Int])\n",
    "\n",
    "object Operation {\n",
    "    def apply(opList: List[String]) : Operation = {\n",
    "        val op = opList(1).split(' ').map(_ toInt)\n",
    "        Operation(opList(0).split('[')(1).stripSuffix(\"]\").split(\", \").map(_ toInt),\n",
    "                  op(0), op(1), op(2), op(3),\n",
    "                  opList(2).split('[')(1).stripSuffix(\"]\").split(\", \").map(_ toInt))\n",
    "    }\n",
    "                                    \n",
    "    def apply(before: Array[Int], opString: String) : Operation = {\n",
    "        val op = opString.split(' ').map(_ toInt)\n",
    "        Operation(before,\n",
    "                  op(0), op(1), op(2), op(3),\n",
    "                  Array[Int]())\n",
    "    }\n",
    "}"
   ]
  },
  {
   "cell_type": "code",
   "execution_count": 20,
   "metadata": {},
   "outputs": [
    {
     "data": {
      "text/plain": [
       "\u001b[32mimport \u001b[36mscala.io.Source\u001b[0m\n",
       "\u001b[32mimport \u001b[36mscala.collection.mutable.ListBuffer\u001b[0m\n",
       "\u001b[36mfilename\u001b[0m: \u001b[32mString\u001b[0m = \u001b[32m\"input\"\u001b[0m\n",
       "\u001b[36mlines\u001b[0m: \u001b[32mList\u001b[0m[\u001b[32mString\u001b[0m] = \u001b[33mList\u001b[0m(\n",
       "  \u001b[32m\"Before: [2, 1, 1, 0]\"\u001b[0m,\n",
       "  \u001b[32m\"10 1 3 1\"\u001b[0m,\n",
       "  \u001b[32m\"After:  [2, 1, 1, 0]\"\u001b[0m,\n",
       "  \u001b[32m\"Before: [1, 1, 3, 3]\"\u001b[0m,\n",
       "  \u001b[32m\"6 1 0 0\"\u001b[0m,\n",
       "  \u001b[32m\"After:  [1, 1, 3, 3]\"\u001b[0m,\n",
       "  \u001b[32m\"Before: [2, 1, 2, 2]\"\u001b[0m,\n",
       "  \u001b[32m\"14 1 3 0\"\u001b[0m,\n",
       "  \u001b[32m\"After:  [0, 1, 2, 2]\"\u001b[0m,\n",
       "  \u001b[32m\"Before: [1, 2, 2, 3]\"\u001b[0m,\n",
       "  \u001b[32m\"1 0 2 2\"\u001b[0m,\n",
       "  \u001b[32m\"After:  [1, 2, 0, 3]\"\u001b[0m,\n",
       "  \u001b[32m\"Before: [2, 2, 3, 2]\"\u001b[0m,\n",
       "  \u001b[32m\"12 0 2 3\"\u001b[0m,\n",
       "\u001b[33m...\u001b[0m\n",
       "\u001b[36mops\u001b[0m: \u001b[32mcollection\u001b[0m.\u001b[32mmutable\u001b[0m.\u001b[32mListBuffer\u001b[0m[\u001b[32mOperation\u001b[0m] = \u001b[33mListBuffer\u001b[0m(\n",
       "  \u001b[33mOperation\u001b[0m(\n",
       "    \u001b[33mArray\u001b[0m(\u001b[32m2\u001b[0m, \u001b[32m1\u001b[0m, \u001b[32m1\u001b[0m, \u001b[32m0\u001b[0m),\n",
       "    \u001b[32m10\u001b[0m,\n",
       "    \u001b[32m1\u001b[0m,\n",
       "    \u001b[32m3\u001b[0m,\n",
       "    \u001b[32m1\u001b[0m,\n",
       "    \u001b[33mArray\u001b[0m(\u001b[32m2\u001b[0m, \u001b[32m1\u001b[0m, \u001b[32m1\u001b[0m, \u001b[32m0\u001b[0m)\n",
       "  ),\n",
       "  \u001b[33mOperation\u001b[0m(\n",
       "    \u001b[33mArray\u001b[0m(\u001b[32m1\u001b[0m, \u001b[32m1\u001b[0m, \u001b[32m3\u001b[0m, \u001b[32m3\u001b[0m),\n",
       "    \u001b[32m6\u001b[0m,\n",
       "    \u001b[32m1\u001b[0m,\n",
       "    \u001b[32m0\u001b[0m,\n",
       "    \u001b[32m0\u001b[0m,\n",
       "\u001b[33m...\u001b[0m\n",
       "\u001b[36mi\u001b[0m: \u001b[32mInt\u001b[0m = \u001b[32m2331\u001b[0m\n",
       "\u001b[36msampleProgram\u001b[0m: \u001b[32mList\u001b[0m[\u001b[32mString\u001b[0m] = \u001b[33mList\u001b[0m(\n",
       "  \u001b[32m\"1 2 3 0\"\u001b[0m,\n",
       "  \u001b[32m\"1 0 0 3\"\u001b[0m,\n",
       "  \u001b[32m\"0 2 0 2\"\u001b[0m,\n",
       "  \u001b[32m\"6 2 3 2\"\u001b[0m,\n",
       "  \u001b[32m\"8 3 2 0\"\u001b[0m,\n",
       "  \u001b[32m\"0 0 3 0\"\u001b[0m,\n",
       "  \u001b[32m\"10 1 0 1\"\u001b[0m,\n",
       "  \u001b[32m\"15 1 1 2\"\u001b[0m,\n",
       "  \u001b[32m\"1 3 3 3\"\u001b[0m,\n",
       "  \u001b[32m\"1 1 3 0\"\u001b[0m,\n",
       "  \u001b[32m\"1 2 0 1\"\u001b[0m,\n",
       "  \u001b[32m\"1 1 3 0\"\u001b[0m,\n",
       "  \u001b[32m\"0 0 2 0\"\u001b[0m,\n",
       "  \u001b[32m\"10 0 2 2\"\u001b[0m,\n",
       "\u001b[33m...\u001b[0m"
      ]
     },
     "metadata": {},
     "output_type": "display_data"
    }
   ],
   "source": [
    "import scala.io.Source\n",
    "import scala.collection.mutable.ListBuffer\n",
    "val filename = \"input\"\n",
    "val lines = Source.fromFile(filename).getLines.toList.filter(_ != \"\")\n",
    "val ops = ListBuffer[Operation]()\n",
    "var i = 0\n",
    "while (i < lines.length && lines(i).startsWith(\"Before\")) {\n",
    "    ops += Operation(lines.slice(i, i+3))\n",
    "    i += 3\n",
    "}\n",
    "val sampleProgram = lines.slice(i, lines.length)"
   ]
  },
  {
   "cell_type": "code",
   "execution_count": 21,
   "metadata": {},
   "outputs": [
    {
     "data": {
      "text/plain": [
       "defined \u001b[32mfunction \u001b[36maddr\u001b[0m\n",
       "defined \u001b[32mfunction \u001b[36maddi\u001b[0m\n",
       "defined \u001b[32mfunction \u001b[36mmulr\u001b[0m\n",
       "defined \u001b[32mfunction \u001b[36mmuli\u001b[0m\n",
       "defined \u001b[32mfunction \u001b[36mbanr\u001b[0m\n",
       "defined \u001b[32mfunction \u001b[36mbani\u001b[0m\n",
       "defined \u001b[32mfunction \u001b[36mborr\u001b[0m\n",
       "defined \u001b[32mfunction \u001b[36mbori\u001b[0m\n",
       "defined \u001b[32mfunction \u001b[36msetr\u001b[0m\n",
       "defined \u001b[32mfunction \u001b[36mseti\u001b[0m\n",
       "defined \u001b[32mfunction \u001b[36mgtir\u001b[0m\n",
       "defined \u001b[32mfunction \u001b[36mgtri\u001b[0m\n",
       "defined \u001b[32mfunction \u001b[36mgtrr\u001b[0m\n",
       "defined \u001b[32mfunction \u001b[36meqir\u001b[0m\n",
       "defined \u001b[32mfunction \u001b[36meqri\u001b[0m\n",
       "defined \u001b[32mfunction \u001b[36meqrr\u001b[0m\n",
       "\u001b[36mallOperations\u001b[0m: \u001b[32mArray\u001b[0m[\u001b[32mOperation\u001b[0m => \u001b[32mInt\u001b[0m] = \u001b[33mArray\u001b[0m(\n",
       "  <function1>,\n",
       "  <function1>,\n",
       "  <function1>,\n",
       "  <function1>,\n",
       "  <function1>,\n",
       "  <function1>,\n",
       "  <function1>,\n",
       "  <function1>,\n",
       "  <function1>,\n",
       "  <function1>,\n",
       "  <function1>,\n",
       "  <function1>,\n",
       "  <function1>,\n",
       "  <function1>,\n",
       "\u001b[33m...\u001b[0m\n",
       "\u001b[36mopNames\u001b[0m: \u001b[32mArray\u001b[0m[\u001b[32mString\u001b[0m] = \u001b[33mArray\u001b[0m(\n",
       "  \u001b[32m\"addr\"\u001b[0m,\n",
       "  \u001b[32m\"addi\"\u001b[0m,\n",
       "  \u001b[32m\"mulr\"\u001b[0m,\n",
       "  \u001b[32m\"muli\"\u001b[0m,\n",
       "  \u001b[32m\"banr\"\u001b[0m,\n",
       "  \u001b[32m\"bani\"\u001b[0m,\n",
       "  \u001b[32m\"borr\"\u001b[0m,\n",
       "  \u001b[32m\"bori\"\u001b[0m,\n",
       "  \u001b[32m\"setr\"\u001b[0m,\n",
       "  \u001b[32m\"seti\"\u001b[0m,\n",
       "  \u001b[32m\"gtir\"\u001b[0m,\n",
       "  \u001b[32m\"gtri\"\u001b[0m,\n",
       "  \u001b[32m\"gtrr\"\u001b[0m,\n",
       "  \u001b[32m\"eqir\"\u001b[0m,\n",
       "\u001b[33m...\u001b[0m"
      ]
     },
     "metadata": {},
     "output_type": "display_data"
    }
   ],
   "source": [
    "def addr(op: Operation) : Int = op.before(op.a) + op.before(op.b)\n",
    "def addi(op: Operation) : Int = op.before(op.a) + op.b\n",
    "def mulr(op: Operation) : Int = op.before(op.a) * op.before(op.b)\n",
    "def muli(op: Operation) : Int = op.before(op.a) * op.b\n",
    "def banr(op: Operation) : Int = op.before(op.a) & op.before(op.b)\n",
    "def bani(op: Operation) : Int = op.before(op.a) & op.b\n",
    "def borr(op: Operation) : Int = op.before(op.a) | op.before(op.b)\n",
    "def bori(op: Operation) : Int = op.before(op.a) | op.b\n",
    "def setr(op: Operation) : Int = op.before(op.a)\n",
    "def seti(op: Operation) : Int = op.a\n",
    "def gtir(op: Operation) : Int = if (op.a > op.before(op.b)) 1 else 0\n",
    "def gtri(op: Operation) : Int = if (op.before(op.a) > op.b) 1 else 0\n",
    "def gtrr(op: Operation) : Int = if (op.before(op.a) > op.before(op.b)) 1 else 0\n",
    "def eqir(op: Operation) : Int = if (op.a == op.before(op.b)) 1 else 0\n",
    "def eqri(op: Operation) : Int = if (op.before(op.a) == op.b) 1 else 0\n",
    "def eqrr(op: Operation) : Int = if (op.before(op.a) == op.before(op.b)) 1 else 0\n",
    "val allOperations = Array[Operation => Int](\n",
    "    addr, addi, mulr, muli, banr, bani, borr, bori, setr, seti, gtir, gtri, gtrr, eqir, eqri, eqrr)\n",
    "val opNames = Array[String](\n",
    "    \"addr\", \"addi\", \"mulr\", \"muli\", \"banr\", \"bani\", \"borr\", \"bori\", \"setr\", \"seti\", \"gtir\", \"gtri\", \"gtrr\", \"eqir\", \"eqri\", \"eqrr\")"
   ]
  },
  {
   "cell_type": "code",
   "execution_count": 22,
   "metadata": {},
   "outputs": [
    {
     "name": "stdout",
     "output_type": "stream",
     "text": [
      "0311\n",
      "(0,0,2)\n",
      "0301\n",
      "op addr: true\n",
      "op addi: true\n",
      "op mulr: true\n",
      "op muli: true\n",
      "op banr: true\n",
      "op bani: true\n",
      "op borr: true\n",
      "op bori: true\n",
      "op setr: true\n",
      "op seti: true\n",
      "op gtir: true\n",
      "op gtri: true\n",
      "op gtrr: true\n",
      "op eqir: false\n",
      "op eqri: false\n",
      "op eqrr: false\n"
     ]
    },
    {
     "data": {
      "text/plain": [
       "\u001b[36mt\u001b[0m: \u001b[32mInt\u001b[0m = \u001b[32m9\u001b[0m\n",
       "\u001b[36mresults\u001b[0m: \u001b[32mListBuffer\u001b[0m[\u001b[32mArray\u001b[0m[\u001b[32mBoolean\u001b[0m]] = \u001b[33mListBuffer\u001b[0m(\n",
       "  \u001b[33mArray\u001b[0m(\n",
       "    true,\n",
       "    false,\n",
       "    false,\n",
       "    false,\n",
       "    false,\n",
       "    true,\n",
       "    true,\n",
       "    false,\n",
       "    true,\n",
       "    true,\n",
       "    true,\n",
       "    false,\n",
       "    true,\n",
       "\u001b[33m...\u001b[0m"
      ]
     },
     "metadata": {},
     "output_type": "display_data"
    }
   ],
   "source": [
    "val t = 9\n",
    "ops(t).before.foreach(print)\n",
    "println\n",
    "println(ops(t).a, ops(t).b, ops(t).output)\n",
    "ops(t).after.foreach(print)\n",
    "println\n",
    "val results = ops.map(op => \n",
    "        allOperations.map(x => x(op) == op.after(op.output))\n",
    ")\n",
    "results(t).zipWithIndex.foreach({case (x, i) => println(\"op \" + opNames(i) + \": \" + x)})"
   ]
  },
  {
   "cell_type": "code",
   "execution_count": 23,
   "metadata": {},
   "outputs": [
    {
     "data": {
      "text/plain": [
       "\u001b[36mres4\u001b[0m: \u001b[32mInt\u001b[0m = \u001b[32m624\u001b[0m"
      ]
     },
     "metadata": {},
     "output_type": "display_data"
    }
   ],
   "source": [
    "ops.map(op => \n",
    "        allOperations.map(x => x(op) == op.after(op.output))\n",
    "                     .filter(x => x).length\n",
    ").filter(_ >= 3).length"
   ]
  },
  {
   "cell_type": "markdown",
   "metadata": {},
   "source": [
    "## Part 2"
   ]
  },
  {
   "cell_type": "code",
   "execution_count": 24,
   "metadata": {},
   "outputs": [
    {
     "data": {
      "text/plain": [
       "\u001b[32mimport \u001b[36mscala.collection.mutable.Map\u001b[0m\n",
       "\u001b[36mopsMap\u001b[0m: \u001b[32mcollection\u001b[0m.\u001b[32mmutable\u001b[0m.\u001b[32mMap\u001b[0m[\u001b[32mInt\u001b[0m, \u001b[32mInt\u001b[0m] = \u001b[33mMap\u001b[0m(\n",
       "  \u001b[32m8\u001b[0m -> \u001b[32m-1\u001b[0m,\n",
       "  \u001b[32m11\u001b[0m -> \u001b[32m-1\u001b[0m,\n",
       "  \u001b[32m2\u001b[0m -> \u001b[32m-1\u001b[0m,\n",
       "  \u001b[32m5\u001b[0m -> \u001b[32m-1\u001b[0m,\n",
       "  \u001b[32m14\u001b[0m -> \u001b[32m-1\u001b[0m,\n",
       "  \u001b[32m13\u001b[0m -> \u001b[32m-1\u001b[0m,\n",
       "  \u001b[32m4\u001b[0m -> \u001b[32m-1\u001b[0m,\n",
       "  \u001b[32m7\u001b[0m -> \u001b[32m-1\u001b[0m,\n",
       "  \u001b[32m1\u001b[0m -> \u001b[32m-1\u001b[0m,\n",
       "  \u001b[32m10\u001b[0m -> \u001b[32m-1\u001b[0m,\n",
       "  \u001b[32m9\u001b[0m -> \u001b[32m-1\u001b[0m,\n",
       "  \u001b[32m3\u001b[0m -> \u001b[32m-1\u001b[0m,\n",
       "  \u001b[32m12\u001b[0m -> \u001b[32m-1\u001b[0m,\n",
       "  \u001b[32m15\u001b[0m -> \u001b[32m-1\u001b[0m,\n",
       "\u001b[33m...\u001b[0m"
      ]
     },
     "metadata": {},
     "output_type": "display_data"
    }
   ],
   "source": [
    "import scala.collection.mutable.Map\n",
    "val opsMap = Map(Range(0,allOperations.length).map(x => (x, -1)) : _*)"
   ]
  },
  {
   "cell_type": "code",
   "execution_count": 25,
   "metadata": {},
   "outputs": [
    {
     "data": {
      "text/plain": [
       "\u001b[36mmatchingOps\u001b[0m: \u001b[32mListBuffer\u001b[0m[(\u001b[32mInt\u001b[0m, \u001b[32mArray\u001b[0m[\u001b[32mBoolean\u001b[0m])] = \u001b[33mListBuffer\u001b[0m(\n",
       "  \u001b[33m\u001b[0m(\n",
       "    \u001b[32m10\u001b[0m,\n",
       "    \u001b[33mArray\u001b[0m(\n",
       "      true,\n",
       "      false,\n",
       "      false,\n",
       "      false,\n",
       "      false,\n",
       "      true,\n",
       "      true,\n",
       "      false,\n",
       "      true,\n",
       "      true,\n",
       "      true,\n",
       "\u001b[33m...\u001b[0m\n",
       "\u001b[36mres6_1\u001b[0m: \u001b[32mInt\u001b[0m = \u001b[32m777\u001b[0m"
      ]
     },
     "metadata": {},
     "output_type": "display_data"
    }
   ],
   "source": [
    "var matchingOps = ops.map(op => \n",
    "        (op.opCode, allOperations.map(x => x(op) == op.after(op.output)))\n",
    ")\n",
    "matchingOps.length"
   ]
  },
  {
   "cell_type": "code",
   "execution_count": 26,
   "metadata": {},
   "outputs": [
    {
     "data": {
      "text/plain": []
     },
     "metadata": {},
     "output_type": "display_data"
    }
   ],
   "source": [
    "while (!opsMap.values.filter(_ == -1).isEmpty) {\n",
    "        val knownCodeMatches = matchingOps.map({ case (code, matches) => if (matches.filter(x => x).length == 1) (code, matches.indexOf(true)) else (code, -1)})\n",
    "            .filter(_._2 != -1).toSet\n",
    "        knownCodeMatches.foreach({case (code, i) => opsMap(code) = i})\n",
    "        val knownCodes = knownCodeMatches.map(_._1)\n",
    "        val newIndexVals = knownCodeMatches.map(_._2)\n",
    "        matchingOps = matchingOps.filter(x => !knownCodes.contains(x._1))\n",
    "            .map(x => (x._1, x._2.zipWithIndex.map({case (result, index) => if (newIndexVals.contains(index)) false else result})))\n",
    "\n",
    "}"
   ]
  },
  {
   "cell_type": "code",
   "execution_count": 27,
   "metadata": {},
   "outputs": [
    {
     "name": "stdout",
     "output_type": "stream",
     "text": [
      "584 4 3 584\n"
     ]
    },
    {
     "data": {
      "text/plain": [
       "\u001b[36mregisters\u001b[0m: \u001b[32mArray\u001b[0m[\u001b[32mInt\u001b[0m] = \u001b[33mArray\u001b[0m(\u001b[32m584\u001b[0m, \u001b[32m4\u001b[0m, \u001b[32m3\u001b[0m, \u001b[32m584\u001b[0m)"
      ]
     },
     "metadata": {},
     "output_type": "display_data"
    }
   ],
   "source": [
    "val registers = Array(0,0,0,0)\n",
    "// Step through the test program \n",
    "for (line <- sampleProgram) {\n",
    "    val op = Operation(registers, line)\n",
    "    registers(op.output) = allOperations(opsMap(op.opCode))(op)\n",
    "}\n",
    "println(registers.mkString(\" \"))"
   ]
  },
  {
   "cell_type": "code",
   "execution_count": 32,
   "metadata": {},
   "outputs": [
    {
     "data": {
      "text/plain": [
       "\u001b[36mres12\u001b[0m: \u001b[32mMap\u001b[0m[\u001b[32mInt\u001b[0m, \u001b[32mInt\u001b[0m] = \u001b[33mMap\u001b[0m(\n",
       "  \u001b[32m8\u001b[0m -> \u001b[32m13\u001b[0m,\n",
       "  \u001b[32m11\u001b[0m -> \u001b[32m6\u001b[0m,\n",
       "  \u001b[32m2\u001b[0m -> \u001b[32m5\u001b[0m,\n",
       "  \u001b[32m5\u001b[0m -> \u001b[32m15\u001b[0m,\n",
       "  \u001b[32m14\u001b[0m -> \u001b[32m4\u001b[0m,\n",
       "  \u001b[32m13\u001b[0m -> \u001b[32m14\u001b[0m,\n",
       "  \u001b[32m4\u001b[0m -> \u001b[32m12\u001b[0m,\n",
       "  \u001b[32m7\u001b[0m -> \u001b[32m10\u001b[0m,\n",
       "  \u001b[32m1\u001b[0m -> \u001b[32m9\u001b[0m,\n",
       "  \u001b[32m10\u001b[0m -> \u001b[32m0\u001b[0m,\n",
       "  \u001b[32m9\u001b[0m -> \u001b[32m2\u001b[0m,\n",
       "  \u001b[32m3\u001b[0m -> \u001b[32m11\u001b[0m,\n",
       "  \u001b[32m12\u001b[0m -> \u001b[32m7\u001b[0m,\n",
       "  \u001b[32m15\u001b[0m -> \u001b[32m8\u001b[0m,\n",
       "\u001b[33m...\u001b[0m"
      ]
     },
     "metadata": {},
     "output_type": "display_data"
    }
   ],
   "source": [
    "opsMap"
   ]
  }
 ],
 "metadata": {
  "kernelspec": {
   "display_name": "Scala 2.11",
   "language": "scala211",
   "name": "scala211"
  },
  "language_info": {
   "codemirror_mode": "text/x-scala",
   "file_extension": ".scala",
   "mimetype": "text/x-scala",
   "name": "scala211",
   "pygments_lexer": "scala",
   "version": "2.11.6"
  }
 },
 "nbformat": 4,
 "nbformat_minor": 2
}
