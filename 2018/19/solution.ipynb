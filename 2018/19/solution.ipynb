{
 "cells": [
  {
   "cell_type": "code",
   "execution_count": 1,
   "metadata": {},
   "outputs": [
    {
     "data": {
      "text/plain": [
       "\u001b[36mopNames\u001b[0m: \u001b[32mArray\u001b[0m[\u001b[32mString\u001b[0m] = \u001b[33mArray\u001b[0m(\n",
       "  \u001b[32m\"addr\"\u001b[0m,\n",
       "  \u001b[32m\"addi\"\u001b[0m,\n",
       "  \u001b[32m\"mulr\"\u001b[0m,\n",
       "  \u001b[32m\"muli\"\u001b[0m,\n",
       "  \u001b[32m\"banr\"\u001b[0m,\n",
       "  \u001b[32m\"bani\"\u001b[0m,\n",
       "  \u001b[32m\"borr\"\u001b[0m,\n",
       "  \u001b[32m\"bori\"\u001b[0m,\n",
       "  \u001b[32m\"setr\"\u001b[0m,\n",
       "  \u001b[32m\"seti\"\u001b[0m,\n",
       "  \u001b[32m\"gtir\"\u001b[0m,\n",
       "  \u001b[32m\"gtri\"\u001b[0m,\n",
       "  \u001b[32m\"gtrr\"\u001b[0m,\n",
       "  \u001b[32m\"eqir\"\u001b[0m,\n",
       "\u001b[33m...\u001b[0m"
      ]
     },
     "metadata": {},
     "output_type": "display_data"
    }
   ],
   "source": [
    "val opNames = Array[String](\n",
    "    \"addr\", \"addi\", \"mulr\", \"muli\", \"banr\", \"bani\", \"borr\", \"bori\", \"setr\", \"seti\", \"gtir\", \"gtri\", \"gtrr\", \"eqir\", \"eqri\", \"eqrr\")"
   ]
  },
  {
   "cell_type": "code",
   "execution_count": 2,
   "metadata": {},
   "outputs": [
    {
     "data": {
      "text/plain": [
       "defined \u001b[32mclass \u001b[36mOperation\u001b[0m\n",
       "defined \u001b[32mobject \u001b[36mOperation\u001b[0m"
      ]
     },
     "metadata": {},
     "output_type": "display_data"
    }
   ],
   "source": [
    "case class Operation(before: Array[Int], opIndex: Int, a: Int, b: Int, output: Int)\n",
    "\n",
    "object Operation {                  \n",
    "    def apply(before: Array[Int], opString: String) : Operation = {\n",
    "        val op = opString.split(' ')\n",
    "        val opIO = op.tail.map(_ toInt)\n",
    "        Operation(before, opNames.indexOf(op.head), opIO(0), opIO(1), opIO(2))\n",
    "    }\n",
    "    \n",
    "    \n",
    "}"
   ]
  },
  {
   "cell_type": "code",
   "execution_count": 3,
   "metadata": {},
   "outputs": [
    {
     "data": {
      "text/plain": [
       "defined \u001b[32mfunction \u001b[36maddr\u001b[0m\n",
       "defined \u001b[32mfunction \u001b[36maddi\u001b[0m\n",
       "defined \u001b[32mfunction \u001b[36mmulr\u001b[0m\n",
       "defined \u001b[32mfunction \u001b[36mmuli\u001b[0m\n",
       "defined \u001b[32mfunction \u001b[36mbanr\u001b[0m\n",
       "defined \u001b[32mfunction \u001b[36mbani\u001b[0m\n",
       "defined \u001b[32mfunction \u001b[36mborr\u001b[0m\n",
       "defined \u001b[32mfunction \u001b[36mbori\u001b[0m\n",
       "defined \u001b[32mfunction \u001b[36msetr\u001b[0m\n",
       "defined \u001b[32mfunction \u001b[36mseti\u001b[0m\n",
       "defined \u001b[32mfunction \u001b[36mgtir\u001b[0m\n",
       "defined \u001b[32mfunction \u001b[36mgtri\u001b[0m\n",
       "defined \u001b[32mfunction \u001b[36mgtrr\u001b[0m\n",
       "defined \u001b[32mfunction \u001b[36meqir\u001b[0m\n",
       "defined \u001b[32mfunction \u001b[36meqri\u001b[0m\n",
       "defined \u001b[32mfunction \u001b[36meqrr\u001b[0m\n",
       "\u001b[36mallOperations\u001b[0m: \u001b[32mArray\u001b[0m[\u001b[32mOperation\u001b[0m => \u001b[32mInt\u001b[0m] = \u001b[33mArray\u001b[0m(\n",
       "  <function1>,\n",
       "  <function1>,\n",
       "  <function1>,\n",
       "  <function1>,\n",
       "  <function1>,\n",
       "  <function1>,\n",
       "  <function1>,\n",
       "  <function1>,\n",
       "  <function1>,\n",
       "  <function1>,\n",
       "  <function1>,\n",
       "  <function1>,\n",
       "  <function1>,\n",
       "  <function1>,\n",
       "\u001b[33m...\u001b[0m\n",
       "\u001b[36mopsMap\u001b[0m: \u001b[32mMap\u001b[0m[\u001b[32mInt\u001b[0m, \u001b[32mInt\u001b[0m] = \u001b[33mMap\u001b[0m(\n",
       "  \u001b[32m0\u001b[0m -> \u001b[32m3\u001b[0m,\n",
       "  \u001b[32m5\u001b[0m -> \u001b[32m15\u001b[0m,\n",
       "  \u001b[32m10\u001b[0m -> \u001b[32m0\u001b[0m,\n",
       "  \u001b[32m14\u001b[0m -> \u001b[32m4\u001b[0m,\n",
       "  \u001b[32m1\u001b[0m -> \u001b[32m9\u001b[0m,\n",
       "  \u001b[32m6\u001b[0m -> \u001b[32m1\u001b[0m,\n",
       "  \u001b[32m9\u001b[0m -> \u001b[32m2\u001b[0m,\n",
       "  \u001b[32m13\u001b[0m -> \u001b[32m14\u001b[0m,\n",
       "  \u001b[32m2\u001b[0m -> \u001b[32m5\u001b[0m,\n",
       "  \u001b[32m12\u001b[0m -> \u001b[32m7\u001b[0m,\n",
       "  \u001b[32m7\u001b[0m -> \u001b[32m10\u001b[0m,\n",
       "  \u001b[32m3\u001b[0m -> \u001b[32m11\u001b[0m,\n",
       "  \u001b[32m11\u001b[0m -> \u001b[32m6\u001b[0m,\n",
       "  \u001b[32m8\u001b[0m -> \u001b[32m13\u001b[0m,\n",
       "\u001b[33m...\u001b[0m"
      ]
     },
     "metadata": {},
     "output_type": "display_data"
    }
   ],
   "source": [
    "def addr(op: Operation) : Int = op.before(op.a) + op.before(op.b)\n",
    "def addi(op: Operation) : Int = op.before(op.a) + op.b\n",
    "def mulr(op: Operation) : Int = op.before(op.a) * op.before(op.b)\n",
    "def muli(op: Operation) : Int = op.before(op.a) * op.b\n",
    "def banr(op: Operation) : Int = op.before(op.a) & op.before(op.b)\n",
    "def bani(op: Operation) : Int = op.before(op.a) & op.b\n",
    "def borr(op: Operation) : Int = op.before(op.a) | op.before(op.b)\n",
    "def bori(op: Operation) : Int = op.before(op.a) | op.b\n",
    "def setr(op: Operation) : Int = op.before(op.a)\n",
    "def seti(op: Operation) : Int = op.a\n",
    "def gtir(op: Operation) : Int = if (op.a > op.before(op.b)) 1 else 0\n",
    "def gtri(op: Operation) : Int = if (op.before(op.a) > op.b) 1 else 0\n",
    "def gtrr(op: Operation) : Int = if (op.before(op.a) > op.before(op.b)) 1 else 0\n",
    "def eqir(op: Operation) : Int = if (op.a == op.before(op.b)) 1 else 0\n",
    "def eqri(op: Operation) : Int = if (op.before(op.a) == op.b) 1 else 0\n",
    "def eqrr(op: Operation) : Int = if (op.before(op.a) == op.before(op.b)) 1 else 0\n",
    "val allOperations = Array[Operation => Int](\n",
    "    addr, addi, mulr, muli, banr, bani, borr, bori, setr, seti, gtir, gtri, gtrr, eqir, eqri, eqrr)\n",
    "// Taken from day 16 (not needed...)\n",
    "val opsMap = Map(8 -> 13,11 -> 6,2 -> 5,5 -> 15,14 -> 4,13 -> 14,4 -> 12,7 -> 10,1 -> 9,10 -> 0,9 -> 2,3 -> 11,12 -> 7,15 -> 8,6 -> 1,0 -> 3)"
   ]
  },
  {
   "cell_type": "code",
   "execution_count": 4,
   "metadata": {},
   "outputs": [
    {
     "data": {
      "text/plain": [
       "\u001b[32mimport \u001b[36mscala.io.Source\u001b[0m\n",
       "\u001b[32mimport \u001b[36mscala.collection.mutable.ListBuffer\u001b[0m\n",
       "\u001b[36mfilename\u001b[0m: \u001b[32mString\u001b[0m = \u001b[32m\"input\"\u001b[0m\n",
       "\u001b[36mlines\u001b[0m: \u001b[32mList\u001b[0m[\u001b[32mString\u001b[0m] = \u001b[33mList\u001b[0m(\n",
       "  \u001b[32m\"#ip 1\"\u001b[0m,\n",
       "  \u001b[32m\"addi 1 16 1\"\u001b[0m,\n",
       "  \u001b[32m\"seti 1 2 5\"\u001b[0m,\n",
       "  \u001b[32m\"seti 1 2 2\"\u001b[0m,\n",
       "  \u001b[32m\"mulr 5 2 3\"\u001b[0m,\n",
       "  \u001b[32m\"eqrr 3 4 3\"\u001b[0m,\n",
       "  \u001b[32m\"addr 3 1 1\"\u001b[0m,\n",
       "  \u001b[32m\"addi 1 1 1\"\u001b[0m,\n",
       "  \u001b[32m\"addr 5 0 0\"\u001b[0m,\n",
       "  \u001b[32m\"addi 2 1 2\"\u001b[0m,\n",
       "  \u001b[32m\"gtrr 2 4 3\"\u001b[0m,\n",
       "  \u001b[32m\"addr 1 3 1\"\u001b[0m,\n",
       "  \u001b[32m\"seti 2 8 1\"\u001b[0m,\n",
       "  \u001b[32m\"addi 5 1 5\"\u001b[0m,\n",
       "\u001b[33m...\u001b[0m\n",
       "\u001b[36mip\u001b[0m: \u001b[32mInt\u001b[0m = \u001b[32m1\u001b[0m\n",
       "\u001b[36mregisters\u001b[0m: \u001b[32mArray\u001b[0m[\u001b[32mInt\u001b[0m] = \u001b[33mArray\u001b[0m(\u001b[32m0\u001b[0m, \u001b[32m0\u001b[0m, \u001b[32m0\u001b[0m, \u001b[32m0\u001b[0m, \u001b[32m0\u001b[0m, \u001b[32m0\u001b[0m)\n",
       "\u001b[36mprogram\u001b[0m: \u001b[32mArray\u001b[0m[\u001b[32mString\u001b[0m] = \u001b[33mArray\u001b[0m(\n",
       "  \u001b[32m\"addi 1 16 1\"\u001b[0m,\n",
       "  \u001b[32m\"seti 1 2 5\"\u001b[0m,\n",
       "  \u001b[32m\"seti 1 2 2\"\u001b[0m,\n",
       "  \u001b[32m\"mulr 5 2 3\"\u001b[0m,\n",
       "  \u001b[32m\"eqrr 3 4 3\"\u001b[0m,\n",
       "  \u001b[32m\"addr 3 1 1\"\u001b[0m,\n",
       "  \u001b[32m\"addi 1 1 1\"\u001b[0m,\n",
       "  \u001b[32m\"addr 5 0 0\"\u001b[0m,\n",
       "  \u001b[32m\"addi 2 1 2\"\u001b[0m,\n",
       "  \u001b[32m\"gtrr 2 4 3\"\u001b[0m,\n",
       "  \u001b[32m\"addr 1 3 1\"\u001b[0m,\n",
       "  \u001b[32m\"seti 2 8 1\"\u001b[0m,\n",
       "  \u001b[32m\"addi 5 1 5\"\u001b[0m,\n",
       "  \u001b[32m\"gtrr 5 4 3\"\u001b[0m,\n",
       "\u001b[33m...\u001b[0m"
      ]
     },
     "metadata": {},
     "output_type": "display_data"
    }
   ],
   "source": [
    "import scala.io.Source\n",
    "import scala.collection.mutable.ListBuffer\n",
    "val filename = \"input\"\n",
    "val lines = Source.fromFile(filename).getLines.toList\n",
    "val ip = lines.head.split(' ')(1).toInt\n",
    "val registers = Array.fill(6)(0)\n",
    "val program = lines.tail.toArray"
   ]
  },
  {
   "cell_type": "code",
   "execution_count": 5,
   "metadata": {},
   "outputs": [
    {
     "name": "stdout",
     "output_type": "stream",
     "text": [
      "0 0 0 0 0 0\n",
      "6570323\n",
      "1824 16 907 1 906 907\n"
     ]
    },
    {
     "data": {
      "text/plain": [
       "\u001b[36mnumInstructions\u001b[0m: \u001b[32mInt\u001b[0m = \u001b[32m6570323\u001b[0m\n",
       "\u001b[36mhalt\u001b[0m: \u001b[32mBoolean\u001b[0m = true"
      ]
     },
     "metadata": {},
     "output_type": "display_data"
    }
   ],
   "source": [
    "var numInstructions = 0\n",
    "println(registers.mkString(\" \"))\n",
    "var halt = false\n",
    "while (!halt) {\n",
    "    val currentOperation = Operation(registers, program(registers(ip)))\n",
    "    //println(opNames(currentOperation.opIndex), currentOperation.a, currentOperation.b, currentOperation.output)\n",
    "    val output = allOperations(currentOperation.opIndex)(currentOperation)\n",
    "    if (currentOperation.output == ip && output > program.length) {\n",
    "        halt = true\n",
    "    }\n",
    "    else {\n",
    "        registers(currentOperation.output) = output\n",
    "    }\n",
    "    if (registers(ip) < program.length-1 && !halt) {\n",
    "        registers(ip) += 1\n",
    "        numInstructions += 1\n",
    "    }\n",
    "    else {\n",
    "        halt = true\n",
    "    }\n",
    "    //println(registers.mkString(\" \"))\n",
    "}\n",
    "println(numInstructions)\n",
    "println(registers.mkString(\" \"))"
   ]
  },
  {
   "cell_type": "markdown",
   "metadata": {},
   "source": [
    "## Part 2"
   ]
  },
  {
   "cell_type": "code",
   "execution_count": 12,
   "metadata": {},
   "outputs": [
    {
     "name": "stdout",
     "output_type": "stream",
     "text": [
      "0 0 0 0 0 0\n",
      "0 7 906 1 906 1\n",
      "addr, 5, 0, 0 = 1\n",
      "1 7 453 1 906 2\n",
      "addr, 5, 0, 0 = 3\n",
      "3 7 302 1 906 3\n",
      "addr, 5, 0, 0 = 6\n",
      "6 7 151 1 906 6\n",
      "addr, 5, 0, 0 = 12\n",
      "12 7 6 1 906 151\n",
      "addr, 5, 0, 0 = 163\n",
      "163 7 3 1 906 302\n",
      "addr, 5, 0, 0 = 465\n",
      "465 7 2 1 906 453\n",
      "addr, 5, 0, 0 = 918\n",
      "918 7 1 1 906 906\n",
      "addr, 5, 0, 0 = 1824\n",
      "6570323\n",
      "1824 16 907 1 906 907\n",
      "0 12 1 1824 6 3 918 163 465\n"
     ]
    },
    {
     "data": {
      "text/plain": [
       "\u001b[36mregisters\u001b[0m: \u001b[32mArray\u001b[0m[\u001b[32mInt\u001b[0m] = \u001b[33mArray\u001b[0m(\u001b[32m1824\u001b[0m, \u001b[32m16\u001b[0m, \u001b[32m907\u001b[0m, \u001b[32m1\u001b[0m, \u001b[32m906\u001b[0m, \u001b[32m907\u001b[0m)\n",
       "\u001b[36mnumInstructions\u001b[0m: \u001b[32mInt\u001b[0m = \u001b[32m6570323\u001b[0m\n",
       "\u001b[36mreg0Set\u001b[0m: \u001b[32mcollection\u001b[0m.\u001b[32mmutable\u001b[0m.\u001b[32mSet\u001b[0m[\u001b[32mInt\u001b[0m] = \u001b[33mSet\u001b[0m(\n",
       "  \u001b[32m0\u001b[0m,\n",
       "  \u001b[32m12\u001b[0m,\n",
       "  \u001b[32m1\u001b[0m,\n",
       "  \u001b[32m1824\u001b[0m,\n",
       "  \u001b[32m6\u001b[0m,\n",
       "  \u001b[32m3\u001b[0m,\n",
       "  \u001b[32m918\u001b[0m,\n",
       "  \u001b[32m163\u001b[0m,\n",
       "  \u001b[32m465\u001b[0m\n",
       ")\n",
       "\u001b[36mhalt\u001b[0m: \u001b[32mBoolean\u001b[0m = true"
      ]
     },
     "metadata": {},
     "output_type": "display_data"
    }
   ],
   "source": [
    "val registers = Array.fill(6)(0)\n",
    "var numInstructions = 0\n",
    "val reg0Set = scala.collection.mutable.Set(0)\n",
    "println(registers.mkString(\" \"))\n",
    "var halt = false\n",
    "while (!halt) {\n",
    "    val currentOperation = Operation(registers, program(registers(ip)))\n",
    "    val output = allOperations(currentOperation.opIndex)(currentOperation)\n",
    "    if (currentOperation.output == 0) {\n",
    "        println(registers.mkString(\" \"))\n",
    "        print(Seq(opNames(currentOperation.opIndex), \n",
    "                    currentOperation.a, \n",
    "                    currentOperation.b, \n",
    "                    currentOperation.output).mkString(\", \"))\n",
    "        println(\" = \" + output)\n",
    "        reg0Set += output\n",
    "    }\n",
    "    if (currentOperation.output == ip && output > program.length) {\n",
    "        halt = true\n",
    "    }\n",
    "    else {\n",
    "        registers(currentOperation.output) = output\n",
    "    }\n",
    "    if (registers(ip) < program.length-1 && !halt) {\n",
    "        registers(ip) += 1\n",
    "        numInstructions += 1\n",
    "    }\n",
    "    else {\n",
    "        halt = true\n",
    "    }\n",
    "    // Inspect final 1000 instructions\n",
    "    /*\n",
    "    if (numInstructions > 6570323 - 10000) {\n",
    "        println(Seq(opNames(currentOperation.opIndex), \n",
    "                    currentOperation.a, \n",
    "                    currentOperation.b, \n",
    "                    currentOperation.output).mkString(\", \"))\n",
    "        println(registers.mkString(\" \"))\n",
    "    }\n",
    "    */\n",
    "}\n",
    "println(numInstructions)\n",
    "println(registers.mkString(\" \"))\n",
    "println(reg0Set.mkString(\" \"))"
   ]
  },
  {
   "cell_type": "markdown",
   "metadata": {},
   "source": [
    "Set of values in register 0 are common factors of initial large number (906 in this case) summed together as shown below"
   ]
  },
  {
   "cell_type": "code",
   "execution_count": 13,
   "metadata": {},
   "outputs": [
    {
     "name": "stdout",
     "output_type": "stream",
     "text": [
      "1: 0\n",
      "2: 0\n",
      "3: 0\n",
      "6: 0\n",
      "151: 0\n",
      "302: 0\n",
      "453: 0\n",
      "906: 0\n"
     ]
    },
    {
     "data": {
      "text/plain": [
       "\u001b[36mres12_0\u001b[0m: \u001b[32mInt\u001b[0m = \u001b[32m1824\u001b[0m\n",
       "\u001b[36mres12_1\u001b[0m: \u001b[32mInt\u001b[0m = \u001b[32m453\u001b[0m\n",
       "\u001b[36mres12_2\u001b[0m: \u001b[32mInt\u001b[0m = \u001b[32m302\u001b[0m\n",
       "\u001b[36mres12_3\u001b[0m: \u001b[32mInt\u001b[0m = \u001b[32m151\u001b[0m\n",
       "\u001b[36mres12_4\u001b[0m: \u001b[32mInt\u001b[0m = \u001b[32m151\u001b[0m\n",
       "\u001b[36mres12_5\u001b[0m: \u001b[32mInt\u001b[0m = \u001b[32m906\u001b[0m\n",
       "\u001b[36mres12_6\u001b[0m: \u001b[32mInt\u001b[0m = \u001b[32m906\u001b[0m\n",
       "\u001b[36mres12_7\u001b[0m: \u001b[32mInt\u001b[0m = \u001b[32m906\u001b[0m\n",
       "\u001b[36mres12_8\u001b[0m: \u001b[32mInt\u001b[0m = \u001b[32m906\u001b[0m"
      ]
     },
     "metadata": {},
     "output_type": "display_data"
    }
   ],
   "source": [
    "906 + 453 + 302 + 151 + 6 + 3 + 2 + 1\n",
    "906/2\n",
    "(453*2)/3\n",
    "302/2\n",
    "151\n",
    "1*906\n",
    "2*453\n",
    "3*302\n",
    "6*151\n",
    "for (i <- 1 to 906) {\n",
    "    if (906 % i == 0) {\n",
    "        println(i + \": \" + 906 % i)\n",
    "    }\n",
    "}"
   ]
  },
  {
   "cell_type": "code",
   "execution_count": 14,
   "metadata": {},
   "outputs": [
    {
     "data": {
      "text/plain": [
       "\u001b[36mregisters\u001b[0m: \u001b[32mArray\u001b[0m[\u001b[32mInt\u001b[0m] = \u001b[33mArray\u001b[0m(\u001b[32m1\u001b[0m, \u001b[32m0\u001b[0m, \u001b[32m0\u001b[0m, \u001b[32m0\u001b[0m, \u001b[32m0\u001b[0m, \u001b[32m0\u001b[0m)"
      ]
     },
     "metadata": {},
     "output_type": "display_data"
    }
   ],
   "source": [
    "val registers = Array.fill(6)(0)\n",
    "registers(0) = 1"
   ]
  },
  {
   "cell_type": "code",
   "execution_count": null,
   "metadata": {},
   "outputs": [
    {
     "name": "stdout",
     "output_type": "stream",
     "text": [
      "1 0 0 0 0 0\n",
      "1 34 0 10550400 10551306 0\n",
      "seti, 0, 0, 0 = 0\n",
      "0 7 10551306 1 10551306 1\n",
      "addr, 5, 0, 0 = 1\n",
      "1 7 5275653 1 10551306 2\n",
      "addr, 5, 0, 0 = 3\n",
      "3 7 3517102 1 10551306 3\n",
      "addr, 5, 0, 0 = 6\n",
      "6 7 1758551 1 10551306 6\n",
      "addr, 5, 0, 0 = 12\n"
     ]
    }
   ],
   "source": [
    "var numInstructions = 0\n",
    "val reg0Set = scala.collection.mutable.Set(0)\n",
    "println(registers.mkString(\" \"))\n",
    "var halt = false\n",
    "while (!halt) {\n",
    "    val currentOperation = Operation(registers, program(registers(ip)))\n",
    "    val output = allOperations(currentOperation.opIndex)(currentOperation)\n",
    "    if (currentOperation.output == 0) {\n",
    "        println(registers.mkString(\" \"))\n",
    "        print(Seq(opNames(currentOperation.opIndex), \n",
    "                    currentOperation.a, \n",
    "                    currentOperation.b, \n",
    "                    currentOperation.output).mkString(\", \"))\n",
    "        println(\" = \" + output)\n",
    "        reg0Set += output\n",
    "    }\n",
    "    if (currentOperation.output == ip && output > program.length) {\n",
    "        halt = true\n",
    "    }\n",
    "    else {\n",
    "        registers(currentOperation.output) = output\n",
    "    }\n",
    "    if (registers(ip) < program.length-1 && !halt) {\n",
    "        registers(ip) += 1\n",
    "        numInstructions += 1\n",
    "    }\n",
    "    else {\n",
    "        halt = true\n",
    "    }\n",
    "    // Inspect final 1000 instructions\n",
    "    /*\n",
    "    if (numInstructions > 6570323 - 10000) {\n",
    "        println(Seq(opNames(currentOperation.opIndex), \n",
    "                    currentOperation.a, \n",
    "                    currentOperation.b, \n",
    "                    currentOperation.output).mkString(\", \"))\n",
    "        println(registers.mkString(\" \"))\n",
    "    }\n",
    "    */\n",
    "}\n",
    "println(numInstructions)\n",
    "println(registers.mkString(\" \"))\n",
    "println(reg0Set.mkString(\" \"))"
   ]
  },
  {
   "cell_type": "code",
   "execution_count": 32,
   "metadata": {},
   "outputs": [
    {
     "data": {
      "text/plain": [
       "\u001b[36mres31\u001b[0m: \u001b[32mInt\u001b[0m = \u001b[32m1824\u001b[0m"
      ]
     },
     "metadata": {},
     "output_type": "display_data"
    }
   ],
   "source": [
    "906*2 + 16 - 4 "
   ]
  },
  {
   "cell_type": "code",
   "execution_count": 18,
   "metadata": {},
   "outputs": [
    {
     "ename": "",
     "evalue": "",
     "output_type": "error",
     "traceback": [
      "Compilation Failed",
      "\u001b[31mMain.scala:181: not found: value registers",
      "println(registers.mkString(\" \"))",
      "        ^\u001b[0m",
      "\u001b[31mMain.scala:188: not found: value Operation",
      "    val currentOperation = Operation(registers, program(registers(ip)))",
      "                           ^\u001b[0m",
      "\u001b[31mMain.scala:188: not found: value registers",
      "    val currentOperation = Operation(registers, program(registers(ip)))",
      "                                     ^\u001b[0m",
      "\u001b[31mMain.scala:188: not found: value program",
      "    val currentOperation = Operation(registers, program(registers(ip)))",
      "                                                ^\u001b[0m",
      "\u001b[31mMain.scala:188: not found: value registers",
      "    val currentOperation = Operation(registers, program(registers(ip)))",
      "                                                        ^\u001b[0m",
      "\u001b[31mMain.scala:188: not found: value ip",
      "    val currentOperation = Operation(registers, program(registers(ip)))",
      "                                                                  ^\u001b[0m",
      "\u001b[31mMain.scala:189: too many arguments for method println: (x: Any)Unit",
      "    println(opNames(currentOperation.opIndex), currentOperation.a, currentOperation.b, currentOperation.output)",
      "           ^\u001b[0m",
      "\u001b[31mMain.scala:190: not found: value allOperations",
      "    val output = allOperations(currentOperation.opIndex)(currentOperation)",
      "                 ^\u001b[0m",
      "\u001b[31mMain.scala:195: not found: value registers",
      "        registers(currentOperation.output) = output",
      "        ^\u001b[0m",
      "\u001b[31mMain.scala:197: not found: value registers",
      "    if (registers(ip) < program.length-1 && !halt) {",
      "        ^\u001b[0m",
      "\u001b[31mMain.scala:197: not found: value ip",
      "    if (registers(ip) < program.length-1 && !halt) {",
      "                  ^\u001b[0m",
      "\u001b[31mMain.scala:197: not found: value program",
      "    if (registers(ip) < program.length-1 && !halt) {",
      "                        ^\u001b[0m",
      "\u001b[31mMain.scala:198: not found: value registers",
      "        registers(ip) += 1",
      "        ^\u001b[0m",
      "\u001b[31mMain.scala:198: not found: value ip",
      "        registers(ip) += 1",
      "                  ^\u001b[0m",
      "\u001b[31mMain.scala:204: not found: value registers",
      "    println(registers.mkString(\" \"))",
      "            ^\u001b[0m",
      "\u001b[31mMain.scala:208: not found: value registers",
      "println(registers.mkString(\" \"))",
      "        ^\u001b[0m"
     ]
    }
   ],
   "source": [
    "var numInstructions = 0\n",
    "println(registers.mkString(\" \"))\n",
    "var halt = false\n",
    "while (!halt && numInstructions < 10000) {\n",
    "    val currentOperation = Operation(registers, program(registers(ip)))\n",
    "    println(opNames(currentOperation.opIndex), currentOperation.a, currentOperation.b, currentOperation.output)\n",
    "    val output = allOperations(currentOperation.opIndex)(currentOperation)\n",
    "    if (currentOperation.output == ip && output > program.length) {\n",
    "        halt = true\n",
    "    }\n",
    "    else {\n",
    "        registers(currentOperation.output) = output\n",
    "    }\n",
    "    if (registers(ip) < program.length-1 && !halt) {\n",
    "        registers(ip) += 1\n",
    "        numInstructions += 1\n",
    "    }\n",
    "    else {\n",
    "        halt = true\n",
    "    }\n",
    "    println(registers.mkString(\" \"))\n",
    "}\n",
    "println(registers.mkString(\" \"))\n",
    "println(numInstructions)"
   ]
  },
  {
   "cell_type": "code",
   "execution_count": 17,
   "metadata": {},
   "outputs": [
    {
     "data": {
      "text/plain": [
       "\u001b[36mres16_0\u001b[0m: \u001b[32mInt\u001b[0m = \u001b[32m21102612\u001b[0m\n",
       "\u001b[36mres16_1\u001b[0m: \u001b[32mInt\u001b[0m = \u001b[32m5275653\u001b[0m\n",
       "\u001b[36mres16_2\u001b[0m: \u001b[32mInt\u001b[0m = \u001b[32m3517102\u001b[0m\n",
       "\u001b[36mres16_3\u001b[0m: \u001b[32mInt\u001b[0m = \u001b[32m1758551\u001b[0m\n",
       "\u001b[36mres16_4\u001b[0m: \u001b[32mInt\u001b[0m = \u001b[32m70342\u001b[0m\n",
       "\u001b[36mres16_5\u001b[0m: \u001b[32mInt\u001b[0m = \u001b[32m35171\u001b[0m\n",
       "\u001b[36mres16_6\u001b[0m: \u001b[32mInt\u001b[0m = \u001b[32m23447\u001b[0m\n",
       "\u001b[36mres16_7\u001b[0m: \u001b[32mInt\u001b[0m = \u001b[32m11723\u001b[0m"
      ]
     },
     "metadata": {},
     "output_type": "display_data"
    }
   ],
   "source": [
    "10551306 + 5275653 + 3517102 + 1758551 // + ...\n",
    "10551306/2\n",
    "(5275653*2)/3\n",
    "3517102/2\n",
    "1758551/25\n",
    "70342/2\n",
    "(35171*2)/3\n",
    "23447/2"
   ]
  },
  {
   "cell_type": "markdown",
   "metadata": {},
   "source": [
    "After other experiments, can just work out factors of new large number (10551306)"
   ]
  },
  {
   "cell_type": "code",
   "execution_count": 16,
   "metadata": {},
   "outputs": [
    {
     "data": {
      "text/plain": [
       "\u001b[36mfactors\u001b[0m: \u001b[32mcollection\u001b[0m.\u001b[32mmutable\u001b[0m.\u001b[32mSet\u001b[0m[\u001b[32mInt\u001b[0m] = \u001b[33mSet\u001b[0m(\n",
       "  \u001b[32m1\u001b[0m,\n",
       "  \u001b[32m2\u001b[0m,\n",
       "  \u001b[32m89\u001b[0m,\n",
       "  \u001b[32m3517102\u001b[0m,\n",
       "  \u001b[32m3\u001b[0m,\n",
       "  \u001b[32m118554\u001b[0m,\n",
       "  \u001b[32m178\u001b[0m,\n",
       "  \u001b[32m534\u001b[0m,\n",
       "  \u001b[32m1758551\u001b[0m,\n",
       "  \u001b[32m59277\u001b[0m,\n",
       "  \u001b[32m267\u001b[0m,\n",
       "  \u001b[32m6\u001b[0m,\n",
       "  \u001b[32m19759\u001b[0m,\n",
       "  \u001b[32m39518\u001b[0m,\n",
       "\u001b[33m...\u001b[0m\n",
       "\u001b[36mres14_2\u001b[0m: \u001b[32mInt\u001b[0m = \u001b[32m21340800\u001b[0m"
      ]
     },
     "metadata": {},
     "output_type": "display_data"
    }
   ],
   "source": [
    "val factors = scala.collection.mutable.Set[Int]()\n",
    "for (i <- 1 to 10551306) {\n",
    "    if (10551306 % i == 0) {\n",
    "        factors += i\n",
    "    }\n",
    "}\n",
    "factors.sum"
   ]
  }
 ],
 "metadata": {
  "kernelspec": {
   "display_name": "Scala 2.11",
   "language": "scala211",
   "name": "scala211"
  },
  "language_info": {
   "codemirror_mode": "text/x-scala",
   "file_extension": ".scala",
   "mimetype": "text/x-scala",
   "name": "scala211",
   "pygments_lexer": "scala",
   "version": "2.11.6"
  }
 },
 "nbformat": 4,
 "nbformat_minor": 2
}
