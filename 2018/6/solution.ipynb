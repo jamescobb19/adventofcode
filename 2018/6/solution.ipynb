{
 "cells": [
  {
   "cell_type": "code",
   "execution_count": 1,
   "metadata": {},
   "outputs": [
    {
     "data": {
      "text/plain": [
       "\u001b[32mimport \u001b[36mscala.io.Source\u001b[0m\n",
       "\u001b[36mfilename\u001b[0m: \u001b[32mString\u001b[0m = \u001b[32m\"input\"\u001b[0m\n",
       "\u001b[36mlines\u001b[0m: \u001b[32mArray\u001b[0m[\u001b[32mString\u001b[0m] = \u001b[33mArray\u001b[0m(\n",
       "  \u001b[32m\"63, 142\"\u001b[0m,\n",
       "  \u001b[32m\"190, 296\"\u001b[0m,\n",
       "  \u001b[32m\"132, 194\"\u001b[0m,\n",
       "  \u001b[32m\"135, 197\"\u001b[0m,\n",
       "  \u001b[32m\"327, 292\"\u001b[0m,\n",
       "  \u001b[32m\"144, 174\"\u001b[0m,\n",
       "  \u001b[32m\"103, 173\"\u001b[0m,\n",
       "  \u001b[32m\"141, 317\"\u001b[0m,\n",
       "  \u001b[32m\"265, 58\"\u001b[0m,\n",
       "  \u001b[32m\"344, 50\"\u001b[0m,\n",
       "  \u001b[32m\"184, 238\"\u001b[0m,\n",
       "  \u001b[32m\"119, 61\"\u001b[0m,\n",
       "  \u001b[32m\"329, 106\"\u001b[0m,\n",
       "  \u001b[32m\"70, 242\"\u001b[0m,\n",
       "\u001b[33m...\u001b[0m"
      ]
     },
     "metadata": {},
     "output_type": "display_data"
    }
   ],
   "source": [
    "// Imports\n",
    "import scala.io.Source\n",
    "\n",
    "// Read file into list of coords\n",
    "val filename = \"input\"\n",
    "var lines = Source.fromFile(filename).getLines.toArray"
   ]
  },
  {
   "cell_type": "code",
   "execution_count": 34,
   "metadata": {},
   "outputs": [
    {
     "ename": "",
     "evalue": "",
     "output_type": "error",
     "traceback": [
      "Compilation Failed",
      "\u001b[31mMain.scala:85: too many arguments for method map: (f: Array[String] => B)(implicit bf: scala.collection.generic.CanBuildFrom[Array[Array[String]],B,That])That",
      "lines.map(x => x.split(\",\")).map(x => x(0).toInt, x(1).trim.toInt) ",
      "                                ^\u001b[0m"
     ]
    }
   ],
   "source": [
    "val coords = lines.map(x => x.split(\",\")).map(x => (x(0).toInt, x(1).trim.toInt))"
   ]
  },
  {
   "cell_type": "code",
   "execution_count": 44,
   "metadata": {},
   "outputs": [
    {
     "data": {
      "text/plain": [
       "\u001b[36mminX\u001b[0m: \u001b[32mInt\u001b[0m = \u001b[32m42\u001b[0m\n",
       "\u001b[36mmaxX\u001b[0m: \u001b[32mInt\u001b[0m = \u001b[32m308\u001b[0m\n",
       "\u001b[36mminY\u001b[0m: \u001b[32mInt\u001b[0m = \u001b[32m44\u001b[0m\n",
       "\u001b[36mmaxY\u001b[0m: \u001b[32mInt\u001b[0m = \u001b[32m310\u001b[0m\n",
       "\u001b[36mnormalisedCoords\u001b[0m: \u001b[32mArray\u001b[0m[(\u001b[32mInt\u001b[0m, \u001b[32mInt\u001b[0m)] = \u001b[33mArray\u001b[0m(\n",
       "  \u001b[33m\u001b[0m(\u001b[32m21\u001b[0m, \u001b[32m98\u001b[0m),\n",
       "  \u001b[33m\u001b[0m(\u001b[32m148\u001b[0m, \u001b[32m252\u001b[0m),\n",
       "  \u001b[33m\u001b[0m(\u001b[32m90\u001b[0m, \u001b[32m150\u001b[0m),\n",
       "  \u001b[33m\u001b[0m(\u001b[32m93\u001b[0m, \u001b[32m153\u001b[0m),\n",
       "  \u001b[33m\u001b[0m(\u001b[32m285\u001b[0m, \u001b[32m248\u001b[0m),\n",
       "  \u001b[33m\u001b[0m(\u001b[32m102\u001b[0m, \u001b[32m130\u001b[0m),\n",
       "  \u001b[33m\u001b[0m(\u001b[32m61\u001b[0m, \u001b[32m129\u001b[0m),\n",
       "  \u001b[33m\u001b[0m(\u001b[32m99\u001b[0m, \u001b[32m273\u001b[0m),\n",
       "  \u001b[33m\u001b[0m(\u001b[32m223\u001b[0m, \u001b[32m14\u001b[0m),\n",
       "  \u001b[33m\u001b[0m(\u001b[32m302\u001b[0m, \u001b[32m6\u001b[0m),\n",
       "  \u001b[33m\u001b[0m(\u001b[32m142\u001b[0m, \u001b[32m194\u001b[0m),\n",
       "  \u001b[33m\u001b[0m(\u001b[32m77\u001b[0m, \u001b[32m17\u001b[0m),\n",
       "  \u001b[33m\u001b[0m(\u001b[32m287\u001b[0m, \u001b[32m62\u001b[0m),\n",
       "  \u001b[33m\u001b[0m(\u001b[32m28\u001b[0m, \u001b[32m198\u001b[0m),\n",
       "\u001b[33m...\u001b[0m"
      ]
     },
     "metadata": {},
     "output_type": "display_data"
    }
   ],
   "source": [
    "// Find size of grid, normalise to 0->maxX/Y\n",
    "val minX = coords.map({case (x, y) => x}).min\n",
    "var maxX = coords.map({case (x, y) => x}).max\n",
    "val minY = coords.map({case (x, y) => y}).min\n",
    "var maxY = coords.map({case (x, y) => y}).max\n",
    "\n",
    "val normalisedCoords = coords.map({case (x,y) => (x-minX, y-minY)})\n",
    "maxX -= minX\n",
    "maxY -= minY"
   ]
  },
  {
   "cell_type": "code",
   "execution_count": 60,
   "metadata": {},
   "outputs": [
    {
     "data": {
      "text/plain": [
       "defined \u001b[32mfunction \u001b[36mmanhattanDistance\u001b[0m"
      ]
     },
     "metadata": {},
     "output_type": "display_data"
    }
   ],
   "source": [
    "def manhattanDistance (coord1:(Int, Int), coord2:(Int, Int)) : Int = {\n",
    "    val (x1, y1) = coord1\n",
    "    val (x2, y2) = coord2\n",
    "    return (math.abs(x1-x2) + math.abs(y1-y2))\n",
    "}"
   ]
  },
  {
   "cell_type": "code",
   "execution_count": 73,
   "metadata": {},
   "outputs": [
    {
     "data": {
      "text/plain": [
       "defined \u001b[32mfunction \u001b[36mfindMaxManhattanDistance\u001b[0m"
      ]
     },
     "metadata": {},
     "output_type": "display_data"
    }
   ],
   "source": [
    "def findMaxManhattanDistance(coord: (Int, Int), coordList: Array[(Int, Int)]) : Int = {\n",
    "    val distances = coordList.map(listCoord => manhattanDistance(coord, listCoord))\n",
    "    val min = distances.min\n",
    "    if (distances.count(d => d == min) == 1) {\n",
    "        return distances.indexOf(min)\n",
    "    }\n",
    "    // Otherwise there was a conflict\n",
    "    else return -1\n",
    "}"
   ]
  },
  {
   "cell_type": "code",
   "execution_count": 72,
   "metadata": {},
   "outputs": [
    {
     "data": {
      "text/plain": [
       "\u001b[36ma\u001b[0m: \u001b[32mArray\u001b[0m[\u001b[32mInt\u001b[0m] = \u001b[33mArray\u001b[0m(\u001b[32m1\u001b[0m, \u001b[32m2\u001b[0m, \u001b[32m1\u001b[0m, \u001b[32m3\u001b[0m)\n",
       "\u001b[36mm\u001b[0m: \u001b[32mInt\u001b[0m = \u001b[32m1\u001b[0m\n",
       "\u001b[36mres41_2\u001b[0m: \u001b[32mInt\u001b[0m = \u001b[32m2\u001b[0m\n",
       "\u001b[36mres41_3\u001b[0m: \u001b[32mInt\u001b[0m = \u001b[32m0\u001b[0m"
      ]
     },
     "metadata": {},
     "output_type": "display_data"
    }
   ],
   "source": [
    "val a = Array[Int](1,2,1,3)\n",
    "val m = a.min\n",
    "a.count(x => x == m)\n",
    "a.indexOf(m)"
   ]
  },
  {
   "cell_type": "code",
   "execution_count": 74,
   "metadata": {},
   "outputs": [
    {
     "data": {
      "text/plain": [
       "\u001b[36mgrid\u001b[0m: \u001b[32mArray\u001b[0m[\u001b[32mArray\u001b[0m[\u001b[32mInt\u001b[0m]] = \u001b[33mArray\u001b[0m(\n",
       "  \u001b[33mArray\u001b[0m(\n",
       "    \u001b[32m36\u001b[0m,\n",
       "    \u001b[32m36\u001b[0m,\n",
       "    \u001b[32m36\u001b[0m,\n",
       "    \u001b[32m36\u001b[0m,\n",
       "    \u001b[32m36\u001b[0m,\n",
       "    \u001b[32m36\u001b[0m,\n",
       "    \u001b[32m36\u001b[0m,\n",
       "    \u001b[32m36\u001b[0m,\n",
       "    \u001b[32m36\u001b[0m,\n",
       "    \u001b[32m36\u001b[0m,\n",
       "    \u001b[32m36\u001b[0m,\n",
       "    \u001b[32m36\u001b[0m,\n",
       "    \u001b[32m36\u001b[0m,\n",
       "\u001b[33m...\u001b[0m"
      ]
     },
     "metadata": {},
     "output_type": "display_data"
    }
   ],
   "source": [
    "val grid = Array.ofDim[Int](maxX, maxY)\n",
    "for {\n",
    "    i <- 0 until maxX\n",
    "    j <- 0 until maxY\n",
    "} grid(i)(j) = findMaxManhattanDistance((i, j), normalisedCoords)"
   ]
  },
  {
   "cell_type": "code",
   "execution_count": 79,
   "metadata": {},
   "outputs": [
    {
     "data": {
      "text/plain": [
       "\u001b[36minfiniteCoords\u001b[0m: \u001b[32mcollection\u001b[0m.\u001b[32mmutable\u001b[0m.\u001b[32mSet\u001b[0m[\u001b[32mInt\u001b[0m] = \u001b[33mSet\u001b[0m(\n",
       "  \u001b[32m0\u001b[0m,\n",
       "  \u001b[32m9\u001b[0m,\n",
       "  \u001b[32m24\u001b[0m,\n",
       "  \u001b[32m18\u001b[0m,\n",
       "  \u001b[32m11\u001b[0m,\n",
       "  \u001b[32m33\u001b[0m,\n",
       "  \u001b[32m34\u001b[0m,\n",
       "  \u001b[32m13\u001b[0m,\n",
       "  \u001b[32m-1\u001b[0m,\n",
       "  \u001b[32m35\u001b[0m,\n",
       "  \u001b[32m36\u001b[0m,\n",
       "  \u001b[32m22\u001b[0m,\n",
       "  \u001b[32m29\u001b[0m,\n",
       "  \u001b[32m8\u001b[0m\n",
       "\u001b[33m...\u001b[0m"
      ]
     },
     "metadata": {},
     "output_type": "display_data"
    }
   ],
   "source": [
    "val infiniteCoords = scala.collection.mutable.Set[Int]()\n",
    "for {\n",
    "    i <- 0 until maxX\n",
    "    j <- 0 until maxY\n",
    "} if (i == 0 || i == maxX || j == 0 || j == maxY) infiniteCoords += grid(i)(j)"
   ]
  },
  {
   "cell_type": "code",
   "execution_count": 96,
   "metadata": {},
   "outputs": [
    {
     "data": {
      "text/plain": [
       "\u001b[36mareas\u001b[0m: \u001b[32mcollection\u001b[0m.\u001b[32mmutable\u001b[0m.\u001b[32mMap\u001b[0m[\u001b[32mInt\u001b[0m, \u001b[32mInt\u001b[0m] = \u001b[33mMap\u001b[0m(\n",
       "  \u001b[32m23\u001b[0m -> \u001b[32m0\u001b[0m,\n",
       "  \u001b[32m32\u001b[0m -> \u001b[32m0\u001b[0m,\n",
       "  \u001b[32m41\u001b[0m -> \u001b[32m0\u001b[0m,\n",
       "  \u001b[32m17\u001b[0m -> \u001b[32m0\u001b[0m,\n",
       "  \u001b[32m8\u001b[0m -> \u001b[32m0\u001b[0m,\n",
       "  \u001b[32m35\u001b[0m -> \u001b[32m0\u001b[0m,\n",
       "  \u001b[32m44\u001b[0m -> \u001b[32m0\u001b[0m,\n",
       "  \u001b[32m26\u001b[0m -> \u001b[32m0\u001b[0m,\n",
       "  \u001b[32m11\u001b[0m -> \u001b[32m0\u001b[0m,\n",
       "  \u001b[32m29\u001b[0m -> \u001b[32m0\u001b[0m,\n",
       "  \u001b[32m38\u001b[0m -> \u001b[32m0\u001b[0m,\n",
       "  \u001b[32m47\u001b[0m -> \u001b[32m0\u001b[0m,\n",
       "  \u001b[32m20\u001b[0m -> \u001b[32m0\u001b[0m,\n",
       "  \u001b[32m2\u001b[0m -> \u001b[32m0\u001b[0m,\n",
       "\u001b[33m...\u001b[0m"
      ]
     },
     "metadata": {},
     "output_type": "display_data"
    }
   ],
   "source": [
    "val areas = scala.collection.mutable.Map[Int, Int]()\n",
    "for ( i <- 0 until normalisedCoords.length) {\n",
    "    areas(i) = 0\n",
    "}"
   ]
  },
  {
   "cell_type": "code",
   "execution_count": 98,
   "metadata": {},
   "outputs": [
    {
     "data": {
      "text/plain": []
     },
     "metadata": {},
     "output_type": "display_data"
    }
   ],
   "source": [
    "for {\n",
    "    i <- 0 until maxX\n",
    "    j <- 0 until maxY\n",
    "} if (grid(i)(j) != -1) areas(grid(i)(j)) += 1"
   ]
  },
  {
   "cell_type": "code",
   "execution_count": 114,
   "metadata": {},
   "outputs": [
    {
     "data": {
      "text/plain": [
       "\u001b[36mmaxCoord\u001b[0m: \u001b[32mInt\u001b[0m = \u001b[32m49\u001b[0m\n",
       "\u001b[36mmaxValue\u001b[0m: \u001b[32mInt\u001b[0m = \u001b[32m5429\u001b[0m"
      ]
     },
     "metadata": {},
     "output_type": "display_data"
    }
   ],
   "source": [
    "var maxCoord = 0\n",
    "var maxValue = 0\n",
    "for (elem <- areas) {\n",
    "    if (elem._2 > maxValue) {\n",
    "        maxCoord = elem._1\n",
    "        maxValue = elem._2\n",
    "    }\n",
    "}"
   ]
  },
  {
   "cell_type": "code",
   "execution_count": 116,
   "metadata": {},
   "outputs": [
    {
     "data": {
      "text/plain": [
       "defined \u001b[32mfunction \u001b[36mbelowTotalDistance\u001b[0m"
      ]
     },
     "metadata": {},
     "output_type": "display_data"
    }
   ],
   "source": [
    "def belowTotalDistance(coord: (Int, Int), coordList: Array[(Int, Int)]) : Boolean = {\n",
    "    val TOTAL_DISTANCE = 10000\n",
    "    val distance = coordList.map(listCoord => manhattanDistance(coord, listCoord)).sum\n",
    "    return distance < TOTAL_DISTANCE\n",
    "}"
   ]
  },
  {
   "cell_type": "code",
   "execution_count": 118,
   "metadata": {},
   "outputs": [
    {
     "data": {
      "text/plain": [
       "\u001b[36mbelowDistanceGrid\u001b[0m: \u001b[32mArray\u001b[0m[\u001b[32mArray\u001b[0m[\u001b[32mBoolean\u001b[0m]] = \u001b[33mArray\u001b[0m(\n",
       "  \u001b[33mArray\u001b[0m(\n",
       "    false,\n",
       "    false,\n",
       "    false,\n",
       "    false,\n",
       "    false,\n",
       "    false,\n",
       "    false,\n",
       "    false,\n",
       "    false,\n",
       "    false,\n",
       "    false,\n",
       "    false,\n",
       "    false,\n",
       "\u001b[33m...\u001b[0m"
      ]
     },
     "metadata": {},
     "output_type": "display_data"
    }
   ],
   "source": [
    "val belowDistanceGrid = Array.ofDim[Boolean](maxX, maxY)\n",
    "for {\n",
    "    i <- 0 until maxX\n",
    "    j <- 0 until maxY\n",
    "} belowDistanceGrid(i)(j) = belowTotalDistance((i, j), normalisedCoords)"
   ]
  },
  {
   "cell_type": "code",
   "execution_count": 126,
   "metadata": {},
   "outputs": [
    {
     "data": {
      "text/plain": [
       "\u001b[36mres75\u001b[0m: \u001b[32mInt\u001b[0m = \u001b[32m32614\u001b[0m"
      ]
     },
     "metadata": {},
     "output_type": "display_data"
    }
   ],
   "source": [
    "belowDistanceGrid.map(column => column.filter(value => value).length).sum"
   ]
  }
 ],
 "metadata": {
  "kernelspec": {
   "display_name": "Scala 2.11",
   "language": "scala211",
   "name": "scala211"
  },
  "language_info": {
   "codemirror_mode": "text/x-scala",
   "file_extension": ".scala",
   "mimetype": "text/x-scala",
   "name": "scala211",
   "pygments_lexer": "scala",
   "version": "2.11.6"
  }
 },
 "nbformat": 4,
 "nbformat_minor": 2
}
