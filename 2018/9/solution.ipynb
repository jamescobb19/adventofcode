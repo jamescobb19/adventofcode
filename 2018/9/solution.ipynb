{
 "cells": [
  {
   "cell_type": "code",
   "execution_count": 2,
   "metadata": {},
   "outputs": [
    {
     "data": {
      "text/plain": [
       "\u001b[36minput\u001b[0m: (\u001b[32mInt\u001b[0m, \u001b[32mInt\u001b[0m) = \u001b[33m\u001b[0m(\u001b[32m447\u001b[0m, \u001b[32m71510\u001b[0m)\n",
       "\u001b[36mtest1\u001b[0m: (\u001b[32mInt\u001b[0m, \u001b[32mInt\u001b[0m) = \u001b[33m\u001b[0m(\u001b[32m9\u001b[0m, \u001b[32m25\u001b[0m)\n",
       "\u001b[36mtest2\u001b[0m: (\u001b[32mInt\u001b[0m, \u001b[32mInt\u001b[0m) = \u001b[33m\u001b[0m(\u001b[32m17\u001b[0m, \u001b[32m1104\u001b[0m)\n",
       "\u001b[36mtest3\u001b[0m: (\u001b[32mInt\u001b[0m, \u001b[32mInt\u001b[0m) = \u001b[33m\u001b[0m(\u001b[32m13\u001b[0m, \u001b[32m7999\u001b[0m)\n",
       "\u001b[36mp2test1\u001b[0m: (\u001b[32mInt\u001b[0m, \u001b[32mInt\u001b[0m) = \u001b[33m\u001b[0m(\u001b[32m1\u001b[0m, \u001b[32m64\u001b[0m)"
      ]
     },
     "metadata": {},
     "output_type": "display_data"
    }
   ],
   "source": [
    "// Inputs reflect the number of players and the value of the last marble (total number of marbles)\n",
    "val input = (447, 71510)\n",
    "val test1 = (9, 25) // =  32\n",
    "val test2 = (17, 1104) // = 2764\n",
    "val test3 = (13, 7999) // = 146373\n",
    "val p2test1 = (1, 64)"
   ]
  },
  {
   "cell_type": "code",
   "execution_count": 6,
   "metadata": {},
   "outputs": [
    {
     "data": {
      "text/plain": [
       "\u001b[32mimport \u001b[36mscala.collection.mutable.ListBuffer\u001b[0m"
      ]
     },
     "metadata": {},
     "output_type": "display_data"
    }
   ],
   "source": [
    "import scala.collection.mutable.ListBuffer"
   ]
  },
  {
   "cell_type": "code",
   "execution_count": 19,
   "metadata": {},
   "outputs": [
    {
     "data": {
      "text/plain": [
       "\u001b[36mgame\u001b[0m: (\u001b[32mInt\u001b[0m, \u001b[32mInt\u001b[0m) = \u001b[33m\u001b[0m(\u001b[32m13\u001b[0m, \u001b[32m7999\u001b[0m)\n",
       "\u001b[36mnumPlayers\u001b[0m: \u001b[32mInt\u001b[0m = \u001b[32m13\u001b[0m\n",
       "\u001b[36mmaxMarbles\u001b[0m: \u001b[32mInt\u001b[0m = \u001b[32m7999\u001b[0m\n",
       "\u001b[36mprevMarblePos\u001b[0m: \u001b[32mInt\u001b[0m = \u001b[32m1\u001b[0m\n",
       "\u001b[36mstartMarble\u001b[0m: \u001b[32mInt\u001b[0m = \u001b[32m1\u001b[0m\n",
       "\u001b[36mmarbles\u001b[0m: \u001b[32mListBuffer\u001b[0m[\u001b[32mInt\u001b[0m] = \u001b[33mListBuffer\u001b[0m(\u001b[32m0\u001b[0m)\n",
       "\u001b[36mcurrentPlayer\u001b[0m: \u001b[32mInt\u001b[0m = \u001b[32m0\u001b[0m\n",
       "\u001b[36mscores\u001b[0m: \u001b[32mArray\u001b[0m[\u001b[32mInt\u001b[0m] = \u001b[33mArray\u001b[0m(\n",
       "  \u001b[32m0\u001b[0m,\n",
       "  \u001b[32m0\u001b[0m,\n",
       "  \u001b[32m0\u001b[0m,\n",
       "  \u001b[32m0\u001b[0m,\n",
       "  \u001b[32m0\u001b[0m,\n",
       "  \u001b[32m0\u001b[0m,\n",
       "  \u001b[32m0\u001b[0m,\n",
       "  \u001b[32m0\u001b[0m,\n",
       "  \u001b[32m0\u001b[0m,\n",
       "  \u001b[32m0\u001b[0m,\n",
       "  \u001b[32m0\u001b[0m,\n",
       "  \u001b[32m0\u001b[0m,\n",
       "  \u001b[32m0\u001b[0m\n",
       ")"
      ]
     },
     "metadata": {},
     "output_type": "display_data"
    }
   ],
   "source": [
    "// Select example/input\n",
    "val game = input\n",
    "val numPlayers = game._1\n",
    "val maxMarbles = game._2\n",
    "// Game constants\n",
    "var prevMarblePos = 1\n",
    "var startMarble = 1\n",
    "val marbles = ListBuffer[Int](0)\n",
    "var currentPlayer = 0\n",
    "val scores = Array.ofDim[Int](numPlayers)"
   ]
  },
  {
   "cell_type": "code",
   "execution_count": 20,
   "metadata": {},
   "outputs": [
    {
     "name": "stdout",
     "output_type": "stream",
     "text": [
      "7900/7999"
     ]
    },
    {
     "data": {
      "text/plain": [
       "\u001b[36mres18_1\u001b[0m: \u001b[32mListBuffer\u001b[0m[\u001b[32mInt\u001b[0m] = \u001b[33mListBuffer\u001b[0m(\n",
       "  \u001b[32m6211\u001b[0m,\n",
       "  \u001b[32m6207\u001b[0m,\n",
       "  \u001b[32m6212\u001b[0m,\n",
       "  \u001b[32m2684\u001b[0m,\n",
       "  \u001b[32m6213\u001b[0m,\n",
       "  \u001b[32m6208\u001b[0m,\n",
       "  \u001b[32m6214\u001b[0m,\n",
       "  \u001b[32m1161\u001b[0m,\n",
       "  \u001b[32m6215\u001b[0m,\n",
       "  \u001b[32m6209\u001b[0m,\n",
       "  \u001b[32m6216\u001b[0m,\n",
       "  \u001b[32m2685\u001b[0m,\n",
       "  \u001b[32m6217\u001b[0m,\n",
       "  \u001b[32m500\u001b[0m,\n",
       "\u001b[33m...\u001b[0m"
      ]
     },
     "metadata": {},
     "output_type": "display_data"
    }
   ],
   "source": [
    "// Want to input a marble at prev marble's position + 2 (clockwise), then update the list\n",
    "// Unless the marble is a multiple of 23\n",
    "for (currentMarble <- startMarble to maxMarbles) {\n",
    "    if (currentMarble % 23 == 0) {\n",
    "        // Remove the marble 7 counter-clockwise from prevPos and its neighbour is the new prevMarble\n",
    "        val removalPos = (prevMarblePos - 7 + marbles.length) % marbles.length\n",
    "        val marbleToRemove = marbles(removalPos)\n",
    "        marbles.remove(removalPos)\n",
    "        prevMarblePos = removalPos % marbles.length\n",
    "        // Update the player's score\n",
    "        scores(currentPlayer) += currentMarble + marbleToRemove\n",
    "    }\n",
    "    else {\n",
    "        val newMarblePos = (prevMarblePos + 2) % marbles.length\n",
    "        marbles.insert(newMarblePos, currentMarble)\n",
    "        prevMarblePos = newMarblePos\n",
    "    }\n",
    "    currentPlayer = (currentPlayer + 1) % numPlayers\n",
    "    if (currentMarble % 100 == 0) {\n",
    "        print(s\"\\r$currentMarble/$maxMarbles\")\n",
    "    }\n",
    "}\n",
    "marbles"
   ]
  },
  {
   "cell_type": "code",
   "execution_count": 21,
   "metadata": {},
   "outputs": [
    {
     "name": "stdout",
     "output_type": "stream",
     "text": [
      "7999\n",
      "146373\n"
     ]
    },
    {
     "data": {
      "text/plain": []
     },
     "metadata": {},
     "output_type": "display_data"
    }
   ],
   "source": [
    "//println(marbles)\n",
    "println(marbles.max)\n",
    "println(scores.max)"
   ]
  },
  {
   "cell_type": "code",
   "execution_count": 53,
   "metadata": {},
   "outputs": [
    {
     "name": "stdout",
     "output_type": "stream",
     "text": [
      "ListBuffer(39, 16, 40, 8, 41, 42, 4, 47, 43, 48, 18, 49, 44, 50, 19, 51, 45, 52, 2, 53, 24, 54, 20, 55, 25, 56, 10, 57, 26, 58, 21, 59, 27, 60, 5, 61, 28, 62, 22, 63, 29, 64, 11, 30, 1, 31, 12, 32, 6, 33, 13, 34, 3, 35, 14, 36, 7, 37, 15, 38, 0)\n"
     ]
    },
    {
     "data": {
      "text/plain": []
     },
     "metadata": {},
     "output_type": "display_data"
    }
   ],
   "source": [
    "println(marbles)"
   ]
  },
  {
   "cell_type": "markdown",
   "metadata": {},
   "source": [
    "## Part 2"
   ]
  },
  {
   "cell_type": "code",
   "execution_count": 3,
   "metadata": {},
   "outputs": [
    {
     "data": {
      "text/plain": [
       "\u001b[36mgame\u001b[0m: (\u001b[32mInt\u001b[0m, \u001b[32mInt\u001b[0m) = \u001b[33m\u001b[0m(\u001b[32m447\u001b[0m, \u001b[32m71510\u001b[0m)\n",
       "\u001b[36mnumPlayers\u001b[0m: \u001b[32mInt\u001b[0m = \u001b[32m447\u001b[0m\n",
       "\u001b[36mmaxMarbles\u001b[0m: \u001b[32mInt\u001b[0m = \u001b[32m7151000\u001b[0m\n",
       "\u001b[36mprevMarble\u001b[0m: \u001b[32mInt\u001b[0m = \u001b[32m0\u001b[0m\n",
       "\u001b[36mstartMarble\u001b[0m: \u001b[32mInt\u001b[0m = \u001b[32m1\u001b[0m\n",
       "\u001b[36mcurrentPlayer\u001b[0m: \u001b[32mInt\u001b[0m = \u001b[32m0\u001b[0m\n",
       "\u001b[36mscores\u001b[0m: \u001b[32mArray\u001b[0m[\u001b[32mLong\u001b[0m] = \u001b[33mArray\u001b[0m(\n",
       "  \u001b[32m0\u001b[0mL,\n",
       "  \u001b[32m0\u001b[0mL,\n",
       "  \u001b[32m0\u001b[0mL,\n",
       "  \u001b[32m0\u001b[0mL,\n",
       "  \u001b[32m0\u001b[0mL,\n",
       "  \u001b[32m0\u001b[0mL,\n",
       "  \u001b[32m0\u001b[0mL,\n",
       "  \u001b[32m0\u001b[0mL,\n",
       "  \u001b[32m0\u001b[0mL,\n",
       "  \u001b[32m0\u001b[0mL,\n",
       "  \u001b[32m0\u001b[0mL,\n",
       "  \u001b[32m0\u001b[0mL,\n",
       "  \u001b[32m0\u001b[0mL,\n",
       "  \u001b[32m0\u001b[0mL,\n",
       "\u001b[33m...\u001b[0m"
      ]
     },
     "metadata": {},
     "output_type": "display_data"
    }
   ],
   "source": [
    "// Select example/input\n",
    "val game = input\n",
    "val numPlayers = game._1\n",
    "val maxMarbles = game._2 * 100\n",
    "// Game constants\n",
    "var prevMarble = 0\n",
    "var startMarble = 1\n",
    "var currentPlayer = 0\n",
    "val scores = Array.ofDim[Long](numPlayers)"
   ]
  },
  {
   "cell_type": "code",
   "execution_count": 4,
   "metadata": {},
   "outputs": [
    {
     "data": {
      "text/plain": [
       "\u001b[32mimport \u001b[36mjava.util.HashMap\u001b[0m\n",
       "\u001b[32mimport \u001b[36mscala.collection.JavaConverters._\u001b[0m\n",
       "\u001b[36mmapSize\u001b[0m: \u001b[32mInt\u001b[0m = \u001b[32m6840186\u001b[0m\n",
       "\u001b[36mjavaMap\u001b[0m: \u001b[32mjava\u001b[0m.\u001b[32mutil\u001b[0m.\u001b[32mHashMap\u001b[0m[\u001b[32mInt\u001b[0m, (\u001b[32mInt\u001b[0m, \u001b[32mInt\u001b[0m)] = {0=(0,0), 1=(-1,-1), 2=(-1,-1), 3=(-1,-1), 4=(-1,-1), 5=(-1,-1), 6=(-1,-1), 7=(-1,-1), 8=(-1,-1), 9=(-1,-1), 10=(-1,-1), 11=(-1,-1), 12=(-1,-1), 13=(-1,-1), 14=(-1,-1), 15=(-1,-1), 16=(-1,-1), 17=(-1,-1), 18=(-1,-1), 19=(-1,-1), 20=(-1,-1), 21=(-1,-1), 22=(-1,-1), 24=(-1,-1), 25=(-1,-1), 26=(-1,-1), 27=(-1,-1), 28=(-1,-1), 29=(-1,-1), 30=(-1,-1), 31=(-1,-1), 32=(-1,-1), 33=(-1,-1), 34=(-1,-1), 35=(-1,-1), 36=(-1,-1), 37=(-1,-1), 38=(-1,-1), 39=(-1,-1), 40=(-1,-1), 41=(-1,-1), 42=(-1,-1), 43=(-1,-1), 44=(-1,-1), 45=(-1,-1), 47=(-1,-1), 48=(-1,-1), 49=(-1,-1), 50=(-1,-1), 51=(-1,-1), 52=(-1,-1), 53=(-1,-1), 54=(-1,-1), 55=(-1,-1), 56=(-1,-1), 57=(-1,-1), 58=(-1,-1), 59=(-1,-1), 60=(-1,-1), 61=(-1,-1), 62=(-1,-1), 63=(-1,-1), 64=(-1,-1), 65=(-1,-1), 66=(-1,-1), 67=(-1,-1), 68=(-1,-1), 70=(-1,-1), 71=(-1,-1), 72=(-1,-1), 73=(-1,-1), 74=(-1,-1), 75=(-1,-1), 76=(-1,-1), 77=(-1,-1), 78=(-1,-1), 79=(-1,-1), 80=(-1,-1), 81=(-1,-1), 82=(-1,-1), 83=(-1,-1), 84=(-1,-1), 85=(-1,-1), 86=(-1,-1), 87=(-1,-1), 88=(-1,-1), 89=(-1,-1), 90=(-1,-1), 91=(-1,-1), 93=(-1,-1), 94=(-1,-1), 95=(-1,-1), 96=(-1,-1), 97=(-1,-1), 98=(-1,-1), 99=(-1,-1), 100=(-1,-1), 101=(-1,-1), 102=(-1,-1), 103=(-1,-1), 104=(-1,-1), 105=(-1,-1), 106=(-1,-1), 107=(-1,-1), 108=(-1,-1), 109=(-1,-1), 110=(-1,-1), 111=(-1,-1), 112=(-1,-1), 113=(-1,-1), 114=(-1,-1), 116=(-1,-1), 117=(-1,-1), 118=(-1,-1), 119=(-1,-1), 120=(-1,-1), 121=(-1,-1), 122=(-1,-1), 123=(-1,-1), 124=(-1,-1), 125=(-1,-1), 126=(-1,-1), 127=(-1,-1), 128=(-1,\u001b[33m...\u001b[0m\n",
       "\u001b[36mres3_5\u001b[0m: (\u001b[32mInt\u001b[0m, \u001b[32mInt\u001b[0m) = null\n",
       "\u001b[36mmarbleMap\u001b[0m: \u001b[32mcollection\u001b[0m.\u001b[32mmutable\u001b[0m.\u001b[32mMap\u001b[0m[\u001b[32mInt\u001b[0m, (\u001b[32mInt\u001b[0m, \u001b[32mInt\u001b[0m)] = \u001b[33mMap\u001b[0m(\n",
       "  \u001b[32m0\u001b[0m -> \u001b[33m\u001b[0m(\u001b[32m0\u001b[0m, \u001b[32m0\u001b[0m),\n",
       "  \u001b[32m1\u001b[0m -> \u001b[33m\u001b[0m(\u001b[32m-1\u001b[0m, \u001b[32m-1\u001b[0m),\n",
       "  \u001b[32m2\u001b[0m -> \u001b[33m\u001b[0m(\u001b[32m-1\u001b[0m, \u001b[32m-1\u001b[0m),\n",
       "  \u001b[32m3\u001b[0m -> \u001b[33m\u001b[0m(\u001b[32m-1\u001b[0m, \u001b[32m-1\u001b[0m),\n",
       "  \u001b[32m4\u001b[0m -> \u001b[33m\u001b[0m(\u001b[32m-1\u001b[0m, \u001b[32m-1\u001b[0m),\n",
       "  \u001b[32m5\u001b[0m -> \u001b[33m\u001b[0m(\u001b[32m-1\u001b[0m, \u001b[32m-1\u001b[0m),\n",
       "  \u001b[32m6\u001b[0m -> \u001b[33m\u001b[0m(\u001b[32m-1\u001b[0m, \u001b[32m-1\u001b[0m),\n",
       "  \u001b[32m7\u001b[0m -> \u001b[33m\u001b[0m(\u001b[32m-1\u001b[0m, \u001b[32m-1\u001b[0m),\n",
       "  \u001b[32m8\u001b[0m -> \u001b[33m\u001b[0m(\u001b[32m-1\u001b[0m, \u001b[32m-1\u001b[0m),\n",
       "  \u001b[32m9\u001b[0m -> \u001b[33m\u001b[0m(\u001b[32m-1\u001b[0m, \u001b[32m-1\u001b[0m),\n",
       "  \u001b[32m10\u001b[0m -> \u001b[33m\u001b[0m(\u001b[32m-1\u001b[0m, \u001b[32m-1\u001b[0m),\n",
       "  \u001b[32m11\u001b[0m -> \u001b[33m\u001b[0m(\u001b[32m-1\u001b[0m, \u001b[32m-1\u001b[0m),\n",
       "  \u001b[32m12\u001b[0m -> \u001b[33m\u001b[0m(\u001b[32m-1\u001b[0m, \u001b[32m-1\u001b[0m),\n",
       "  \u001b[32m13\u001b[0m -> \u001b[33m\u001b[0m(\u001b[32m-1\u001b[0m, \u001b[32m-1\u001b[0m),\n",
       "\u001b[33m...\u001b[0m\n",
       "defined \u001b[32mfunction \u001b[36mprevious\u001b[0m\n",
       "defined \u001b[32mfunction \u001b[36mnext\u001b[0m\n",
       "defined \u001b[32mfunction \u001b[36minsertBefore\u001b[0m\n",
       "defined \u001b[32mfunction \u001b[36minsertAfter\u001b[0m\n",
       "defined \u001b[32mfunction \u001b[36mremove\u001b[0m\n",
       "defined \u001b[32mfunction \u001b[36msevenBefore\u001b[0m"
      ]
     },
     "metadata": {},
     "output_type": "display_data"
    }
   ],
   "source": [
    "// Some potentially faster methods of performing O(1) circle list insertions\n",
    "import java.util.HashMap\n",
    "import scala.collection.JavaConverters._\n",
    "// Fix the map size as the marbles that will actually have a position in the circle plus some overhead\n",
    "val mapSize = (maxMarbles * 22)/23 + 100\n",
    "// Create a fixed size map\n",
    "val javaMap = new HashMap[Int, (Int, Int)]()\n",
    "Range(1, maxMarbles).filter(x => x % 23 != 0).foreach(x => javaMap.put(x, (-1, -1)))\n",
    "// Initialise the circle with marble 0\n",
    "javaMap.put(0, (0, 0))\n",
    "// Convert this to a Scala Map\n",
    "val marbleMap = javaMap.asScala\n",
    "\n",
    "def previous(index: Int) : Int = {\n",
    "    marbleMap(index)._1\n",
    "}\n",
    "\n",
    "def next(index: Int) : Int = {\n",
    "    marbleMap(index)._2\n",
    "}\n",
    "\n",
    "def insertBefore(index: Int, value: Int) : Unit = {\n",
    "    // Get the existing element at that index\n",
    "    val prevIndex = previous(index)\n",
    "    // Update the previous and next values for the value to insert and those surrounding it\n",
    "    marbleMap(prevIndex) = (previous(prevIndex), value)\n",
    "    marbleMap(index) = (value, next(index))\n",
    "    marbleMap(value) = (prevIndex, index)\n",
    "}\n",
    "\n",
    "def insertAfter(index: Int, value: Int) : Unit = {\n",
    "    // Get the existing element at that index\n",
    "    val nextIndex = next(index)\n",
    "    // Update the previous and next values for the value to insert and those surrounding it\n",
    "    marbleMap(nextIndex) = (value, next(nextIndex))\n",
    "    marbleMap(index) = (previous(index), value)\n",
    "    marbleMap(value) = (index, nextIndex)\n",
    "}\n",
    "\n",
    "def remove(index: Int) : Unit = {\n",
    "    // Get the existing element at that index\n",
    "    val nextIndex = next(index)\n",
    "    val prevIndex = previous(index)\n",
    "    // Update the previous and next values for each of these\n",
    "    marbleMap(prevIndex) = (previous(prevIndex), nextIndex)\n",
    "    marbleMap(nextIndex) = (prevIndex, next(nextIndex))\n",
    "    // The previous 'value' is no longer needed - remove it\n",
    "    marbleMap -= index\n",
    "}\n",
    "\n",
    "def sevenBefore(index: Int) : Int = {\n",
    "    // Helper arount calling before 7 times - this could be a more general loop with a parameter\n",
    "    previous(previous(previous(previous(previous(previous(previous(index)))))))\n",
    "}"
   ]
  },
  {
   "cell_type": "code",
   "execution_count": 5,
   "metadata": {},
   "outputs": [
    {
     "name": "stdout",
     "output_type": "stream",
     "text": [
      "7151000/715100051000/71510003000/71510000400/71510007800/71510005200/71510002600/71510000000/71510007400/71510004800/71510002200/71510009600/71510007000/71510004100/7151000000/7151000900/7151000800/7151000700/7151000600/7151000500/7151000400/7151000300/7151000200/7151000100/7151000000/7151000900/7151000800/7151000700/7151000600/7151000500/7151000400/7151000300/7151000200/7151000100/7151000000/7151000900/7151000800/7151000700/7151000600/7151000500/7151000400/7151000300/7151000200/7151000100/7151000000/7151000900/7151000800/7151000700/7151000600/7151000500/7151000400/7151000300/7151000200/7151000100/7151000000/7151000900/7151000800/7151000700/7151000600/7151000500/7151000400/7151000300/7151000200/7151000100/7151000000/7151000900/7151000800/7151000700/7151000600/7151000500/7151000400/7151000300/7151000200/7151000100/7151000000/7151000900/7151000800/7151000700/7151000600/7151000500/7151000400/7151000300/7151000200/7151000100/7151000000/7151000900/7151000800/7151000700/7151000600/7151000500/7151000400/7151000300/7151000200/7151000100/7151000000/7151000900/7151000800/7151000700/7151000600/7151000500/7151000400/7151000300/7151000200/7151000100/7151000000/7151000900/7151000800/7151000700/7151000600/7151000500/7151000400/7151000300/7151000200/7151000100/7151000000/7151000900/7151000800/7151000700/7151000600/7151000500/7151000400/7151000300/7151000200/7151000100/7151000000/7151000900/7151000800/7151000700/7151000600/7151000500/7151000400/7151000300/7151000200/7151000100/7151000000/7151000900/7151000800/7151000700/7151000600/7151000500/7151000400/7151000300/7151000200/71510007151000"
     ]
    },
    {
     "data": {
      "text/plain": []
     },
     "metadata": {},
     "output_type": "display_data"
    }
   ],
   "source": [
    "// Want to input a marble at prev marble's position + 2 (clockwise), then update the list\n",
    "// Unless the marble is a multiple of 23\n",
    "for (currentMarble <- startMarble to maxMarbles) {\n",
    "    if (currentMarble % 23 == 0) {\n",
    "        // Remove the marble 7 counter-clockwise from prevPos and its neighbour is the new prevMarble\n",
    "        val marbleToRemove = sevenBefore(prevMarble)\n",
    "        prevMarble = next(marbleToRemove)\n",
    "        remove(marbleToRemove)\n",
    "        // Update the player's score\n",
    "        scores(currentPlayer) += currentMarble + marbleToRemove\n",
    "    }\n",
    "    else {\n",
    "        insertAfter(next(prevMarble), currentMarble)\n",
    "        prevMarble = currentMarble\n",
    "    }\n",
    "    currentPlayer = (currentPlayer + 1) % numPlayers\n",
    "    if (currentMarble % 100 == 0) {\n",
    "        print(s\"\\r$currentMarble/$maxMarbles\")\n",
    "    }\n",
    "}"
   ]
  },
  {
   "cell_type": "code",
   "execution_count": 6,
   "metadata": {},
   "outputs": [
    {
     "name": "stdout",
     "output_type": "stream",
     "text": [
      "3273842452\n"
     ]
    },
    {
     "data": {
      "text/plain": []
     },
     "metadata": {},
     "output_type": "display_data"
    }
   ],
   "source": [
    "//println(marbles)\n",
    "//println(marbles.max)\n",
    "println(scores.max)"
   ]
  },
  {
   "cell_type": "markdown",
   "metadata": {},
   "source": [
    "## Some array insertion/removal comparisons"
   ]
  },
  {
   "cell_type": "code",
   "execution_count": 18,
   "metadata": {},
   "outputs": [
    {
     "data": {
      "text/plain": [
       "\u001b[36ma\u001b[0m: \u001b[32mArray\u001b[0m[\u001b[32mInt\u001b[0m] = \u001b[33mArray\u001b[0m(\n",
       "  \u001b[32m0\u001b[0m,\n",
       "  \u001b[32m0\u001b[0m,\n",
       "  \u001b[32m0\u001b[0m,\n",
       "  \u001b[32m0\u001b[0m,\n",
       "  \u001b[32m0\u001b[0m,\n",
       "  \u001b[32m0\u001b[0m,\n",
       "  \u001b[32m0\u001b[0m,\n",
       "  \u001b[32m0\u001b[0m,\n",
       "  \u001b[32m0\u001b[0m,\n",
       "  \u001b[32m0\u001b[0m,\n",
       "  \u001b[32m0\u001b[0m,\n",
       "  \u001b[32m0\u001b[0m,\n",
       "  \u001b[32m0\u001b[0m,\n",
       "  \u001b[32m0\u001b[0m,\n",
       "\u001b[33m...\u001b[0m"
      ]
     },
     "metadata": {},
     "output_type": "display_data"
    }
   ],
   "source": [
    "val a = Array.ofDim[Int](maxMarbles)"
   ]
  },
  {
   "cell_type": "code",
   "execution_count": 19,
   "metadata": {},
   "outputs": [
    {
     "data": {
      "text/plain": [
       "\u001b[36mb\u001b[0m: \u001b[32mArray\u001b[0m[\u001b[32mInt\u001b[0m] = \u001b[33mArray\u001b[0m(\n",
       "  \u001b[32m0\u001b[0m,\n",
       "  \u001b[32m0\u001b[0m,\n",
       "  \u001b[32m0\u001b[0m,\n",
       "  \u001b[32m0\u001b[0m,\n",
       "  \u001b[32m0\u001b[0m,\n",
       "  \u001b[32m0\u001b[0m,\n",
       "  \u001b[32m0\u001b[0m,\n",
       "  \u001b[32m0\u001b[0m,\n",
       "  \u001b[32m0\u001b[0m,\n",
       "  \u001b[32m0\u001b[0m,\n",
       "  \u001b[32m0\u001b[0m,\n",
       "  \u001b[32m0\u001b[0m,\n",
       "  \u001b[32m0\u001b[0m,\n",
       "  \u001b[32m0\u001b[0m,\n",
       "\u001b[33m...\u001b[0m"
      ]
     },
     "metadata": {},
     "output_type": "display_data"
    }
   ],
   "source": [
    "var b = Array.ofDim[Int](maxMarbles)"
   ]
  },
  {
   "cell_type": "code",
   "execution_count": 22,
   "metadata": {},
   "outputs": [
    {
     "data": {
      "text/plain": [
       "\u001b[36mc\u001b[0m: \u001b[32mList\u001b[0m[\u001b[32mInt\u001b[0m] = \u001b[33mList\u001b[0m(\n",
       "  \u001b[32m0\u001b[0m,\n",
       "  \u001b[32m0\u001b[0m,\n",
       "  \u001b[32m0\u001b[0m,\n",
       "  \u001b[32m0\u001b[0m,\n",
       "  \u001b[32m0\u001b[0m,\n",
       "  \u001b[32m0\u001b[0m,\n",
       "  \u001b[32m0\u001b[0m,\n",
       "  \u001b[32m0\u001b[0m,\n",
       "  \u001b[32m0\u001b[0m,\n",
       "  \u001b[32m0\u001b[0m,\n",
       "  \u001b[32m0\u001b[0m,\n",
       "  \u001b[32m0\u001b[0m,\n",
       "  \u001b[32m0\u001b[0m,\n",
       "  \u001b[32m0\u001b[0m,\n",
       "\u001b[33m...\u001b[0m"
      ]
     },
     "metadata": {},
     "output_type": "display_data"
    }
   ],
   "source": [
    "val c = Array.ofDim[Int](maxMarbles).to[List]"
   ]
  },
  {
   "cell_type": "code",
   "execution_count": 24,
   "metadata": {},
   "outputs": [
    {
     "data": {
      "text/plain": [
       "\u001b[36md\u001b[0m: \u001b[32mList\u001b[0m[\u001b[32mInt\u001b[0m] = \u001b[33mList\u001b[0m(\n",
       "  \u001b[32m0\u001b[0m,\n",
       "  \u001b[32m0\u001b[0m,\n",
       "  \u001b[32m0\u001b[0m,\n",
       "  \u001b[32m0\u001b[0m,\n",
       "  \u001b[32m0\u001b[0m,\n",
       "  \u001b[32m0\u001b[0m,\n",
       "  \u001b[32m0\u001b[0m,\n",
       "  \u001b[32m0\u001b[0m,\n",
       "  \u001b[32m0\u001b[0m,\n",
       "  \u001b[32m0\u001b[0m,\n",
       "  \u001b[32m0\u001b[0m,\n",
       "  \u001b[32m0\u001b[0m,\n",
       "  \u001b[32m0\u001b[0m,\n",
       "  \u001b[32m0\u001b[0m,\n",
       "\u001b[33m...\u001b[0m\n",
       "\u001b[36mres23_1\u001b[0m: \u001b[32mInt\u001b[0m = \u001b[32m7151000\u001b[0m"
      ]
     },
     "metadata": {},
     "output_type": "display_data"
    }
   ],
   "source": [
    "var d = Array.ofDim[Int](maxMarbles).to[List]"
   ]
  },
  {
   "cell_type": "code",
   "execution_count": 25,
   "metadata": {},
   "outputs": [
    {
     "data": {
      "text/plain": [
       "\u001b[36me\u001b[0m: \u001b[32mListBuffer\u001b[0m[\u001b[32mInt\u001b[0m] = \u001b[33mListBuffer\u001b[0m(\n",
       "  \u001b[32m0\u001b[0m,\n",
       "  \u001b[32m0\u001b[0m,\n",
       "  \u001b[32m0\u001b[0m,\n",
       "  \u001b[32m0\u001b[0m,\n",
       "  \u001b[32m0\u001b[0m,\n",
       "  \u001b[32m0\u001b[0m,\n",
       "  \u001b[32m0\u001b[0m,\n",
       "  \u001b[32m0\u001b[0m,\n",
       "  \u001b[32m0\u001b[0m,\n",
       "  \u001b[32m0\u001b[0m,\n",
       "  \u001b[32m0\u001b[0m,\n",
       "  \u001b[32m0\u001b[0m,\n",
       "  \u001b[32m0\u001b[0m,\n",
       "  \u001b[32m0\u001b[0m,\n",
       "\u001b[33m...\u001b[0m"
      ]
     },
     "metadata": {},
     "output_type": "display_data"
    }
   ],
   "source": [
    "val e = Array.ofDim[Int](maxMarbles).to[ListBuffer]"
   ]
  },
  {
   "cell_type": "code",
   "execution_count": 27,
   "metadata": {},
   "outputs": [
    {
     "data": {
      "text/plain": [
       "\u001b[36mf\u001b[0m: \u001b[32mListBuffer\u001b[0m[\u001b[32mInt\u001b[0m] = \u001b[33mListBuffer\u001b[0m(\n",
       "  \u001b[32m0\u001b[0m,\n",
       "  \u001b[32m0\u001b[0m,\n",
       "  \u001b[32m0\u001b[0m,\n",
       "  \u001b[32m0\u001b[0m,\n",
       "  \u001b[32m0\u001b[0m,\n",
       "  \u001b[32m0\u001b[0m,\n",
       "  \u001b[32m0\u001b[0m,\n",
       "  \u001b[32m0\u001b[0m,\n",
       "  \u001b[32m0\u001b[0m,\n",
       "  \u001b[32m0\u001b[0m,\n",
       "  \u001b[32m0\u001b[0m,\n",
       "  \u001b[32m0\u001b[0m,\n",
       "  \u001b[32m0\u001b[0m,\n",
       "  \u001b[32m0\u001b[0m,\n",
       "\u001b[33m...\u001b[0m\n",
       "\u001b[36mres26_1\u001b[0m: \u001b[32mInt\u001b[0m = \u001b[32m7151000\u001b[0m"
      ]
     },
     "metadata": {},
     "output_type": "display_data"
    }
   ],
   "source": [
    "var f = Array.ofDim[Int](maxMarbles).to[ListBuffer]\n",
    "f.length"
   ]
  },
  {
   "cell_type": "code",
   "execution_count": 28,
   "metadata": {},
   "outputs": [
    {
     "data": {
      "text/plain": [
       "\u001b[36mrandomIndex\u001b[0m: \u001b[32mInt\u001b[0m = \u001b[32m56781\u001b[0m"
      ]
     },
     "metadata": {},
     "output_type": "display_data"
    }
   ],
   "source": [
    "val randomIndex = 56781"
   ]
  },
  {
   "cell_type": "code",
   "execution_count": 39,
   "metadata": {},
   "outputs": [
    {
     "name": "stdout",
     "output_type": "stream",
     "text": [
      "7151005\n",
      "7151006\n",
      "7151007\n",
      "7151008\n",
      "7151009\n",
      "7151010\n",
      "7151011\n",
      "7151012\n",
      "7151013\n",
      "7151014\n",
      "7151015\n",
      "7151016\n",
      "7151017\n",
      "7151018\n",
      "7151019\n",
      "7151020\n",
      "7151021\n",
      "7151022\n",
      "7151023\n",
      "7151024\n",
      "7151025\n",
      "7151026\n",
      "7151027\n",
      "7151028\n",
      "7151029\n",
      "7151030\n",
      "7151031\n",
      "7151032\n",
      "7151033\n",
      "7151034\n",
      "7151035\n",
      "7151036\n",
      "7151037\n",
      "7151038\n",
      "7151039\n",
      "7151040\n",
      "7151041\n",
      "7151042\n",
      "7151043\n",
      "7151044\n",
      "7151045\n",
      "7151046\n",
      "7151047\n",
      "7151048\n",
      "7151049\n",
      "7151050\n",
      "7151051\n",
      "7151052\n",
      "7151053\n",
      "7151054\n",
      "7151055\n",
      "7151056\n",
      "7151057\n",
      "7151058\n",
      "7151059\n",
      "7151060\n",
      "7151061\n",
      "7151062\n",
      "7151063\n",
      "7151064\n",
      "7151065\n",
      "7151066\n",
      "7151067\n",
      "7151068\n",
      "7151069\n",
      "7151070\n",
      "7151071\n",
      "7151072\n",
      "7151073\n",
      "7151074\n",
      "7151075\n",
      "7151076\n",
      "7151077\n",
      "7151078\n",
      "7151079\n",
      "7151080\n",
      "7151081\n",
      "7151082\n",
      "7151083\n",
      "7151084\n",
      "7151085\n",
      "7151086\n",
      "7151087\n",
      "7151088\n",
      "7151089\n",
      "7151090\n",
      "7151091\n",
      "7151092\n",
      "7151093\n",
      "7151094\n",
      "7151095\n",
      "7151096\n",
      "7151097\n",
      "7151098\n",
      "7151099\n",
      "7151100\n",
      "7151101\n",
      "7151102\n",
      "7151103\n",
      "7151104\n"
     ]
    },
    {
     "data": {
      "text/plain": []
     },
     "metadata": {},
     "output_type": "display_data"
    }
   ],
   "source": [
    "// Do some insertions/removals\n",
    "for (i <- 1 to 100) {\n",
    "    e.insert(randomIndex, 1)\n",
    "    println(e.length)\n",
    "}"
   ]
  },
  {
   "cell_type": "markdown",
   "metadata": {},
   "source": [
    "## Nevermind, array slicing is _not_ faster"
   ]
  },
  {
   "cell_type": "code",
   "execution_count": 40,
   "metadata": {},
   "outputs": [
    {
     "name": "stdout",
     "output_type": "stream",
     "text": [
      "7151004\n",
      "7151005\n",
      "7151006\n",
      "7151007\n",
      "7151008\n",
      "7151009\n",
      "7151010\n",
      "7151011\n",
      "7151012\n",
      "7151013\n",
      "7151014\n",
      "7151015\n",
      "7151016\n",
      "7151017\n",
      "7151018\n",
      "7151019\n",
      "7151020\n",
      "7151021\n",
      "7151022\n",
      "7151023\n",
      "7151024\n",
      "7151025\n",
      "7151026\n",
      "7151027\n",
      "7151028\n",
      "7151029\n",
      "7151030\n",
      "7151031\n",
      "7151032\n",
      "7151033\n",
      "7151034\n",
      "7151035\n",
      "7151036\n",
      "7151037\n",
      "7151038\n",
      "7151039\n",
      "7151040\n",
      "7151041\n",
      "7151042\n",
      "7151043\n",
      "7151044\n",
      "7151045\n",
      "7151046\n",
      "7151047\n",
      "7151048\n",
      "7151049\n",
      "7151050\n",
      "7151051\n",
      "7151052\n",
      "7151053\n",
      "7151054\n",
      "7151055\n",
      "7151056\n",
      "7151057\n",
      "7151058\n",
      "7151059\n",
      "7151060\n",
      "7151061\n",
      "7151062\n",
      "7151063\n",
      "7151064\n",
      "7151065\n",
      "7151066\n",
      "7151067\n",
      "7151068\n",
      "7151069\n",
      "7151070\n",
      "7151071\n",
      "7151072\n",
      "7151073\n",
      "7151074\n",
      "7151075\n",
      "7151076\n",
      "7151077\n",
      "7151078\n",
      "7151079\n",
      "7151080\n",
      "7151081\n",
      "7151082\n",
      "7151083\n",
      "7151084\n",
      "7151085\n",
      "7151086\n",
      "7151087\n",
      "7151088\n",
      "7151089\n",
      "7151090\n",
      "7151091\n",
      "7151092\n",
      "7151093\n",
      "7151094\n",
      "7151095\n",
      "7151096\n",
      "7151097\n",
      "7151098\n",
      "7151099\n",
      "7151100\n",
      "7151101\n",
      "7151102\n",
      "7151103\n"
     ]
    },
    {
     "data": {
      "text/plain": []
     },
     "metadata": {},
     "output_type": "display_data"
    }
   ],
   "source": [
    "for (i <- 1 to 100) {\n",
    "    b = b.slice(0, randomIndex) ++ Array[Int](1) ++ b.slice(randomIndex, b.length)\n",
    "    println(b.length)\n",
    "}"
   ]
  },
  {
   "cell_type": "markdown",
   "metadata": {},
   "source": [
    "## What is _very_ fast is inserting into/removing from a fixed-size HashMap (O(1))"
   ]
  }
 ],
 "metadata": {
  "kernelspec": {
   "display_name": "Scala 2.11",
   "language": "scala211",
   "name": "scala211"
  },
  "language_info": {
   "codemirror_mode": "text/x-scala",
   "file_extension": ".scala",
   "mimetype": "text/x-scala",
   "name": "scala211",
   "pygments_lexer": "scala",
   "version": "2.11.6"
  }
 },
 "nbformat": 4,
 "nbformat_minor": 2
}
