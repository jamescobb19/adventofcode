{
 "cells": [
  {
   "cell_type": "code",
   "execution_count": 1,
   "metadata": {},
   "outputs": [
    {
     "data": {
      "text/plain": [
       "\u001b[32mimport \u001b[36mscala.io.Source\u001b[0m"
      ]
     },
     "metadata": {},
     "output_type": "display_data"
    }
   ],
   "source": [
    "import scala.io.Source"
   ]
  },
  {
   "cell_type": "code",
   "execution_count": 2,
   "metadata": {},
   "outputs": [
    {
     "data": {
      "text/plain": [
       "\u001b[36mfilename\u001b[0m: \u001b[32mString\u001b[0m = \u001b[32m\"input\"\u001b[0m\n",
       "\u001b[36mlines\u001b[0m: \u001b[32mArray\u001b[0m[\u001b[32mArray\u001b[0m[\u001b[32mChar\u001b[0m]] = \u001b[33mArray\u001b[0m(\n",
       "  \u001b[33mArray\u001b[0m(\n",
       "    \u001b[32m'x'\u001b[0m,\n",
       "    \u001b[32m'.'\u001b[0m,\n",
       "    \u001b[32m'|'\u001b[0m,\n",
       "    \u001b[32m'#'\u001b[0m,\n",
       "    \u001b[32m'.'\u001b[0m,\n",
       "    \u001b[32m'.'\u001b[0m,\n",
       "    \u001b[32m'|'\u001b[0m,\n",
       "    \u001b[32m'#'\u001b[0m,\n",
       "    \u001b[32m'.'\u001b[0m,\n",
       "    \u001b[32m'|'\u001b[0m,\n",
       "    \u001b[32m'.'\u001b[0m,\n",
       "    \u001b[32m'#'\u001b[0m,\n",
       "    \u001b[32m'.'\u001b[0m,\n",
       "\u001b[33m...\u001b[0m\n",
       "\u001b[36mgrid\u001b[0m: \u001b[32mArray\u001b[0m[\u001b[32mArray\u001b[0m[\u001b[32mChar\u001b[0m]] = \u001b[33mArray\u001b[0m(\n",
       "  \u001b[33mArray\u001b[0m(\n",
       "    \u001b[32m'x'\u001b[0m,\n",
       "    \u001b[32m'x'\u001b[0m,\n",
       "    \u001b[32m'x'\u001b[0m,\n",
       "    \u001b[32m'x'\u001b[0m,\n",
       "    \u001b[32m'x'\u001b[0m,\n",
       "    \u001b[32m'x'\u001b[0m,\n",
       "    \u001b[32m'x'\u001b[0m,\n",
       "    \u001b[32m'x'\u001b[0m,\n",
       "    \u001b[32m'x'\u001b[0m,\n",
       "    \u001b[32m'x'\u001b[0m,\n",
       "    \u001b[32m'x'\u001b[0m,\n",
       "    \u001b[32m'x'\u001b[0m,\n",
       "    \u001b[32m'x'\u001b[0m,\n",
       "\u001b[33m...\u001b[0m\n",
       "\u001b[36mcoordRange\u001b[0m: \u001b[32mcollection\u001b[0m.\u001b[32mimmutable\u001b[0m.\u001b[32mRange\u001b[0m.\u001b[32mInclusive\u001b[0m = \u001b[33mRange\u001b[0m(\n",
       "  \u001b[32m1\u001b[0m,\n",
       "  \u001b[32m2\u001b[0m,\n",
       "  \u001b[32m3\u001b[0m,\n",
       "  \u001b[32m4\u001b[0m,\n",
       "  \u001b[32m5\u001b[0m,\n",
       "  \u001b[32m6\u001b[0m,\n",
       "  \u001b[32m7\u001b[0m,\n",
       "  \u001b[32m8\u001b[0m,\n",
       "  \u001b[32m9\u001b[0m,\n",
       "  \u001b[32m10\u001b[0m,\n",
       "  \u001b[32m11\u001b[0m,\n",
       "  \u001b[32m12\u001b[0m,\n",
       "  \u001b[32m13\u001b[0m,\n",
       "  \u001b[32m14\u001b[0m,\n",
       "\u001b[33m...\u001b[0m\n",
       "\u001b[36mallCoords\u001b[0m: \u001b[32mcollection\u001b[0m.\u001b[32mimmutable\u001b[0m.\u001b[32mIndexedSeq\u001b[0m[(\u001b[32mInt\u001b[0m, \u001b[32mInt\u001b[0m)] = \u001b[33mVector\u001b[0m(\n",
       "  \u001b[33m\u001b[0m(\u001b[32m1\u001b[0m, \u001b[32m1\u001b[0m),\n",
       "  \u001b[33m\u001b[0m(\u001b[32m1\u001b[0m, \u001b[32m2\u001b[0m),\n",
       "  \u001b[33m\u001b[0m(\u001b[32m1\u001b[0m, \u001b[32m3\u001b[0m),\n",
       "  \u001b[33m\u001b[0m(\u001b[32m1\u001b[0m, \u001b[32m4\u001b[0m),\n",
       "  \u001b[33m\u001b[0m(\u001b[32m1\u001b[0m, \u001b[32m5\u001b[0m),\n",
       "  \u001b[33m\u001b[0m(\u001b[32m1\u001b[0m, \u001b[32m6\u001b[0m),\n",
       "  \u001b[33m\u001b[0m(\u001b[32m1\u001b[0m, \u001b[32m7\u001b[0m),\n",
       "  \u001b[33m\u001b[0m(\u001b[32m1\u001b[0m, \u001b[32m8\u001b[0m),\n",
       "  \u001b[33m\u001b[0m(\u001b[32m1\u001b[0m, \u001b[32m9\u001b[0m),\n",
       "  \u001b[33m\u001b[0m(\u001b[32m1\u001b[0m, \u001b[32m10\u001b[0m),\n",
       "  \u001b[33m\u001b[0m(\u001b[32m1\u001b[0m, \u001b[32m11\u001b[0m),\n",
       "  \u001b[33m\u001b[0m(\u001b[32m1\u001b[0m, \u001b[32m12\u001b[0m),\n",
       "  \u001b[33m\u001b[0m(\u001b[32m1\u001b[0m, \u001b[32m13\u001b[0m),\n",
       "  \u001b[33m\u001b[0m(\u001b[32m1\u001b[0m, \u001b[32m14\u001b[0m),\n",
       "\u001b[33m...\u001b[0m\n",
       "\u001b[36mnumMinutes\u001b[0m: \u001b[32mInt\u001b[0m = \u001b[32m10\u001b[0m"
      ]
     },
     "metadata": {},
     "output_type": "display_data"
    }
   ],
   "source": [
    "// Set up the grid and read in the file\n",
    "val filename = \"input\"\n",
    "val lines = Source.fromFile(filename).getLines.toArray.map(x => Array('x') ++ x.toCharArray ++ Array('x'))\n",
    "val grid = Array(Array.fill(lines.head.length)('x')) ++ lines ++ Array(Array.fill(lines.head.length)('x'))\n",
    "val coordRange = 1 to grid.length-2\n",
    "val allCoords = coordRange.map(x => coordRange.map(y => (x, y))).reduce((list1, list2) => list1 ++ list2)\n",
    "val numMinutes = 10"
   ]
  },
  {
   "cell_type": "code",
   "execution_count": 3,
   "metadata": {},
   "outputs": [
    {
     "data": {
      "text/plain": [
       "defined \u001b[32mfunction \u001b[36mgetAdjacent\u001b[0m"
      ]
     },
     "metadata": {},
     "output_type": "display_data"
    }
   ],
   "source": [
    "def getAdjacent(grid: Array[Array[Char]], x: Int, y: Int) : IndexedSeq[Char] = {\n",
    "    val adjacent = (x-1 to x+1).map(j => (y-1 to y+1).map(i => (grid(i)(j))))\n",
    "        .reduce((slice1, slice2) => slice1 ++ slice2)\n",
    "    adjacent.slice(0,4) ++ adjacent.slice(5, 9)\n",
    "}"
   ]
  },
  {
   "cell_type": "code",
   "execution_count": 4,
   "metadata": {},
   "outputs": [
    {
     "data": {
      "text/plain": [
       "defined \u001b[32mfunction \u001b[36mapplyRules\u001b[0m"
      ]
     },
     "metadata": {},
     "output_type": "display_data"
    }
   ],
   "source": [
    "/* RULES\n",
    "An open acre will become filled with trees if \n",
    "    three or more adjacent acres contained trees. \n",
    "    Otherwise, nothing happens.\n",
    "An acre filled with trees will become a lumberyard if \n",
    "    three or more adjacent acres were lumberyards. \n",
    "    Otherwise, nothing happens.\n",
    "An acre containing a lumberyard will remain a lumberyard if \n",
    "    it was adjacent to at least one other lumberyard and at least one acre containing trees. \n",
    "    Otherwise, it becomes open.\n",
    "*/\n",
    "def applyRules(grid: Array[Array[Char]], x: Int, y: Int) : Char = {\n",
    "    val currentCharacter = grid(y)(x)\n",
    "    val adjacencyCounts = getAdjacent(grid, x, y).groupBy(x => x).mapValues(_ length)\n",
    "    currentCharacter match {\n",
    "        case '.' => if (adjacencyCounts.getOrElse('|', 0) >= 3) '|' else currentCharacter\n",
    "        case '|' => if (adjacencyCounts.getOrElse('#', 0) >= 3) '#' else currentCharacter\n",
    "        case '#' => if (adjacencyCounts.getOrElse('#', 0) >= 1 \n",
    "                            && adjacencyCounts.getOrElse('|', 0) >= 1) currentCharacter else '.'\n",
    "        case _ => currentCharacter\n",
    "    }\n",
    "}"
   ]
  },
  {
   "cell_type": "code",
   "execution_count": 5,
   "metadata": {},
   "outputs": [
    {
     "data": {
      "text/plain": [
       "defined \u001b[32mfunction \u001b[36mprintGrid\u001b[0m"
      ]
     },
     "metadata": {},
     "output_type": "display_data"
    }
   ],
   "source": [
    "def printGrid(grid: Array[Array[Char]]) : Unit ={\n",
    "    grid.foreach(row => println(row.mkString(\"\")))\n",
    "}"
   ]
  },
  {
   "cell_type": "code",
   "execution_count": 6,
   "metadata": {},
   "outputs": [
    {
     "data": {
      "text/plain": []
     },
     "metadata": {},
     "output_type": "display_data"
    }
   ],
   "source": [
    "for (minute <- 1 to numMinutes) {\n",
    "    val previousGrid = grid.map(_.clone)\n",
    "    allCoords.par.foreach({case (x, y) => {\n",
    "        grid(y)(x) = applyRules(previousGrid, x, y)\n",
    "    }})\n",
    "}"
   ]
  },
  {
   "cell_type": "code",
   "execution_count": 7,
   "metadata": {},
   "outputs": [
    {
     "name": "stdout",
     "output_type": "stream",
     "text": [
      "xxxxxxxxxxxxxxxxxxxxxxxxxxxxxxxxxxxxxxxxxxxxxxxxxxxx\n",
      "x|||||||........#|||....||||||||...##|||||||||||||.x\n",
      "x||||||||......###|||..|||||||||...##||||###|||#|||x\n",
      "x||||||||........#.....||||||#|||...##|######||#||.x\n",
      "x||||||||.............|||||####||.#######..##|||||.x\n",
      "x||||||||.............|||||##.#.||######...##||||..x\n",
      "x|||||||..............||||##.....|#####....||||##..x\n",
      "x|||||###...............#####.....##......||||##...x\n",
      "x|||||##....###..........####.............|||###...x\n",
      "x.|||##.....#####........####..............####....x\n",
      "x.||||##....#####.........###..............##......x\n",
      "x|||||##....##|||..................................x\n",
      "x||||||##..###|||........###...............####....x\n",
      "x|||||||#######||........###.............######....x\n",
      "x|||||||||#####..........###.........######||##....x\n",
      "x|||||##||||##....##.........####....##########....x\n",
      "x|||||##|||##....###.#####...####||.##||######.....x\n",
      "x||||||||||##......######|..###|||||||||##.........x\n",
      "x||||||||||####....###||||..##|||||||||###.........x\n",
      "x|||||||||||###|...##|||##..##|||||||||##..........x\n",
      "x|||#||||||||||##...######..##||||||||##...........x\n",
      "x||||#|||||||||##...###########||||||||##..........x\n",
      "x||||||||||||||###.......###.#|||.|||||###......###x\n",
      "x.|..|||||||||||#####.............||||||##....####|x\n",
      "x....|||||||#|||||####...........|||||||##..####|||x\n",
      "x.....|||||||#||||||###...|||....||||||||##.##|||||x\n",
      "x..||||||||||||||||||||||||||....||||||||##.##|||||x\n",
      "x.||||||||||#|||||||||||##||#....||||||||##.##|||#|x\n",
      "x|||||||||||#|||####|||#######....|||||||####|||||#x\n",
      "x||#||||||||||#######||#####......|||||||###|||||||x\n",
      "x#####|||||||###....##|##.....#||.||||||#||||||||||x\n",
      "x##.####|||||##....##||##....##||||||||##||||||||||x\n",
      "x.....###|||##......|||#.....##|||||||####|||###|||x\n",
      "x......#######.......|.......##||||||.#.########|||x\n",
      "x.......#####................###|||||.....###..#|||x\n",
      "x.............................##|||||...........|||x\n",
      "x..............................##||||............##x\n",
      "x.........##...................##|||##....###......x\n",
      "x........###|..................##|||##...####......x\n",
      "x.......###|||................##||||##..#####....##x\n",
      "x......###||||................##||||##.####......##x\n",
      "x......##|||||...###..........##|||###.#####....##|x\n",
      "x......##||||...||###.........##|||##..##|##....##|x\n",
      "x......##||||..||||||.........##||##...##||......||x\n",
      "x##....##|||...|||||||.......##|||##....|||........x\n",
      "x###..##||||..||||||||......###|||##...............x\n",
      "x|######||||.||||||||||...####|||||###.....||##....x\n",
      "x|||##||||..|||||||||||...|#||||||||#|....|||##.###x\n",
      "x||||||||...||||||||||||..||||||||||||.....|######|x\n",
      "x||#|||||..#.|||||||||||...|||||||||||...|...###|||x\n",
      "x|||#|||.||#.|||||||||||.....|||||||.....|...||||||x\n",
      "xxxxxxxxxxxxxxxxxxxxxxxxxxxxxxxxxxxxxxxxxxxxxxxxxxxx\n"
     ]
    },
    {
     "data": {
      "text/plain": []
     },
     "metadata": {},
     "output_type": "display_data"
    }
   ],
   "source": [
    "printGrid(grid)"
   ]
  },
  {
   "cell_type": "code",
   "execution_count": 8,
   "metadata": {},
   "outputs": [
    {
     "data": {
      "text/plain": [
       "\u001b[36mres7\u001b[0m: \u001b[32mInt\u001b[0m = \u001b[32m514944\u001b[0m"
      ]
     },
     "metadata": {},
     "output_type": "display_data"
    }
   ],
   "source": [
    "grid.map(row => row.filter(x => x == '#').length).sum *\n",
    "  grid.map(row => row.filter(x => x == '|').length).sum"
   ]
  },
  {
   "cell_type": "markdown",
   "metadata": {},
   "source": [
    "## Part 2"
   ]
  },
  {
   "cell_type": "code",
   "execution_count": 28,
   "metadata": {},
   "outputs": [
    {
     "data": {
      "text/plain": [
       "\u001b[36mpart2Minutes\u001b[0m: \u001b[32mInt\u001b[0m = \u001b[32m1000000000\u001b[0m\n",
       "\u001b[36mstoppingPoint\u001b[0m: \u001b[32mInt\u001b[0m = \u001b[32m25000\u001b[0m\n",
       "\u001b[36mlines\u001b[0m: \u001b[32mArray\u001b[0m[\u001b[32mArray\u001b[0m[\u001b[32mChar\u001b[0m]] = \u001b[33mArray\u001b[0m(\n",
       "  \u001b[33mArray\u001b[0m(\n",
       "    \u001b[32m'x'\u001b[0m,\n",
       "    \u001b[32m'.'\u001b[0m,\n",
       "    \u001b[32m'|'\u001b[0m,\n",
       "    \u001b[32m'#'\u001b[0m,\n",
       "    \u001b[32m'.'\u001b[0m,\n",
       "    \u001b[32m'.'\u001b[0m,\n",
       "    \u001b[32m'|'\u001b[0m,\n",
       "    \u001b[32m'#'\u001b[0m,\n",
       "    \u001b[32m'.'\u001b[0m,\n",
       "    \u001b[32m'|'\u001b[0m,\n",
       "    \u001b[32m'.'\u001b[0m,\n",
       "    \u001b[32m'#'\u001b[0m,\n",
       "    \u001b[32m'.'\u001b[0m,\n",
       "\u001b[33m...\u001b[0m\n",
       "\u001b[36mgrid\u001b[0m: \u001b[32mArray\u001b[0m[\u001b[32mArray\u001b[0m[\u001b[32mChar\u001b[0m]] = \u001b[33mArray\u001b[0m(\n",
       "  \u001b[33mArray\u001b[0m(\n",
       "    \u001b[32m'x'\u001b[0m,\n",
       "    \u001b[32m'x'\u001b[0m,\n",
       "    \u001b[32m'x'\u001b[0m,\n",
       "    \u001b[32m'x'\u001b[0m,\n",
       "    \u001b[32m'x'\u001b[0m,\n",
       "    \u001b[32m'x'\u001b[0m,\n",
       "    \u001b[32m'x'\u001b[0m,\n",
       "    \u001b[32m'x'\u001b[0m,\n",
       "    \u001b[32m'x'\u001b[0m,\n",
       "    \u001b[32m'x'\u001b[0m,\n",
       "    \u001b[32m'x'\u001b[0m,\n",
       "    \u001b[32m'x'\u001b[0m,\n",
       "    \u001b[32m'x'\u001b[0m,\n",
       "\u001b[33m...\u001b[0m"
      ]
     },
     "metadata": {},
     "output_type": "display_data"
    }
   ],
   "source": [
    "val part2Minutes = 1000000000\n",
    "val stoppingPoint = 25000\n",
    "val lines = Source.fromFile(filename).getLines.toArray.map(x => Array('x') ++ x.toCharArray ++ Array('x'))\n",
    "val grid = Array(Array.fill(lines.head.length)('x')) ++ lines ++ Array(Array.fill(lines.head.length)('x'))"
   ]
  },
  {
   "cell_type": "code",
   "execution_count": 29,
   "metadata": {},
   "outputs": [
    {
     "name": "stdout",
     "output_type": "stream",
     "text": [
      "Minutes: 1000/1000000000\n",
      "193050\n",
      "Minutes: 2000/1000000000\n",
      "187152\n",
      "Minutes: 3000/1000000000\n",
      "188020\n",
      "Minutes: 4000/1000000000\n",
      "186017\n",
      "Minutes: 5000/1000000000\n",
      "197050\n",
      "Minutes: 6000/1000000000\n",
      "187074\n",
      "Minutes: 7000/1000000000\n",
      "179820\n",
      "Minutes: 8000/1000000000\n",
      "193050\n",
      "Minutes: 9000/1000000000\n",
      "187152\n",
      "Minutes: 10000/1000000000\n",
      "188020\n",
      "Minutes: 11000/1000000000\n",
      "186017\n",
      "Minutes: 12000/1000000000\n",
      "197050\n",
      "Minutes: 13000/1000000000\n",
      "187074\n",
      "Minutes: 14000/1000000000\n",
      "179820\n",
      "Minutes: 15000/1000000000\n",
      "193050\n",
      "Minutes: 16000/1000000000\n",
      "187152\n",
      "Minutes: 17000/1000000000\n",
      "188020\n",
      "Minutes: 18000/1000000000\n",
      "186017\n",
      "Minutes: 19000/1000000000\n",
      "197050\n",
      "Minutes: 20000/1000000000\n",
      "187074\n",
      "Minutes: 21000/1000000000\n",
      "179820\n",
      "Minutes: 22000/1000000000\n",
      "193050\n",
      "Minutes: 23000/1000000000\n",
      "187152\n",
      "Minutes: 24000/1000000000\n",
      "188020\n",
      "Minutes: 25000/1000000000\n",
      "186017\n"
     ]
    },
    {
     "data": {
      "text/plain": []
     },
     "metadata": {},
     "output_type": "display_data"
    }
   ],
   "source": [
    "for (minute <- 1 to stoppingPoint) {\n",
    "    val previousGrid = grid.map(_.clone)\n",
    "    allCoords.par.foreach({case (x, y) => {\n",
    "        grid(y)(x) = applyRules(previousGrid, x, y)\n",
    "    }})\n",
    "    if (minute % 1000 == 0) {\n",
    "        println(\"Minutes: \" + minute + \"/\" + part2Minutes)\n",
    "        //printGrid(grid)\n",
    "        println(grid.map(row => row.filter(x => x == '#').length).sum *\n",
    "          grid.map(row => row.filter(x => x == '|').length).sum)\n",
    "    }\n",
    "}"
   ]
  },
  {
   "cell_type": "code",
   "execution_count": 33,
   "metadata": {},
   "outputs": [
    {
     "data": {
      "text/plain": [
       "\u001b[36mpattern\u001b[0m: \u001b[32mSeq\u001b[0m[\u001b[32mInt\u001b[0m] = \u001b[33mList\u001b[0m(\n",
       "  \u001b[32m193050\u001b[0m,\n",
       "  \u001b[32m187152\u001b[0m,\n",
       "  \u001b[32m188020\u001b[0m,\n",
       "  \u001b[32m186017\u001b[0m,\n",
       "  \u001b[32m197050\u001b[0m,\n",
       "  \u001b[32m187074\u001b[0m,\n",
       "  \u001b[32m179820\u001b[0m\n",
       ")\n",
       "\u001b[36mstartingPoint\u001b[0m: \u001b[32mInt\u001b[0m = \u001b[32m15000\u001b[0m\n",
       "\u001b[36mstartingPatternID\u001b[0m: \u001b[32mInt\u001b[0m = \u001b[32m0\u001b[0m\n",
       "\u001b[36mres32_3\u001b[0m: \u001b[32mInt\u001b[0m = \u001b[32m186017\u001b[0m\n",
       "\u001b[36mres32_4\u001b[0m: \u001b[32mInt\u001b[0m = \u001b[32m193050\u001b[0m"
      ]
     },
     "metadata": {},
     "output_type": "display_data"
    }
   ],
   "source": [
    "// These are shifting around in a pattern every 7000 minutes\n",
    "// Try to work this out in advance for the stopping point (should be 186017)\n",
    "val pattern = Seq(193050,187152,188020,186017,197050,187074,179820)\n",
    "val startingPoint = 15000\n",
    "val startingPatternID = 0\n",
    "pattern((stoppingPoint - startingPoint) % (pattern.length * 1000) / 1000)\n",
    "// Now perform this for the total number of minutes\n",
    "pattern((part2Minutes - startingPoint) % (pattern.length * 1000) / 1000)"
   ]
  }
 ],
 "metadata": {
  "kernelspec": {
   "display_name": "Scala 2.11",
   "language": "scala211",
   "name": "scala211"
  },
  "language_info": {
   "codemirror_mode": "text/x-scala",
   "file_extension": ".scala",
   "mimetype": "text/x-scala",
   "name": "scala211",
   "pygments_lexer": "scala",
   "version": "2.11.6"
  }
 },
 "nbformat": 4,
 "nbformat_minor": 2
}
