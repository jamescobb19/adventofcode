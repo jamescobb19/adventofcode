{
 "cells": [
  {
   "cell_type": "code",
   "execution_count": 2,
   "metadata": {},
   "outputs": [
    {
     "data": {
      "text/plain": [
       "\u001b[32mimport \u001b[36mscala.io.Source\u001b[0m\n",
       "\u001b[32mimport \u001b[36mscala.collection.mutable.Map\u001b[0m"
      ]
     },
     "metadata": {},
     "output_type": "display_data"
    }
   ],
   "source": [
    "import scala.io.Source\n",
    "import scala.collection.mutable.Map"
   ]
  },
  {
   "cell_type": "code",
   "execution_count": 102,
   "metadata": {},
   "outputs": [
    {
     "data": {
      "text/plain": [
       "\u001b[36mfilename\u001b[0m: \u001b[32mString\u001b[0m = \u001b[32m\"test1\"\u001b[0m\n",
       "\u001b[36minstructionList\u001b[0m: \u001b[32mcollection\u001b[0m.\u001b[32mimmutable\u001b[0m.\u001b[32mSeq\u001b[0m[\u001b[32mChar\u001b[0m] = \u001b[33mList\u001b[0m(\u001b[32m'W'\u001b[0m, \u001b[32m'N'\u001b[0m, \u001b[32m'E'\u001b[0m)"
      ]
     },
     "metadata": {},
     "output_type": "display_data"
    }
   ],
   "source": [
    "val filename = \"test1\"\n",
    "val instructionList = Source.fromFile(filename).toList.drop(1).dropRight(2).toSeq"
   ]
  },
  {
   "cell_type": "code",
   "execution_count": 132,
   "metadata": {},
   "outputs": [
    {
     "data": {
      "text/plain": [
       "\u001b[36mdirections\u001b[0m: \u001b[32mSet\u001b[0m[\u001b[32mChar\u001b[0m] = \u001b[33mSet\u001b[0m(\u001b[32m'N'\u001b[0m, \u001b[32m'E'\u001b[0m, \u001b[32m'S'\u001b[0m, \u001b[32m'W'\u001b[0m)\n",
       "\u001b[36mopposites\u001b[0m: \u001b[32mMap\u001b[0m[\u001b[32mChar\u001b[0m, \u001b[32mChar\u001b[0m] = \u001b[33mMap\u001b[0m(\n",
       "  \u001b[32m'S'\u001b[0m -> \u001b[32m'N'\u001b[0m,\n",
       "  \u001b[32m'W'\u001b[0m -> \u001b[32m'E'\u001b[0m,\n",
       "  \u001b[32m'E'\u001b[0m -> \u001b[32m'W'\u001b[0m,\n",
       "  \u001b[32m'N'\u001b[0m -> \u001b[32m'S'\u001b[0m\n",
       ")\n",
       "defined \u001b[32mfunction \u001b[36mgetCoordChange\u001b[0m\n",
       "defined \u001b[32mfunction \u001b[36mgetDirectionMap\u001b[0m\n",
       "defined \u001b[32mfunction \u001b[36minitialiseDirectionMap\u001b[0m"
      ]
     },
     "metadata": {},
     "output_type": "display_data"
    }
   ],
   "source": [
    "val directions = Set('N', 'E', 'S', 'W')\n",
    "val opposites = Map('N'->'S', 'S'->'N', 'E'->'W', 'W'->'E')\n",
    "\n",
    "def getCoordChange(direction: Char, x : Int, y : Int) : (Int, Int) = {\n",
    "    direction match {\n",
    "        case 'N' => (x, y-1)\n",
    "        case 'S' => (x, y+1)\n",
    "        case 'E' => (x+1, y)\n",
    "        case 'W' => (x-1, y)\n",
    "        case '_' => (x, y)\n",
    "    }\n",
    "}\n",
    "\n",
    "def getDirectionMap() : Map[Char, Boolean] = {\n",
    "    Map[Char, Boolean](directions.map((_, false)).toSeq : _*)\n",
    "}\n",
    "\n",
    "def initialiseDirectionMap(direction:Char) : Map[Char, Boolean] = {\n",
    "    val directionMap = getDirectionMap\n",
    "    directionMap(direction) = true\n",
    "    directionMap\n",
    "}"
   ]
  },
  {
   "cell_type": "code",
   "execution_count": 127,
   "metadata": {},
   "outputs": [
    {
     "data": {
      "text/plain": [
       "defined \u001b[32mfunction \u001b[36mprintMap\u001b[0m"
      ]
     },
     "metadata": {},
     "output_type": "display_data"
    }
   ],
   "source": [
    "def printMap(map: Map[(Int, Int), Map[Char, Boolean]], complete : Boolean = true) : Unit = {\n",
    "    // Determine the dimensions of the map to print\n",
    "    val missingChar = if (complete) '#' else '?'\n",
    "    val maxX = map.keySet.map(_._1).max+1\n",
    "    val minX = map.keySet.map(_._1).min\n",
    "    val maxY = map.keySet.map(_._2).max+1\n",
    "    val minY = map.keySet.map(_._2).min\n",
    "    val rows = (2*maxX+1)-(2*minX)\n",
    "    val columns = (2*maxY+1)-(2*minY)\n",
    "    println(rows)\n",
    "    println(columns)\n",
    "    val grid = Array.ofDim[Char](columns, rows).map(row => row.map(char => '#'))\n",
    "    map.foreach({case ((originalX, originalY), directions) => {\n",
    "        /**/\n",
    "        println(originalX)\n",
    "        println(originalY)\n",
    "        /**/\n",
    "        val x = 2*(originalX - minX)+1\n",
    "        val y = 2*(originalY - minY)+1\n",
    "        /**/\n",
    "        println(x)\n",
    "        println(x)\n",
    "        /**/\n",
    "        grid(x)(y) = '.'\n",
    "        if (originalX == minX) {\n",
    "            grid(y)(x-1) = if (directions('W')) '|' else missingChar\n",
    "        }\n",
    "        if (originalY == minY) {\n",
    "            grid(y-1)(x) = if (directions('N')) '-' else missingChar      \n",
    "        }\n",
    "        grid(y)(x+1) = if (directions('E')) '|' else missingChar\n",
    "        grid(y+1)(x) = if (directions('S')) '-' else missingChar\n",
    "        grid(2*(-minY)+1)(2*(-minX)+1) = 'X'\n",
    "    }})\n",
    "    grid.foreach(row => println(row.mkString(\"\")))\n",
    "}"
   ]
  },
  {
   "cell_type": "code",
   "execution_count": 134,
   "metadata": {},
   "outputs": [
    {
     "data": {
      "text/plain": [
       "\u001b[36mmap\u001b[0m: \u001b[32mMap\u001b[0m[(\u001b[32mInt\u001b[0m, \u001b[32mInt\u001b[0m), \u001b[32mMap\u001b[0m[\u001b[32mChar\u001b[0m, \u001b[32mBoolean\u001b[0m]] = \u001b[33mMap\u001b[0m(\n",
       "  \u001b[33m\u001b[0m(\u001b[32m0\u001b[0m, \u001b[32m0\u001b[0m) -> \u001b[33mMap\u001b[0m(\u001b[32m'S'\u001b[0m -> false, \u001b[32m'W'\u001b[0m -> false, \u001b[32m'E'\u001b[0m -> false, \u001b[32m'N'\u001b[0m -> false)\n",
       ")"
      ]
     },
     "metadata": {},
     "output_type": "display_data"
    }
   ],
   "source": [
    "// Initialise the map\n",
    "val map = Map((0, 0) -> getDirectionMap)"
   ]
  },
  {
   "cell_type": "code",
   "execution_count": 135,
   "metadata": {},
   "outputs": [
    {
     "name": "stdout",
     "output_type": "stream",
     "text": [
      "Map((-1,0) -> Map(S -> false, W -> false, E -> true, N -> true), (-1,-1) -> Map(S -> true, W -> false, E -> true, N -> false), (0,-1) -> Map(S -> false, W -> true, E -> false, N -> false), (0,0) -> Map(S -> false, W -> true, E -> false, N -> false))\n",
      "5\n",
      "5\n",
      "-1\n",
      "0\n",
      "1\n",
      "1\n",
      "-1\n",
      "-1\n",
      "1\n",
      "1\n",
      "0\n",
      "-1\n",
      "3\n",
      "3\n",
      "0\n",
      "0\n",
      "3\n",
      "3\n",
      "#####\n",
      "#.|.#\n",
      "#-###\n",
      "#.|X#\n",
      "#####\n"
     ]
    },
    {
     "data": {
      "text/plain": [
       "\u001b[36minstructions\u001b[0m: \u001b[32mcollection\u001b[0m.\u001b[32mimmutable\u001b[0m.\u001b[32mSeq\u001b[0m[\u001b[32mChar\u001b[0m] = \u001b[33mList\u001b[0m()\n",
       "\u001b[36mcurrentInstruction\u001b[0m: \u001b[32mChar\u001b[0m = \u001b[32m'E'\u001b[0m\n",
       "\u001b[36mcurrentCoords\u001b[0m: (\u001b[32mInt\u001b[0m, \u001b[32mInt\u001b[0m) = \u001b[33m\u001b[0m(\u001b[32m0\u001b[0m, \u001b[32m-1\u001b[0m)"
      ]
     },
     "metadata": {},
     "output_type": "display_data"
    }
   ],
   "source": [
    "// Build up the map from the instructions\n",
    "var instructions = instructionList\n",
    "var currentInstruction = instructions.head\n",
    "var currentCoords = (0,0)\n",
    "while (!instructions.isEmpty) {\n",
    "    currentInstruction = instructions.head\n",
    "    instructions = instructions.tail\n",
    "    map(currentCoords)(currentInstruction) = true\n",
    "    currentCoords = getCoordChange(currentInstruction, currentCoords._1, currentCoords._2)\n",
    "    if (!map.contains(currentCoords)) {\n",
    "        map(currentCoords) = getDirectionMap\n",
    "    }\n",
    "    map(currentCoords)(opposites(currentInstruction)) = true\n",
    "}\n",
    "println(map)\n",
    "printMap(map, true)"
   ]
  }
 ],
 "metadata": {
  "kernelspec": {
   "display_name": "Scala 2.11",
   "language": "scala211",
   "name": "scala211"
  },
  "language_info": {
   "codemirror_mode": "text/x-scala",
   "file_extension": ".scala",
   "mimetype": "text/x-scala",
   "name": "scala211",
   "pygments_lexer": "scala",
   "version": "2.11.6"
  }
 },
 "nbformat": 4,
 "nbformat_minor": 2
}
