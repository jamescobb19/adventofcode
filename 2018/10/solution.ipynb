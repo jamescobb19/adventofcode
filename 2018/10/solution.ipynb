{
 "cells": [
  {
   "cell_type": "markdown",
   "metadata": {},
   "source": [
    "## Part 1"
   ]
  },
  {
   "cell_type": "code",
   "execution_count": 54,
   "metadata": {},
   "outputs": [
    {
     "data": {
      "text/plain": [
       "\u001b[32mimport \u001b[36mscala.io.Source\u001b[0m\n",
       "\u001b[32mimport \u001b[36mscala.collection.mutable.ListBuffer\u001b[0m\n",
       "\u001b[36mfilename\u001b[0m: \u001b[32mString\u001b[0m = \u001b[32m\"input\"\u001b[0m\n",
       "\u001b[36mlines\u001b[0m: \u001b[32mArray\u001b[0m[\u001b[32mString\u001b[0m] = \u001b[33mArray\u001b[0m(\n",
       "  \u001b[32m\"position=< 53050, -42120> velocity=<-5,  4>\"\u001b[0m,\n",
       "  \u001b[32m\"position=<-21031, -52696> velocity=< 2,  5>\"\u001b[0m,\n",
       "  \u001b[32m\"position=<-42187, -31543> velocity=< 4,  3>\"\u001b[0m,\n",
       "  \u001b[32m\"position=< 31896, -10392> velocity=<-3,  1>\"\u001b[0m,\n",
       "  \u001b[32m\"position=<-42187, -42121> velocity=< 4,  4>\"\u001b[0m,\n",
       "  \u001b[32m\"position=<-52704,  42488> velocity=< 5, -4>\"\u001b[0m,\n",
       "  \u001b[32m\"position=< 53041, -52700> velocity=<-5,  5>\"\u001b[0m,\n",
       "  \u001b[32m\"position=<-10420, -20969> velocity=< 1,  2>\"\u001b[0m,\n",
       "  \u001b[32m\"position=< 31856,  53065> velocity=<-3, -5>\"\u001b[0m,\n",
       "  \u001b[32m\"position=<-42134,  21335> velocity=< 4, -2>\"\u001b[0m,\n",
       "  \u001b[32m\"position=<-31557, -52698> velocity=< 3,  5>\"\u001b[0m,\n",
       "  \u001b[32m\"position=<-52752,  10758> velocity=< 5, -1>\"\u001b[0m,\n",
       "  \u001b[32m\"position=<-42174,  42495> velocity=< 4, -4>\"\u001b[0m,\n",
       "  \u001b[32m\"position=< 21276, -20974> velocity=<-2,  2>\"\u001b[0m,\n",
       "\u001b[33m...\u001b[0m\n",
       "\u001b[36mpositions\u001b[0m: \u001b[32mArray\u001b[0m[(\u001b[32mInt\u001b[0m, \u001b[32mInt\u001b[0m)] = \u001b[33mArray\u001b[0m(\n",
       "  \u001b[33m\u001b[0m(\u001b[32m53050\u001b[0m, \u001b[32m-42120\u001b[0m),\n",
       "  \u001b[33m\u001b[0m(\u001b[32m-21031\u001b[0m, \u001b[32m-52696\u001b[0m),\n",
       "  \u001b[33m\u001b[0m(\u001b[32m-42187\u001b[0m, \u001b[32m-31543\u001b[0m),\n",
       "  \u001b[33m\u001b[0m(\u001b[32m31896\u001b[0m, \u001b[32m-10392\u001b[0m),\n",
       "  \u001b[33m\u001b[0m(\u001b[32m-42187\u001b[0m, \u001b[32m-42121\u001b[0m),\n",
       "  \u001b[33m\u001b[0m(\u001b[32m-52704\u001b[0m, \u001b[32m42488\u001b[0m),\n",
       "  \u001b[33m\u001b[0m(\u001b[32m53041\u001b[0m, \u001b[32m-52700\u001b[0m),\n",
       "  \u001b[33m\u001b[0m(\u001b[32m-10420\u001b[0m, \u001b[32m-20969\u001b[0m),\n",
       "  \u001b[33m\u001b[0m(\u001b[32m31856\u001b[0m, \u001b[32m53065\u001b[0m),\n",
       "  \u001b[33m\u001b[0m(\u001b[32m-42134\u001b[0m, \u001b[32m21335\u001b[0m),\n",
       "  \u001b[33m\u001b[0m(\u001b[32m-31557\u001b[0m, \u001b[32m-52698\u001b[0m),\n",
       "  \u001b[33m\u001b[0m(\u001b[32m-52752\u001b[0m, \u001b[32m10758\u001b[0m),\n",
       "  \u001b[33m\u001b[0m(\u001b[32m-42174\u001b[0m, \u001b[32m42495\u001b[0m),\n",
       "  \u001b[33m\u001b[0m(\u001b[32m21276\u001b[0m, \u001b[32m-20974\u001b[0m),\n",
       "\u001b[33m...\u001b[0m\n",
       "\u001b[36mvelocities\u001b[0m: \u001b[32mArray\u001b[0m[(\u001b[32mInt\u001b[0m, \u001b[32mInt\u001b[0m)] = \u001b[33mArray\u001b[0m(\n",
       "  \u001b[33m\u001b[0m(\u001b[32m-5\u001b[0m, \u001b[32m4\u001b[0m),\n",
       "  \u001b[33m\u001b[0m(\u001b[32m2\u001b[0m, \u001b[32m5\u001b[0m),\n",
       "  \u001b[33m\u001b[0m(\u001b[32m4\u001b[0m, \u001b[32m3\u001b[0m),\n",
       "  \u001b[33m\u001b[0m(\u001b[32m-3\u001b[0m, \u001b[32m1\u001b[0m),\n",
       "  \u001b[33m\u001b[0m(\u001b[32m4\u001b[0m, \u001b[32m4\u001b[0m),\n",
       "  \u001b[33m\u001b[0m(\u001b[32m5\u001b[0m, \u001b[32m-4\u001b[0m),\n",
       "  \u001b[33m\u001b[0m(\u001b[32m-5\u001b[0m, \u001b[32m5\u001b[0m),\n",
       "  \u001b[33m\u001b[0m(\u001b[32m1\u001b[0m, \u001b[32m2\u001b[0m),\n",
       "  \u001b[33m\u001b[0m(\u001b[32m-3\u001b[0m, \u001b[32m-5\u001b[0m),\n",
       "  \u001b[33m\u001b[0m(\u001b[32m4\u001b[0m, \u001b[32m-2\u001b[0m),\n",
       "  \u001b[33m\u001b[0m(\u001b[32m3\u001b[0m, \u001b[32m5\u001b[0m),\n",
       "  \u001b[33m\u001b[0m(\u001b[32m5\u001b[0m, \u001b[32m-1\u001b[0m),\n",
       "  \u001b[33m\u001b[0m(\u001b[32m4\u001b[0m, \u001b[32m-4\u001b[0m),\n",
       "  \u001b[33m\u001b[0m(\u001b[32m-2\u001b[0m, \u001b[32m2\u001b[0m),\n",
       "\u001b[33m...\u001b[0m"
      ]
     },
     "metadata": {},
     "output_type": "display_data"
    }
   ],
   "source": [
    "import scala.io.Source\n",
    "import scala.collection.mutable.ListBuffer\n",
    "\n",
    "val filename = \"input\"\n",
    "//position=< 9,  1> velocity=< 0,  2>\n",
    "val lines = Source.fromFile(filename).getLines.toArray\n",
    "var positions = lines.map(line => line.slice(line.indexOf(\"<\")+1, line.indexOf(\">\"))\n",
    "                             .split(\",\")\n",
    "                             .map(x => x.trim.toInt))\n",
    "                             .map({case Array(x, y) => (x, y)})\n",
    "val velocities = lines.map(line => line.slice(line.lastIndexOf(\"<\")+1, line.lastIndexOf(\">\"))\n",
    "                             .split(\",\")\n",
    "                             .map(x => x.trim.toInt))\n",
    "                             .map({case Array(x, y) => (x, y)})"
   ]
  },
  {
   "cell_type": "code",
   "execution_count": 19,
   "metadata": {},
   "outputs": [
    {
     "name": "stdout",
     "output_type": "stream",
     "text": [
      "327\n"
     ]
    },
    {
     "data": {
      "text/plain": []
     },
     "metadata": {},
     "output_type": "display_data"
    }
   ],
   "source": [
    "println(positions.length)"
   ]
  },
  {
   "cell_type": "code",
   "execution_count": 44,
   "metadata": {},
   "outputs": [
    {
     "data": {
      "text/plain": [
       "defined \u001b[32mfunction \u001b[36mprintSky\u001b[0m"
      ]
     },
     "metadata": {},
     "output_type": "display_data"
    }
   ],
   "source": [
    "// Print the layout of the current sky (only do this when stars are sufficiently close together)\n",
    "// TODO Could change this so it doesn't build an array, but just uses normalised positions and ranges\n",
    "def printSky(positions: Array[(Int, Int)]) : Unit = {\n",
    "    // Normalise the positions to be between 0 and posInt\n",
    "    val minX = positions.map(star => star._1).min\n",
    "    val maxX = positions.map(star => star._1).max-minX+1\n",
    "    val minY = positions.map(star => star._2).min\n",
    "    val maxY = positions.map(star => star._2).max-minY+1\n",
    "    println(minX, maxX, minY, maxY)\n",
    "    val starArray = Array.tabulate(maxY)(y => Array.tabulate(maxX)(x => ' '))\n",
    "    println(starArray.length, starArray(0).length)\n",
    "    positions.foreach({case (x, y) => starArray(y-minY)(x-minX) = '#'})\n",
    "    starArray.foreach(row => {\n",
    "        row.foreach(space => print(space))\n",
    "        println()\n",
    "    })\n",
    "}"
   ]
  },
  {
   "cell_type": "code",
   "execution_count": 34,
   "metadata": {},
   "outputs": [
    {
     "data": {
      "text/plain": [
       "defined \u001b[32mfunction \u001b[36mgetTotalArea\u001b[0m"
      ]
     },
     "metadata": {},
     "output_type": "display_data"
    }
   ],
   "source": [
    "// Determine how much space the total grid will take up\n",
    "def getTotalArea(positions: Array[(Int, Int)]) : Long = {\n",
    "    val X = positions.map(star => star._1)\n",
    "    val Y = positions.map(star => star._2)\n",
    "    return ((X.max-X.min+1).toLong * (Y.max-Y.min+1).toLong)\n",
    "}"
   ]
  },
  {
   "cell_type": "code",
   "execution_count": 55,
   "metadata": {},
   "outputs": [
    {
     "name": "stdout",
     "output_type": "stream",
     "text": [
      "(117,70,175,20)\n",
      "(20,70)\n",
      "     #       #                            #         #      #  #       \n",
      "                               #     #   # ##  #  #        #         #\n",
      "          #   ## #        #      #            #   #                   \n",
      "     ## #          #     #    #      #           #      #  #  #       \n",
      "     #    #               # #  #          #        ##     #  ##      #\n",
      "                 # # #   #      ## #          ## #      #       #     \n",
      "  #              # #  # ##     ##    #             #   ## #           \n",
      " # #     # #  #    #   #####     ###    #    #       #   #      #  #  \n",
      "         #   #  # #  ##   #                          # # #            \n",
      "          # #  #   # #  # # #   ### #  #  ## ##    ##     #           \n",
      "   #          #  ##     ####  #### #  ##  ## #   # #   # ###  # # #   \n",
      "            #   ##### # #    # ##          # # # # ## #  ##   # ##    \n",
      " ##     ### #      #  ### #       ##  # ##       ##     ####   #      \n",
      "        #  #   ##  ### #    # # ##      # #     #  #     #       #    \n",
      "  #     #  ##     # #   #      # # #           #   ###   #  # #       \n",
      "       #  ##   #    #   ##  #     ##  # ##    # #    # # ##   ##      \n",
      "      # ##     ### #   # ##            ##     # # #         ###   ##  \n",
      "   #     #                             ##  #  # #           # #       \n",
      "#                    #  #     #         # #        #                  \n",
      "        ##                                    #                       \n"
     ]
    },
    {
     "data": {
      "text/plain": [
       "\u001b[36mpreviousArea\u001b[0m: \u001b[32mLong\u001b[0m = \u001b[32m620\u001b[0mL\n",
       "\u001b[36mcurrentArea\u001b[0m: \u001b[32mLong\u001b[0m = \u001b[32m1400\u001b[0mL\n",
       "\u001b[36mseconds\u001b[0m: \u001b[32mInt\u001b[0m = \u001b[32m10578\u001b[0m"
      ]
     },
     "metadata": {},
     "output_type": "display_data"
    }
   ],
   "source": [
    "var previousArea = getTotalArea(positions)\n",
    "var currentArea = previousArea\n",
    "var seconds = 0\n",
    "do {\n",
    "    previousArea = currentArea\n",
    "    positions = positions.zip(velocities).map({case ((x, y), (dx, dy)) => (x+dx, y+dy)})\n",
    "    currentArea = getTotalArea(positions)\n",
    "    seconds += 1\n",
    "} while (previousArea > currentArea)\n",
    "// This should find the minimum total area and treat that as the finished answer\n",
    "printSky(positions)"
   ]
  },
  {
   "cell_type": "code",
   "execution_count": 56,
   "metadata": {},
   "outputs": [
    {
     "name": "stdout",
     "output_type": "stream",
     "text": [
      "(121,62,180,10)\n",
      "(10,62)\n",
      "######    ##    ######  #    #    ##       ###   ####    #### \n",
      "     #   #  #   #       #   #    #  #       #   #    #  #    #\n",
      "     #  #    #  #       #  #    #    #      #   #       #     \n",
      "    #   #    #  #       # #     #    #      #   #       #     \n",
      "   #    #    #  #####   ##      #    #      #   #       #     \n",
      "  #     ######  #       ##      ######      #   #  ###  #     \n",
      " #      #    #  #       # #     #    #      #   #    #  #     \n",
      "#       #    #  #       #  #    #    #  #   #   #    #  #     \n",
      "#       #    #  #       #   #   #    #  #   #   #   ##  #    #\n",
      "######  #    #  ######  #    #  #    #   ###     ### #   #### \n"
     ]
    },
    {
     "data": {
      "text/plain": []
     },
     "metadata": {},
     "output_type": "display_data"
    }
   ],
   "source": [
    "previousArea = currentArea\n",
    "positions = positions.zip(velocities).map({case ((x, y), (dx, dy)) => (x-dx, y-dy)})\n",
    "currentArea = getTotalArea(positions)\n",
    "// This should find the minimum total area and treat that as the finished answer\n",
    "printSky(positions)\n"
   ]
  }
 ],
 "metadata": {
  "kernelspec": {
   "display_name": "Scala 2.11",
   "language": "scala211",
   "name": "scala211"
  },
  "language_info": {
   "codemirror_mode": "text/x-scala",
   "file_extension": ".scala",
   "mimetype": "text/x-scala",
   "name": "scala211",
   "pygments_lexer": "scala",
   "version": "2.11.6"
  }
 },
 "nbformat": 4,
 "nbformat_minor": 2
}
