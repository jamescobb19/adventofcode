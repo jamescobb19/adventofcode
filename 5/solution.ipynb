{
 "cells": [
  {
   "cell_type": "code",
   "execution_count": 1,
   "metadata": {},
   "outputs": [
    {
     "data": {
      "text/plain": [
       "\u001b[32mimport \u001b[36mscala.io.Source\u001b[0m\n",
       "\u001b[36mfilename\u001b[0m: \u001b[32mString\u001b[0m = \u001b[32m\"input\"\u001b[0m\n",
       "\u001b[36mline\u001b[0m: \u001b[32mString\u001b[0m = \u001b[32m\"YyLlXxYKkbNnQqBFfxXbyYWwBhHyYTCBbCjIiqwtTWQJczeEauUAZDdFfmwWMccbBOojBbXxKnNkkKsSeEsxXmxlpPLXMuULlSJqnSsNQmMmMCYyXDdvVDdtTxYmBbsSNdDnyYaAOBbouUwWiIMyYzZyPptGDbpoOPBdnNtTapPeEAHhrXxRtSjJsTPpepPGgCcEfFenNEmMGUpPugCanNAnNcEzZTtQqZzRreMmpzPpzZZJbBjxXTtEcCemMPJjXxhHTtydDmIOolLiJQqHhkKMmjVeEsSWwnNQqsNgGnLkKlcCSvdVvcCDeWPpwEvVUuNnTGhHgVZEenNQqRrTtSspjJPHhcNnYyCwoOHhcFJjaAXxDdqQfTnbBNtSsyLlYCGgWEezZiufFUhHHSshkKTvVoOtIfFTbBtTyYeqQEZnNztDdNnxYytFflLTWwSgGsmsSMXzvIikeEfFpPKdDccCTtFfqlRrLQgGqxyYXQCpuUPkQqKTeEtSsXmMmMxVDdWweuUEyYtFfboOBbBbBTuBbrReEKfAaFkoeEtTYyRroOQqcCjYyYycCtTJOLVvkKWwYylukKqnFfilEeXxLgVvqQGINQZJjlnNLzVvKkpjkKJPsSBIibQmMqXQqHhrTtRayYAECczgGZeHhFfMCbBcVvfFZzRrNlLwQqZzWnjUukKxXkKFfJuUzZqQyYfPpiIOojJFNZzhHlLnVfFvwYHhyWMmOUuqtTARWwrZNnzasSzYLlyCBbcLlKkoOZZzIiKkQiqQIRiIkKrgFfpPnexXEPpNTtOobgGBEeCDdcoOQqGQCUuhoOSnNsbBWwfFwiIFfEeZzWQEIieSmMaAsFfEeSsHKkhjOoJmvVMlLGtvVTTWwtgXSsxpPIZziKHhXXCLlcxyaeEcCAYxkLlCcEefOoFLlWweEyOnNojJZzYcXxmMWwXxydXxDFfgGYGGgxOpPoUuXRrgplLPWwqLlQEQYylLqgSsjJDsSIidIVviGnNaAFfelLVvdDHsShmCcroOOoJjSsQqqQHVFfvhiqQeEWmnNzZjJJbtTBsSjGgoOMKDdfqxXQFjJmMitTIcCkcCwrRxnNFfvVXIRDdJAXxahHZzJjzZBbjjbBJhuUAaxXHMwpPfFmMcCfuUyAfFauZUuuUzRrUjJuPZzfKlLdDhsSSsAatyYaAHhTbnNBbBQqmmiFfIxOZzoXAaAaWwMWwzZaAMhrRHHsNnSBboEeXCcxOrAaZzsSRkLqzZQPplFaIiAhHZzwWMmEeWwnplLmMQXDdYsSyWwxHhRrWwoOKhoOltTLHAaDdkgGLkKlquUPpXxdnNrRpXxPbNnbVviIGgBBzFfZIiwWDCcGggJjiIGxXxQGgqQqteENwWnTiIAAaaSsNnTVPpbBFfvtXCcDuUdDdBdhHKOokiWSCcswIcCcCKkoPSspOWwUkKuAaKkoOwhAawWaALlHCcWcJYyKkMmMmhHzZjvVtThHCDYy\u001b[33m...\u001b[0m"
      ]
     },
     "metadata": {},
     "output_type": "display_data"
    }
   ],
   "source": [
    "import scala.io.Source\n",
    "\n",
    "val filename = \"input\"\n",
    "var line = Source.fromFile(filename).getLines.toArray.head"
   ]
  },
  {
   "cell_type": "code",
   "execution_count": 3,
   "metadata": {},
   "outputs": [
    {
     "data": {
      "text/plain": [
       "defined \u001b[32mfunction \u001b[36mreactPolymer\u001b[0m"
      ]
     },
     "metadata": {},
     "output_type": "display_data"
    }
   ],
   "source": [
    "def reactPolymer(originalPolymerString: String) : String = {\n",
    "    var polymerString = originalPolymerString\n",
    "    var i = 0\n",
    "    while (i != polymerString.length-1) {\n",
    "        val charA = polymerString(i)\n",
    "        val charB = polymerString(i+1)\n",
    "        val cancellation = charA.toLower == charB.toLower && charA != charB\n",
    "        if (cancellation) {\n",
    "            polymerString = polymerString.substring(0, i) + polymerString.substring(i+2, polymerString.length)\n",
    "            i = math.max(i-1, 0)\n",
    "        }\n",
    "        else {\n",
    "            i += 1\n",
    "        }\n",
    "    }\n",
    "    return polymerString\n",
    "}"
   ]
  },
  {
   "cell_type": "code",
   "execution_count": 34,
   "metadata": {},
   "outputs": [
    {
     "data": {
      "text/plain": [
       "defined \u001b[32mfunction \u001b[36mremoveCharacter\u001b[0m"
      ]
     },
     "metadata": {},
     "output_type": "display_data"
    }
   ],
   "source": [
    "def removeCharacter(charToRemove: Char, string: String) : String = {\n",
    "    val charString = charToRemove.toString\n",
    "    return string.replaceAll(charString.toLowerCase, \"\").replaceAll(charString.toUpperCase, \"\")\n",
    "}"
   ]
  },
  {
   "cell_type": "code",
   "execution_count": 4,
   "metadata": {},
   "outputs": [
    {
     "data": {
      "text/plain": [
       "\u001b[36mresult\u001b[0m: \u001b[32mString\u001b[0m = \u001b[32m\"YGymTVuuXMOQChQcwfyuPnpBaaqsBHRBMKXszekDYcPXAuxRDBiSoFiaSadcXdzXnKBCfumScJeVMhOBrqUwdNdGUjWOSuXEPIQkvCbuPCfivDKuqChdyqXhBMvSqmhVtkvzxtowrSYrufkpyuMXaFhSomelEfPWduwtybCmptEWuVQttfECMakPLOxxTdrGsBJbCKHKIoMvxMzHEtNDJuqHFxYRfiGfyRtKHfgpKOqrGcxpTqrTIOLiVNzDBwSyCmbYXzJocwkFBQAjTvGCbTXhxJvIOfdHTeUheAKPzLMoWeXHJhblRmFqzSwVfYGJyQaFyTgyjrjIGFQOukLjDzuIqeLKcjCKHPjMenIAFCPbqTgqIWlxsYHLgqqZOdgrldJzXwAnFlqiRTJInjeWYuaCMNkOKzMPwPVlvxUaghSfhJwmYUyXnROEVjmNXbmUdKxWFmOBclaaZmhYlUVQCAsTariffYgpaTxxBZoiGPrLhqxVjmPzLSibJulAUytnFmBxGWkJszMPrkQnWjTDzJQDCGcEESKJreZrMDzXcYNCJfQWCIkMThyEOgUPArJEBTrSlAugZofEXASeCuffOClFuRcqoFifvGKrblDqYDCjNYEXudCdaWoyPOENJDHFCJAkyJPEEYNsMGvrPrsBgUGIwFptJoZRpGnLPxefniNFEnMeYXnZHuYwULAUWApXFZeJxOMyAuebcGjKggnxHlfbIXonHxLWmxVXoDkjRbYVEWgzRwaVGYRETlNzrnOsmGDtgSKBwyiLqNVHzXRNiilTIydYFRPVHNrJHJWMySIDezTuDAJWkWORnIjHpHJOSQgFWkXUxBznlgocEXGcrunlzsebVdHqAECQOzEzqTNpGZpXamygySiRlTJPEyInAApxGDKiFsIXThzmRZTFyQSMBAlbFRgLghrepcwfoAAbfHOvINpQSvdCtfprTjuVFQPCuhRTZejkUifwkOmhvaubiPiJAENBujTGYowISPUSnalWhGErQAfoiocsxdCMbkNbLvRKRnvYhurrxrJBIBDyNaZDpZMRmuXEFiHXSyVkVHSKlAxzPKzQKuGVKoEPsbbFYhOWWtyajZUClljUiLNMQDgmWJGkxAxxosxSvfrLzJVbbGAETgMsBQdYOdbnZhnPmGZOrCeBiRfKrNSFuSNGBRbnjIMQLUbmSuiJgjVHDAWTpnygHOLGvsLYzECrWpNyKEQfpWEsOStNmAtrWSphcQxUbUlVLpkybizyIzsDECPdIqezmoVSKSwnRlivbvqgqBJEzlqkalqEGIPCJBdVxswPhuMdcSELYRdWivEBFXmEEaYcFnvpSMYYhUVZELUnjgEiSFuhsQXUYEGnBcaUbNHQtODNQcXKlpItzyOIKBrxNrafxLTaexbwLKAfgPOlNPXrnzynWSJWLgcNbNQuWJtMRMSoZetSapSALgWuwciOhBQuijDaoEDnuPYoUaXCDAjcQBGWgPxhTLDONc\u001b[33m...\u001b[0m"
      ]
     },
     "metadata": {},
     "output_type": "display_data"
    }
   ],
   "source": [
    "val result = reactPolymer(line)"
   ]
  },
  {
   "cell_type": "code",
   "execution_count": 6,
   "metadata": {},
   "outputs": [
    {
     "name": "stdout",
     "output_type": "stream",
     "text": [
      "9370"
     ]
    },
    {
     "data": {
      "text/plain": []
     },
     "metadata": {},
     "output_type": "display_data"
    }
   ],
   "source": [
    "print(result.length)"
   ]
  },
  {
   "cell_type": "code",
   "execution_count": 33,
   "metadata": {},
   "outputs": [
    {
     "name": "stdout",
     "output_type": "stream",
     "text": [
      "26"
     ]
    },
    {
     "data": {
      "text/plain": [
       "\u001b[36mallChars\u001b[0m: \u001b[32mSet\u001b[0m[\u001b[32mChar\u001b[0m] = \u001b[33mSet\u001b[0m(\n",
       "  \u001b[32m'e'\u001b[0m,\n",
       "  \u001b[32m's'\u001b[0m,\n",
       "  \u001b[32m'x'\u001b[0m,\n",
       "  \u001b[32m'n'\u001b[0m,\n",
       "  \u001b[32m'j'\u001b[0m,\n",
       "  \u001b[32m'y'\u001b[0m,\n",
       "  \u001b[32m't'\u001b[0m,\n",
       "  \u001b[32m'u'\u001b[0m,\n",
       "  \u001b[32m'f'\u001b[0m,\n",
       "  \u001b[32m'a'\u001b[0m,\n",
       "  \u001b[32m'm'\u001b[0m,\n",
       "  \u001b[32m'i'\u001b[0m,\n",
       "  \u001b[32m'v'\u001b[0m,\n",
       "  \u001b[32m'q'\u001b[0m,\n",
       "\u001b[33m...\u001b[0m"
      ]
     },
     "metadata": {},
     "output_type": "display_data"
    }
   ],
   "source": [
    "val allChars: Set[Char] = Set() ++ line.toLowerCase.toCharArray"
   ]
  },
  {
   "cell_type": "code",
   "execution_count": 45,
   "metadata": {},
   "outputs": [
    {
     "data": {
      "text/plain": [
       "\u001b[36mallRemovals\u001b[0m: \u001b[32mList\u001b[0m[\u001b[32mString\u001b[0m] = \u001b[33mList\u001b[0m(\n",
       "  \u001b[32m\"YGymVuuXMOQChQcwfyuPnpBaaqsBHRBMKXszekDYcPXAuxRDBiSoFiaSadcXdzXnKBCfumScJeVMhOBrqUwdNdGUjWOSuXEPIQkvCbuPCfivDKuqChdyqXhBMvSqmhVkvzxowrSYrufkpyuMXaFhSomelEfPWduwybCmpEWuVQfECMakPLOxxdrGsBJbCKHKIoMvxMzHENDJuqHFxYRfiGfyRKHfgpKOqrGcxpqrIOLiVNzDBwSyCmbYXzJocwkFBQAjvGCbXhxJvIOfdHeUheAKPzLMoWeXHJhblRmFqzSwVfYGJyQaFygyjrjIGFQOukLjDzuIqeLKcjCKHPjMenIAFCPbqgqIWlxsYHLgqqZOdgrldJzXwAnFlqiRJInjeWYuaCMNkOKzMPwPVlvxUaghSfhJwmYUyXnROEVjmNXbmUdKxWFmOBclaaZmhYlUVQCAsariffYgpaxxBZoiGPrLhqxVjmPzLSibJulAUynFmBxGWkJszMPrkQnWjDzJQDCGcEESKJreZrMDzXcYNCJfQWCIkMhyEOgUPArJEBrSlAugZofEXASeCuffOClFuRcqoFifvGKrblDqYDCjNYEXudCdaWoyPOENJDHFCJAkyJPEEYNsMGvrPrsBgUGIwFpJoZRpGnLPxefniNFEnMeYXnZHuYwULAUWApXFZeJxOMyAuebcGjKggnxHlfbIXonHxLWmxVXoDkjRbYVEWgzRwaVGYRElNzrnOsmGDgSKBwyiLqNVHzXRNiilIydYFRPVHNrJHJWMySIDezuDAJWkWORnIjHpHJOSQgFWkXUxBznlgocEXGcrunlzsebVdHqAECQOzEzqNpGZpXamygySiRlJPEyInAApxGDKiFsIXhzmRZFyQSMBAlbFRgLghrepcwfoAAbfHOvINpQSvdCfprjuVFQPCuhRZejkUifwkOmhvaubiPiJAENBujGYowISPUSnalWhGErQAfoiocsxdCMbkNbLvRKRnvYhurrxrJBIBDyNaZDpZMRmuXEFiHXSyVkVHSKlAxzPKzQKuGVKoEPsbbFYhOWWyajZUClljUiLNMQDgmWJGkxAxxosxSvfrLzJVbbGAEgMsBQdYOdbnZhnPmGZOrCeBiRfKrNSFuSNGBRbnjIMQLUbmSuiJgjVHDAWpnygHOLGvsLYzECrWpNyKEQfpWEsOSNmArWSphcQxUbUlVLpkybizyIzsDECPdIqezmoVSKSwnRlivbvqgqBJEzlqkalqEGIPCJBdVxswPhuMdcSELYRdWivEBFXmEEaYcFnvpSMYYhUVZELUnjgEiSFuhsQXUYEGnBcaUbNHQODNQcXKlpIzyOIKBrxNrafxLaexbwLKAfgPOlNPXrnzynWSJWLgcNbNQuWJMRM\u001b[33m...\u001b[0m"
      ]
     },
     "metadata": {},
     "output_type": "display_data"
    }
   ],
   "source": [
    "val allRemovals = allChars.map(x => reactPolymer(removeCharacter(x, line))).toList"
   ]
  },
  {
   "cell_type": "code",
   "execution_count": 49,
   "metadata": {},
   "outputs": [
    {
     "name": "stdout",
     "output_type": "stream",
     "text": [
      "6390"
     ]
    },
    {
     "data": {
      "text/plain": [
       "\u001b[36mpolymerLengths\u001b[0m: \u001b[32mList\u001b[0m[\u001b[32mInt\u001b[0m] = \u001b[33mList\u001b[0m(\n",
       "  \u001b[32m9012\u001b[0m,\n",
       "  \u001b[32m9030\u001b[0m,\n",
       "  \u001b[32m6390\u001b[0m,\n",
       "  \u001b[32m9014\u001b[0m,\n",
       "  \u001b[32m8972\u001b[0m,\n",
       "  \u001b[32m8998\u001b[0m,\n",
       "  \u001b[32m8998\u001b[0m,\n",
       "  \u001b[32m8986\u001b[0m,\n",
       "  \u001b[32m9000\u001b[0m,\n",
       "  \u001b[32m8936\u001b[0m,\n",
       "  \u001b[32m9036\u001b[0m,\n",
       "  \u001b[32m8942\u001b[0m,\n",
       "  \u001b[32m8996\u001b[0m,\n",
       "  \u001b[32m8988\u001b[0m,\n",
       "\u001b[33m...\u001b[0m"
      ]
     },
     "metadata": {},
     "output_type": "display_data"
    }
   ],
   "source": [
    "val polymerLengths = allRemovals.map(s => s.length)\n",
    "print(polymerLengths.min)"
   ]
  },
  {
   "cell_type": "code",
   "execution_count": 47,
   "metadata": {},
   "outputs": [
    {
     "data": {
      "text/plain": [
       "\u001b[36mres26\u001b[0m: \u001b[32mInt\u001b[0m = \u001b[32m25\u001b[0m"
      ]
     },
     "metadata": {},
     "output_type": "display_data"
    }
   ],
   "source": [
    "thisChars.size"
   ]
  }
 ],
 "metadata": {
  "kernelspec": {
   "display_name": "Scala 2.11",
   "language": "scala211",
   "name": "scala211"
  },
  "language_info": {
   "codemirror_mode": "text/x-scala",
   "file_extension": ".scala",
   "mimetype": "text/x-scala",
   "name": "scala211",
   "pygments_lexer": "scala",
   "version": "2.11.6"
  }
 },
 "nbformat": 4,
 "nbformat_minor": 2
}
